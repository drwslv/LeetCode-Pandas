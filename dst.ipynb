{
 "cells": [
  {
   "cell_type": "markdown",
   "metadata": {},
   "source": [
    "# Data Structures and Algorithms\n",
    "\n"
   ]
  },
  {
   "cell_type": "code",
   "execution_count": 1,
   "metadata": {},
   "outputs": [],
   "source": [
    "import numpy as np\n",
    "import pandas as pd"
   ]
  },
  {
   "cell_type": "markdown",
   "metadata": {},
   "source": [
    "## GlassDoor"
   ]
  },
  {
   "cell_type": "markdown",
   "metadata": {},
   "source": [
    "### Draw from distribution"
   ]
  },
  {
   "cell_type": "code",
   "execution_count": null,
   "metadata": {},
   "outputs": [
    {
     "data": {
      "image/png": "[encoded data removed]",
      "text/plain": [
       "<Figure size 500x200 with 1 Axes>"
      ]
     },
     "metadata": {},
     "output_type": "display_data"
    }
   ],
   "source": [
    "import random\n",
    "import matplotlib.pyplot as plt\n",
    "\n",
    "rng = random.Random(44)\n",
    "\n",
    "list_array = []\n",
    "for _ in range(1,101):\n",
    "    list_array.append( np.floor(rng.uniform(1,7)) )\n",
    "\n",
    "fig, ax = plt.subplots(figsize=(5,2))\n",
    "ax.hist(list_array, bins=6);\n",
    "\n"
   ]
  },
  {
   "cell_type": "code",
   "execution_count": null,
   "metadata": {},
   "outputs": [
    {
     "data": {
      "image/png": "[encoded data removed]",
      "text/plain": [
       "<Figure size 500x200 with 1 Axes>"
      ]
     },
     "metadata": {},
     "output_type": "display_data"
    }
   ],
   "source": [
    "np.random.seed(2)\n",
    "\n",
    "list_array = []\n",
    "for _ in range(0,100):\n",
    "    list_array.append(np.random.normal(0,1))\n",
    "\n",
    "fig, ax = plt.subplots(1,1,figsize=(5,2))\n",
    "ax.hist(list_array);\n"
   ]
  },
  {
   "cell_type": "markdown",
   "metadata": {},
   "source": [
    "### Split a string"
   ]
  },
  {
   "cell_type": "code",
   "execution_count": null,
   "metadata": {},
   "outputs": [
    {
     "name": "stdout",
     "output_type": "stream",
     "text": [
      "['The', ' quick', ' brown', ' fox', ' jumps', ' over', ' the', ' lazy', ' dog']\n"
     ]
    }
   ],
   "source": [
    "string = 'The quick brown fox jumps over the lazy dog'\n",
    "\n",
    "word = []\n",
    "sentence = []\n",
    "\n",
    "for i in range(0,len(string)):\n",
    "    letter = string[i] # space reached\n",
    "    if letter == ' ':\n",
    "        sentence.append(''.join(word))\n",
    "        word = []\n",
    "    if i == len(string)-1: # last letter of string\n",
    "        word.append(letter)\n",
    "        sentence.append(''.join(word))\n",
    "    else:\n",
    "        word.append(letter)\n",
    "\n",
    "print(sentence)\n"
   ]
  },
  {
   "cell_type": "markdown",
   "metadata": {},
   "source": [
    "### Square root"
   ]
  },
  {
   "cell_type": "code",
   "execution_count": 13,
   "metadata": {},
   "outputs": [],
   "source": [
    "def square_root(number):\n",
    "    if number < 0:\n",
    "        return \"Negative\"\n",
    "    \n",
    "    x_old = number\n",
    "\n",
    "    while True:\n",
    "        x_new = 0.5 * (x_old + number/x_old)\n",
    "        if abs(x_old - x_new) < 1e-4:\n",
    "            break\n",
    "        x_old = x_new\n",
    "\n",
    "    return x_new\n"
   ]
  },
  {
   "cell_type": "code",
   "execution_count": 14,
   "metadata": {},
   "outputs": [
    {
     "data": {
      "text/plain": [
       "2.8284271250498643"
      ]
     },
     "execution_count": 14,
     "metadata": {},
     "output_type": "execute_result"
    }
   ],
   "source": [
    "square_root(8)"
   ]
  },
  {
   "cell_type": "markdown",
   "metadata": {},
   "source": [
    "### Combinations that sum to x"
   ]
  },
  {
   "cell_type": "code",
   "execution_count": 25,
   "metadata": {},
   "outputs": [],
   "source": [
    "def sum_to_x(integers, target):\n",
    "    pairs = []\n",
    "    for i in range(0, len(integers)):\n",
    "        a = integers[i]\n",
    "\n",
    "        for j in range(i+1, len(integers)):\n",
    "            b = integers[j]\n",
    "\n",
    "            if a+b == target:\n",
    "                pairs.append((a,b))\n",
    "\n",
    "    return pairs"
   ]
  },
  {
   "cell_type": "code",
   "execution_count": 40,
   "metadata": {},
   "outputs": [],
   "source": [
    "def sum_to_x_2pointers(integers,target):\n",
    "    integers_sorted = sorted(integers)\n",
    "    pairs = []\n",
    "    i = 0\n",
    "    j = len(integers_sorted)-1\n",
    "\n",
    "    while i < j:\n",
    "        curr_sum = integers_sorted[i] + integers_sorted[j]\n",
    "\n",
    "        if curr_sum == target:\n",
    "            pairs.append((integers_sorted[i],integers_sorted[j]))\n",
    "            i += 1\n",
    "            j -= 1\n",
    "        elif curr_sum < target:\n",
    "            i += 1\n",
    "        elif curr_sum > target:\n",
    "            j -= 1\n",
    "\n",
    "    return pairs"
   ]
  },
  {
   "cell_type": "code",
   "execution_count": 37,
   "metadata": {},
   "outputs": [],
   "source": [
    "integers = [0, 1, 2, 3, 4, 5, 6, 7, 8, 9, 10]\n",
    "target = 8"
   ]
  },
  {
   "cell_type": "code",
   "execution_count": 27,
   "metadata": {},
   "outputs": [
    {
     "data": {
      "text/plain": [
       "[(0, 8), (1, 7), (2, 6), (3, 5)]"
      ]
     },
     "execution_count": 27,
     "metadata": {},
     "output_type": "execute_result"
    }
   ],
   "source": [
    "sum_to_x(integers, target)"
   ]
  },
  {
   "cell_type": "code",
   "execution_count": 41,
   "metadata": {},
   "outputs": [
    {
     "data": {
      "text/plain": [
       "[(0, 8), (1, 7), (2, 6), (3, 5)]"
      ]
     },
     "execution_count": 41,
     "metadata": {},
     "output_type": "execute_result"
    }
   ],
   "source": [
    "sum_to_x_2pointers(integers, target)"
   ]
  },
  {
   "cell_type": "markdown",
   "metadata": {},
   "source": [
    "## Two Pointers"
   ]
  },
  {
   "cell_type": "markdown",
   "metadata": {},
   "source": [
    "### Ex 1\n",
    "\n",
    "Given a string s, return true if it is a palindrome, false otherwise."
   ]
  },
  {
   "cell_type": "code",
   "execution_count": 42,
   "metadata": {},
   "outputs": [],
   "source": [
    "def check_palindrom(s):\n",
    "    left = 0\n",
    "    right = len(s) - 1\n",
    "\n",
    "    while left < right:\n",
    "        if s[left] != s[right]:\n",
    "            return False\n",
    "        \n",
    "        left += 1\n",
    "        right -= 1\n",
    "\n",
    "    return True"
   ]
  },
  {
   "cell_type": "code",
   "execution_count": 45,
   "metadata": {},
   "outputs": [
    {
     "data": {
      "text/plain": [
       "False"
      ]
     },
     "execution_count": 45,
     "metadata": {},
     "output_type": "execute_result"
    }
   ],
   "source": [
    "s = 'abcdcba'\n",
    "s = 'racecar'\n",
    "s = 'blah'\n",
    "\n",
    "check_palindrom(s)"
   ]
  },
  {
   "cell_type": "markdown",
   "metadata": {},
   "source": [
    "### Ex 2\n",
    "\n",
    "Given a sorted array of unique integers and a target integer, return true if there exists a pair of numbers that sum to target, false otherwise. This problem is similar to Two Sum. (In Two Sum, the input is not sorted).\n",
    "\n",
    "For example, given nums = [1, 2, 4, 6, 8, 9, 14, 15] and target = 13, return true because 4 + 9 = 13."
   ]
  },
  {
   "cell_type": "code",
   "execution_count": 48,
   "metadata": {},
   "outputs": [],
   "source": [
    "def sum_to_target(nums, target):\n",
    "    left = 0\n",
    "    right = len(nums) -1\n",
    "\n",
    "    while left < right:\n",
    "        curr_sum = nums[left] + nums[right]\n",
    "        if curr_sum == target:\n",
    "            return True\n",
    "        elif curr_sum < target:\n",
    "            left += 1\n",
    "        elif curr_sum > target:\n",
    "            right -= 1\n",
    "\n",
    "    return False"
   ]
  },
  {
   "cell_type": "code",
   "execution_count": 49,
   "metadata": {},
   "outputs": [
    {
     "data": {
      "text/plain": [
       "True"
      ]
     },
     "execution_count": 49,
     "metadata": {},
     "output_type": "execute_result"
    }
   ],
   "source": [
    "nums = [1, 2, 4, 6, 8, 9, 14, 15]\n",
    "target = 13\n",
    "\n",
    "sum_to_target(nums, target)"
   ]
  },
  {
   "cell_type": "markdown",
   "metadata": {},
   "source": [
    "### Ex 3\n",
    "\n",
    "Given two sorted integer arrays arr1 and arr2, return a new array that combines both of them and is also sorted."
   ]
  },
  {
   "cell_type": "code",
   "execution_count": 53,
   "metadata": {},
   "outputs": [],
   "source": [
    "def combine_sort(arr1, arr2):\n",
    "    ans = []\n",
    "    p1 = p2 = 0\n",
    "\n",
    "    while p1 < len(arr1) and p2 < len(arr2):\n",
    "        if arr1[p1] < arr2[p2]:\n",
    "            ans.append(arr1[p1])\n",
    "            p1 += 1\n",
    "        elif arr1[p1] > arr2[p2]:\n",
    "            ans.append(arr2[p2])\n",
    "            p2 += 1\n",
    "        elif arr1[p1] == arr2[p2]:\n",
    "            ans.append(arr1[p1])\n",
    "            ans.append(arr2[p2])\n",
    "            p1 += 1\n",
    "            p2 += 1\n",
    "\n",
    "    # When above loop finishes, at least one string has run out\n",
    "    # Finish any remainder of strings if unequal length\n",
    "    while p1 < len(arr1):\n",
    "        ans.append(arr1[p1])\n",
    "        p1 += 1\n",
    "\n",
    "    while p2 < len(arr2):\n",
    "        ans.append(arr2[p2])\n",
    "        p2 += 1\n",
    "\n",
    "    return ans"
   ]
  },
  {
   "cell_type": "code",
   "execution_count": 54,
   "metadata": {},
   "outputs": [
    {
     "data": {
      "text/plain": [
       "[1, 3, 4, 5, 6, 7, 20]"
      ]
     },
     "execution_count": 54,
     "metadata": {},
     "output_type": "execute_result"
    }
   ],
   "source": [
    "arr1 = [1, 4, 7, 20]\n",
    "arr2 = [3, 5, 6]\n",
    "\n",
    "combine_sort(arr1, arr2)"
   ]
  },
  {
   "cell_type": "markdown",
   "metadata": {},
   "source": [
    "### Ex 3 - 392. Is Subsequence [E]\n",
    "\n",
    "Given two strings s and t, return true if s is a subsequence of t, or false otherwise.\n",
    "\n",
    "A subsequence of a string is a new string that is formed from the original string by deleting some (can be none) of the characters without disturbing the relative positions of the remaining characters. (i.e., \"ace\" is a subsequence of \"abcde\" while \"aec\" is not).\n",
    "\n"
   ]
  },
  {
   "cell_type": "code",
   "execution_count": 62,
   "metadata": {},
   "outputs": [],
   "source": [
    "# Beats 27.40%\n",
    "class Solution:\n",
    "    def isSubsequence(self, s: str, t: str) -> bool:\n",
    "        i = j = 0\n",
    "\n",
    "        while i < len(s) and j < len(t):\n",
    "            if s[i] == t[j]:\n",
    "                i += 1\n",
    "                j += 1\n",
    "            else:\n",
    "                j += 1\n",
    "\n",
    "        if i == len(s):\n",
    "            return True\n",
    "        else:\n",
    "            return False\n",
    "        \n",
    "        \n"
   ]
  },
  {
   "cell_type": "code",
   "execution_count": 64,
   "metadata": {},
   "outputs": [
    {
     "data": {
      "text/plain": [
       "False"
      ]
     },
     "execution_count": 64,
     "metadata": {},
     "output_type": "execute_result"
    }
   ],
   "source": [
    "s = 'abc'\n",
    "t = 'ahbgdc'\n",
    "t = 'ahbgd'\n",
    "sol = Solution\n",
    "sol.isSubsequence(sol, s,t)"
   ]
  }
 ],
 "metadata": {
  "language_info": {
   "name": "python"
  }
 },
 "nbformat": 4,
 "nbformat_minor": 2
}
