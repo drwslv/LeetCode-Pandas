{
 "cells": [
  {
   "cell_type": "markdown",
   "metadata": {},
   "source": [
    "# Data Structures and Algorithms\n",
    "\n"
   ]
  },
  {
   "cell_type": "code",
   "execution_count": 131,
   "metadata": {},
   "outputs": [],
   "source": [
    "from typing import List\n",
    "from typing import Optional\n",
    "import numpy as np\n",
    "import pandas as pd\n",
    "import statsmodels.api as sm"
   ]
  },
  {
   "cell_type": "markdown",
   "metadata": {},
   "source": [
    "## GlassDoor"
   ]
  },
  {
   "cell_type": "markdown",
   "metadata": {},
   "source": [
    "### Draw from distribution"
   ]
  },
  {
   "cell_type": "code",
   "execution_count": null,
   "metadata": {},
   "outputs": [
    {
     "data": {
      "image/png": "[encoded data removed]",
      "text/plain": [
       "<Figure size 500x200 with 1 Axes>"
      ]
     },
     "metadata": {},
     "output_type": "display_data"
    }
   ],
   "source": [
    "import random\n",
    "import matplotlib.pyplot as plt\n",
    "\n",
    "rng = random.Random(44)\n",
    "\n",
    "list_array = []\n",
    "for _ in range(1,101):\n",
    "    list_array.append( np.floor(rng.uniform(1,7)) )\n",
    "\n",
    "fig, ax = plt.subplots(figsize=(5,2))\n",
    "ax.hist(list_array, bins=6);\n",
    "\n"
   ]
  },
  {
   "cell_type": "code",
   "execution_count": null,
   "metadata": {},
   "outputs": [
    {
     "data": {
      "image/png": "[encoded data removed]",
      "text/plain": [
       "<Figure size 500x200 with 1 Axes>"
      ]
     },
     "metadata": {},
     "output_type": "display_data"
    }
   ],
   "source": [
    "np.random.seed(2)\n",
    "\n",
    "list_array = []\n",
    "for _ in range(0,100):\n",
    "    list_array.append(np.random.normal(0,1))\n",
    "\n",
    "fig, ax = plt.subplots(1,1,figsize=(5,2))\n",
    "ax.hist(list_array);\n"
   ]
  },
  {
   "cell_type": "markdown",
   "metadata": {},
   "source": [
    "### Split a string"
   ]
  },
  {
   "cell_type": "code",
   "execution_count": null,
   "metadata": {},
   "outputs": [
    {
     "name": "stdout",
     "output_type": "stream",
     "text": [
      "['The', ' quick', ' brown', ' fox', ' jumps', ' over', ' the', ' lazy', ' dog']\n"
     ]
    }
   ],
   "source": [
    "string = 'The quick brown fox jumps over the lazy dog'\n",
    "\n",
    "word = []\n",
    "sentence = []\n",
    "\n",
    "for i in range(0,len(string)):\n",
    "    letter = string[i] # space reached\n",
    "    if letter == ' ':\n",
    "        sentence.append(''.join(word))\n",
    "        word = []\n",
    "    if i == len(string)-1: # last letter of string\n",
    "        word.append(letter)\n",
    "        sentence.append(''.join(word))\n",
    "    else:\n",
    "        word.append(letter)\n",
    "\n",
    "print(sentence)\n"
   ]
  },
  {
   "cell_type": "markdown",
   "metadata": {},
   "source": [
    "### Square root"
   ]
  },
  {
   "cell_type": "code",
   "execution_count": 13,
   "metadata": {},
   "outputs": [],
   "source": [
    "def square_root(number):\n",
    "    if number < 0:\n",
    "        return \"Negative\"\n",
    "    \n",
    "    x_old = number\n",
    "\n",
    "    while True:\n",
    "        x_new = 0.5 * (x_old + number/x_old)\n",
    "        if abs(x_old - x_new) < 1e-4:\n",
    "            break\n",
    "        x_old = x_new\n",
    "\n",
    "    return x_new\n"
   ]
  },
  {
   "cell_type": "code",
   "execution_count": 14,
   "metadata": {},
   "outputs": [
    {
     "data": {
      "text/plain": [
       "2.8284271250498643"
      ]
     },
     "execution_count": 14,
     "metadata": {},
     "output_type": "execute_result"
    }
   ],
   "source": [
    "square_root(8)"
   ]
  },
  {
   "cell_type": "markdown",
   "metadata": {},
   "source": [
    "### Combinations that sum to x"
   ]
  },
  {
   "cell_type": "code",
   "execution_count": 25,
   "metadata": {},
   "outputs": [],
   "source": [
    "def sum_to_x(integers, target):\n",
    "    pairs = []\n",
    "    for i in range(0, len(integers)):\n",
    "        a = integers[i]\n",
    "\n",
    "        for j in range(i+1, len(integers)):\n",
    "            b = integers[j]\n",
    "\n",
    "            if a+b == target:\n",
    "                pairs.append((a,b))\n",
    "\n",
    "    return pairs"
   ]
  },
  {
   "cell_type": "code",
   "execution_count": 40,
   "metadata": {},
   "outputs": [],
   "source": [
    "def sum_to_x_2pointers(integers,target):\n",
    "    integers_sorted = sorted(integers)\n",
    "    pairs = []\n",
    "    i = 0\n",
    "    j = len(integers_sorted)-1\n",
    "\n",
    "    while i < j:\n",
    "        curr_sum = integers_sorted[i] + integers_sorted[j]\n",
    "\n",
    "        if curr_sum == target:\n",
    "            pairs.append((integers_sorted[i],integers_sorted[j]))\n",
    "            i += 1\n",
    "            j -= 1\n",
    "        elif curr_sum < target:\n",
    "            i += 1\n",
    "        elif curr_sum > target:\n",
    "            j -= 1\n",
    "\n",
    "    return pairs"
   ]
  },
  {
   "cell_type": "code",
   "execution_count": 37,
   "metadata": {},
   "outputs": [],
   "source": [
    "integers = [0, 1, 2, 3, 4, 5, 6, 7, 8, 9, 10]\n",
    "target = 8"
   ]
  },
  {
   "cell_type": "code",
   "execution_count": 27,
   "metadata": {},
   "outputs": [
    {
     "data": {
      "text/plain": [
       "[(0, 8), (1, 7), (2, 6), (3, 5)]"
      ]
     },
     "execution_count": 27,
     "metadata": {},
     "output_type": "execute_result"
    }
   ],
   "source": [
    "sum_to_x(integers, target)"
   ]
  },
  {
   "cell_type": "code",
   "execution_count": 41,
   "metadata": {},
   "outputs": [
    {
     "data": {
      "text/plain": [
       "[(0, 8), (1, 7), (2, 6), (3, 5)]"
      ]
     },
     "execution_count": 41,
     "metadata": {},
     "output_type": "execute_result"
    }
   ],
   "source": [
    "sum_to_x_2pointers(integers, target)"
   ]
  },
  {
   "cell_type": "markdown",
   "metadata": {},
   "source": [
    "### Bootstrapping"
   ]
  },
  {
   "cell_type": "code",
   "execution_count": 127,
   "metadata": {},
   "outputs": [],
   "source": [
    "person_id = np.linspace(1,1000,1000).reshape(-1,1)\n",
    "education = np.random.normal(5, 50, 1000).reshape(-1,1)\n",
    "error = np.random.normal(0, 50, 1000).reshape(-1,1)\n",
    "income = education + error\n",
    "df = pd.DataFrame(np.concatenate([person_id, income, education], axis=1), columns=['person_id','income','education'])"
   ]
  },
  {
   "cell_type": "code",
   "execution_count": 139,
   "metadata": {},
   "outputs": [
    {
     "name": "stdout",
     "output_type": "stream",
     "text": [
      "                            OLS Regression Results                            \n",
      "==============================================================================\n",
      "Dep. Variable:                 income   R-squared:                       0.518\n",
      "Model:                            OLS   Adj. R-squared:                  0.517\n",
      "Method:                 Least Squares   F-statistic:                     1071.\n",
      "Date:                Mon, 20 Jan 2025   Prob (F-statistic):          3.73e-160\n",
      "Time:                        13:45:00   Log-Likelihood:                -5294.7\n",
      "No. Observations:                1000   AIC:                         1.059e+04\n",
      "Df Residuals:                     998   BIC:                         1.060e+04\n",
      "Df Model:                           1                                         \n",
      "Covariance Type:            nonrobust                                         \n",
      "==============================================================================\n",
      "                 coef    std err          t      P>|t|      [0.025      0.975]\n",
      "------------------------------------------------------------------------------\n",
      "const         -0.7343      1.529     -0.480      0.631      -3.736       2.267\n",
      "education      1.0199      0.031     32.722      0.000       0.959       1.081\n",
      "==============================================================================\n",
      "Omnibus:                        1.524   Durbin-Watson:                   1.951\n",
      "Prob(Omnibus):                  0.467   Jarque-Bera (JB):                1.425\n",
      "Skew:                           0.039   Prob(JB):                        0.490\n",
      "Kurtosis:                       3.168   Cond. No.                         49.2\n",
      "==============================================================================\n",
      "\n",
      "Notes:\n",
      "[1] Standard Errors assume that the covariance matrix of the errors is correctly specified.\n"
     ]
    }
   ],
   "source": [
    "X = sm.add_constant(df[['education']])\n",
    "y = df[['income']]\n",
    "results = sm.OLS(y, X).fit()\n",
    "print(results.summary())\n",
    "# results.params.education"
   ]
  },
  {
   "cell_type": "code",
   "execution_count": 141,
   "metadata": {},
   "outputs": [],
   "source": [
    "params = []\n",
    "df_bootstrap = df.iloc[[ int(np.random.uniform(0,999)) ]]\n",
    "for _ in range(0, 5000): # bootstrap sample count\n",
    "    new_row = df.iloc[[ int(np.random.uniform(0,999)) ]]\n",
    "    df_bootstrap = pd.concat([df_bootstrap, new_row])\n",
    "\n",
    "    X = sm.add_constant(df_bootstrap[['education']])\n",
    "    y = df_bootstrap[['income']]\n",
    "    results = sm.OLS(y, X).fit()\n",
    "    params.append(results.params.education)\n",
    "    \n"
   ]
  },
  {
   "cell_type": "code",
   "execution_count": 143,
   "metadata": {},
   "outputs": [
    {
     "data": {
      "text/plain": [
       "np.float64(0.037864265701535435)"
      ]
     },
     "execution_count": 143,
     "metadata": {},
     "output_type": "execute_result"
    }
   ],
   "source": [
    "# 1000 too small, 500 is close 0.37 vs actual 0.31\n",
    "np.std(params)"
   ]
  },
  {
   "cell_type": "markdown",
   "metadata": {},
   "source": [
    "## Two Pointers"
   ]
  },
  {
   "cell_type": "markdown",
   "metadata": {},
   "source": [
    "### Ex 1\n",
    "\n",
    "Given a string s, return true if it is a palindrome, false otherwise."
   ]
  },
  {
   "cell_type": "code",
   "execution_count": 42,
   "metadata": {},
   "outputs": [],
   "source": [
    "def check_palindrom(s):\n",
    "    left = 0\n",
    "    right = len(s) - 1\n",
    "\n",
    "    while left < right:\n",
    "        if s[left] != s[right]:\n",
    "            return False\n",
    "        \n",
    "        left += 1\n",
    "        right -= 1\n",
    "\n",
    "    return True"
   ]
  },
  {
   "cell_type": "code",
   "execution_count": 45,
   "metadata": {},
   "outputs": [
    {
     "data": {
      "text/plain": [
       "False"
      ]
     },
     "execution_count": 45,
     "metadata": {},
     "output_type": "execute_result"
    }
   ],
   "source": [
    "s = 'abcdcba'\n",
    "s = 'racecar'\n",
    "s = 'blah'\n",
    "\n",
    "check_palindrom(s)"
   ]
  },
  {
   "cell_type": "markdown",
   "metadata": {},
   "source": [
    "### Ex 2\n",
    "\n",
    "Given a sorted array of unique integers and a target integer, return true if there exists a pair of numbers that sum to target, false otherwise. This problem is similar to Two Sum. (In Two Sum, the input is not sorted).\n",
    "\n",
    "For example, given nums = [1, 2, 4, 6, 8, 9, 14, 15] and target = 13, return true because 4 + 9 = 13."
   ]
  },
  {
   "cell_type": "code",
   "execution_count": 48,
   "metadata": {},
   "outputs": [],
   "source": [
    "def sum_to_target(nums, target):\n",
    "    left = 0\n",
    "    right = len(nums) -1\n",
    "\n",
    "    while left < right:\n",
    "        curr_sum = nums[left] + nums[right]\n",
    "        if curr_sum == target:\n",
    "            return True\n",
    "        elif curr_sum < target:\n",
    "            left += 1\n",
    "        elif curr_sum > target:\n",
    "            right -= 1\n",
    "\n",
    "    return False"
   ]
  },
  {
   "cell_type": "code",
   "execution_count": 49,
   "metadata": {},
   "outputs": [
    {
     "data": {
      "text/plain": [
       "True"
      ]
     },
     "execution_count": 49,
     "metadata": {},
     "output_type": "execute_result"
    }
   ],
   "source": [
    "nums = [1, 2, 4, 6, 8, 9, 14, 15]\n",
    "target = 13\n",
    "\n",
    "sum_to_target(nums, target)"
   ]
  },
  {
   "cell_type": "markdown",
   "metadata": {},
   "source": [
    "### Ex 3\n",
    "\n",
    "Given two sorted integer arrays arr1 and arr2, return a new array that combines both of them and is also sorted."
   ]
  },
  {
   "cell_type": "code",
   "execution_count": 53,
   "metadata": {},
   "outputs": [],
   "source": [
    "def combine_sort(arr1, arr2):\n",
    "    ans = []\n",
    "    p1 = p2 = 0\n",
    "\n",
    "    while p1 < len(arr1) and p2 < len(arr2):\n",
    "        if arr1[p1] < arr2[p2]:\n",
    "            ans.append(arr1[p1])\n",
    "            p1 += 1\n",
    "        elif arr1[p1] > arr2[p2]:\n",
    "            ans.append(arr2[p2])\n",
    "            p2 += 1\n",
    "        elif arr1[p1] == arr2[p2]:\n",
    "            ans.append(arr1[p1])\n",
    "            ans.append(arr2[p2])\n",
    "            p1 += 1\n",
    "            p2 += 1\n",
    "\n",
    "    # When above loop finishes, at least one string has run out\n",
    "    # Finish any remainder of strings if unequal length\n",
    "    while p1 < len(arr1):\n",
    "        ans.append(arr1[p1])\n",
    "        p1 += 1\n",
    "\n",
    "    while p2 < len(arr2):\n",
    "        ans.append(arr2[p2])\n",
    "        p2 += 1\n",
    "\n",
    "    return ans"
   ]
  },
  {
   "cell_type": "code",
   "execution_count": 54,
   "metadata": {},
   "outputs": [
    {
     "data": {
      "text/plain": [
       "[1, 3, 4, 5, 6, 7, 20]"
      ]
     },
     "execution_count": 54,
     "metadata": {},
     "output_type": "execute_result"
    }
   ],
   "source": [
    "arr1 = [1, 4, 7, 20]\n",
    "arr2 = [3, 5, 6]\n",
    "\n",
    "combine_sort(arr1, arr2)"
   ]
  },
  {
   "cell_type": "markdown",
   "metadata": {},
   "source": [
    "### Ex 4 - 392. Is Subsequence [E]\n",
    "\n",
    "Given two strings s and t, return true if s is a subsequence of t, or false otherwise.\n",
    "\n",
    "A subsequence of a string is a new string that is formed from the original string by deleting some (can be none) of the characters without disturbing the relative positions of the remaining characters. (i.e., \"ace\" is a subsequence of \"abcde\" while \"aec\" is not).\n",
    "\n"
   ]
  },
  {
   "cell_type": "code",
   "execution_count": 70,
   "metadata": {},
   "outputs": [],
   "source": [
    "# Beats 27.40%\n",
    "class Solution:\n",
    "    def isSubsequence(self, s: str, t: str) -> bool:\n",
    "        i = j = 0\n",
    "\n",
    "        while i < len(s) and j < len(t):\n",
    "            if s[i] == t[j]:\n",
    "                i += 1\n",
    "                j += 1\n",
    "            else:\n",
    "                j += 1\n",
    "\n",
    "        if i == len(s):\n",
    "            return True\n",
    "        else:\n",
    "            return False\n",
    "        \n"
   ]
  },
  {
   "cell_type": "code",
   "execution_count": 72,
   "metadata": {},
   "outputs": [
    {
     "data": {
      "text/plain": [
       "False"
      ]
     },
     "execution_count": 72,
     "metadata": {},
     "output_type": "execute_result"
    }
   ],
   "source": [
    "s = 'abc'\n",
    "t = 'ahbgdc'\n",
    "t = 'ahbgd'\n",
    "sol = Solution()\n",
    "sol.isSubsequence(s,t)"
   ]
  },
  {
   "cell_type": "markdown",
   "metadata": {},
   "source": [
    "### 344. Reverse String [E]\n",
    "\n",
    "Write a function that reverses a string. The input string is given as an array of characters s.\n",
    "\n",
    "You must do this by modifying the input array in-place with O(1) extra memory."
   ]
  },
  {
   "cell_type": "code",
   "execution_count": 83,
   "metadata": {},
   "outputs": [],
   "source": [
    "# Beats 100.00%\n",
    "class Solution:\n",
    "    def reverseString(self, s: List[str]) -> None:\n",
    "        \"\"\"\n",
    "        Do not return anything, modify s in-place instead.\n",
    "        \"\"\"\n",
    "        left = 0\n",
    "        right = len(s) - 1\n",
    "\n",
    "        while left < right:\n",
    "            char_left = s[left]\n",
    "            s[left] = s[right]\n",
    "            s[right] = char_left\n",
    "            left += 1\n",
    "            right -= 1\n",
    "    \n",
    "        print(s)\n"
   ]
  },
  {
   "cell_type": "code",
   "execution_count": 84,
   "metadata": {},
   "outputs": [
    {
     "name": "stdout",
     "output_type": "stream",
     "text": [
      "['o', 'l', 'l', 'e', 'h']\n"
     ]
    }
   ],
   "source": [
    "s = list('hello')\n",
    "sol = Solution()\n",
    "sol.reverseString(s)"
   ]
  },
  {
   "cell_type": "markdown",
   "metadata": {},
   "source": [
    "### 977. Squares of a Sorted Array [E]\n",
    "\n",
    "Given an integer array nums sorted in non-decreasing order, return an array of the squares of each number sorted in non-decreasing order."
   ]
  },
  {
   "cell_type": "code",
   "execution_count": 100,
   "metadata": {},
   "outputs": [],
   "source": [
    "# Beats 11.55%\n",
    "class Solution:\n",
    "    def sortedSquares(self, nums: List[int]) -> List[int]:\n",
    "        nums2 = []\n",
    "        min_val = 10e5\n",
    "\n",
    "        for i in range(len(nums)):\n",
    "            val = nums[i]**2\n",
    "            nums2.append(val)\n",
    "            if val < min_val:\n",
    "                min_index = i\n",
    "                min_val = val\n",
    "\n",
    "        right = min_index\n",
    "        left = right - 1\n",
    "\n",
    "        nums2sort = []\n",
    "        while left >= 0 and right < len(nums):\n",
    "            if nums2[left] < nums2[right]:\n",
    "                nums2sort.append(nums2[left])\n",
    "                left -= 1\n",
    "            elif nums2[left] > nums2[right]:\n",
    "                nums2sort.append(nums2[right])\n",
    "                right += 1\n",
    "            else:\n",
    "                nums2sort.append(nums2[left])\n",
    "                nums2sort.append(nums2[right])\n",
    "                left -= 1\n",
    "                right += 1\n",
    "\n",
    "        while left >= 0:\n",
    "            nums2sort.append(nums2[left])\n",
    "            left -= 1\n",
    "\n",
    "        while right < len(nums):\n",
    "            nums2sort.append(nums2[right])\n",
    "            right += 1\n",
    "\n",
    "        return nums2sort\n"
   ]
  },
  {
   "cell_type": "code",
   "execution_count": 102,
   "metadata": {},
   "outputs": [
    {
     "data": {
      "text/plain": [
       "[4, 9, 9, 49, 121]"
      ]
     },
     "execution_count": 102,
     "metadata": {},
     "output_type": "execute_result"
    }
   ],
   "source": [
    "nums = [-4,-1,0,3,10]\n",
    "nums = [-7,-3,2,3,11]\n",
    "sol = Solution()\n",
    "sol.sortedSquares(nums)"
   ]
  },
  {
   "cell_type": "markdown",
   "metadata": {},
   "source": [
    "## Sliding Window"
   ]
  },
  {
   "cell_type": "markdown",
   "metadata": {},
   "source": [
    "### Ex 1\n",
    "\n",
    "Given an array of positive integers nums and an integer k, find the length of the longest subarray whose sum is less than or equal to k. This is the problem we have been talking about above. We will now formally solve it."
   ]
  },
  {
   "cell_type": "code",
   "execution_count": 105,
   "metadata": {},
   "outputs": [],
   "source": [
    "def longest_subarray(nums, k):\n",
    "    curr = 0\n",
    "    left = 0\n",
    "    max_length = 0\n",
    "    for right in range(0, len(nums)):\n",
    "        curr += nums[right]\n",
    "\n",
    "        while curr > k:\n",
    "            curr -= nums[left]\n",
    "            left += 1\n",
    "\n",
    "        max_length = max(max_length, right - left + 1)\n",
    "\n",
    "    return max_length"
   ]
  },
  {
   "cell_type": "code",
   "execution_count": 106,
   "metadata": {},
   "outputs": [
    {
     "data": {
      "text/plain": [
       "4"
      ]
     },
     "execution_count": 106,
     "metadata": {},
     "output_type": "execute_result"
    }
   ],
   "source": [
    "nums = [3, 1, 2, 7, 4, 2, 1, 1, 5]\n",
    "k = 8\n",
    "longest_subarray(nums, k)\n"
   ]
  },
  {
   "cell_type": "markdown",
   "metadata": {},
   "source": [
    "### Ex 2\n",
    "\n",
    "You are given a binary string s (a string containing only \"0\" and \"1\"). You may choose up to one \"0\" and flip it to a \"1\". What is the length of the longest substring achievable that contains only \"1\"?\n",
    "\n",
    "For example, given s = \"1101100111\", the answer is 5. If you perform the flip at index 2, the string becomes 1111100111."
   ]
  },
  {
   "cell_type": "code",
   "execution_count": 111,
   "metadata": {},
   "outputs": [],
   "source": [
    "# i.e. what is the longest string with only 1 '0'\n",
    "def longest_ones(s):\n",
    "    max_length = zero_cnt = left = 0\n",
    "    for right in range(0,len(s)):\n",
    "        if s[right] == '0':\n",
    "            zero_cnt += 1\n",
    "\n",
    "        while zero_cnt > 1:\n",
    "            if s[left] == '0':\n",
    "                zero_cnt -= 1\n",
    "\n",
    "            left += 1\n",
    "\n",
    "        max_length = max(max_length, right - left + 1)\n",
    "\n",
    "    return max_length"
   ]
  },
  {
   "cell_type": "code",
   "execution_count": 112,
   "metadata": {},
   "outputs": [
    {
     "data": {
      "text/plain": [
       "5"
      ]
     },
     "execution_count": 112,
     "metadata": {},
     "output_type": "execute_result"
    }
   ],
   "source": [
    "s = '1101100111'\n",
    "longest_ones(s)"
   ]
  },
  {
   "cell_type": "markdown",
   "metadata": {},
   "source": [
    "### Ex 3 - 713. Subarray Product Less Than K [M]\n",
    "\n",
    "Given an array of positive integers nums and an integer k, return the number of subarrays where the product of all the elements in the subarray is strictly less than k.\n",
    "\n",
    "For example, given the input nums = [10, 5, 2, 6], k = 100, the answer is 8. The subarrays with products less than k are:\n",
    "\n",
    "[10], [5], [2], [6], [10, 5], [5, 2], [2, 6], [5, 2, 6]\n"
   ]
  },
  {
   "cell_type": "code",
   "execution_count": 145,
   "metadata": {},
   "outputs": [],
   "source": [
    "class Solution:\n",
    "    def numSubarrayProductLessThanK(self, nums: List[int], k: int) -> int:\n",
    "        if k <= 1:\n",
    "            return 0\n",
    "        \n",
    "        left = 0\n",
    "        prod = 1\n",
    "        count = 0\n",
    "\n",
    "        for right in range(0,len(nums)):\n",
    "            prod *= nums[right]\n",
    "\n",
    "            while prod >= k:\n",
    "                prod //= nums[left]\n",
    "                left += 1\n",
    "\n",
    "            count += right - left + 1 # ** if length is 3, then three subarrays end on [right]: length 1, length 2, and length 3\n",
    "\n",
    "        return count\n"
   ]
  },
  {
   "cell_type": "code",
   "execution_count": 146,
   "metadata": {},
   "outputs": [
    {
     "data": {
      "text/plain": [
       "8"
      ]
     },
     "execution_count": 146,
     "metadata": {},
     "output_type": "execute_result"
    }
   ],
   "source": [
    "nums = [10, 5, 2, 6]\n",
    "k = 100\n",
    "sol = Solution()\n",
    "sol.numSubarrayProductLessThanK(nums, k)"
   ]
  },
  {
   "cell_type": "markdown",
   "metadata": {},
   "source": [
    "### Ex 4\n",
    "\n",
    "Given an integer array nums and an integer k, find the sum of the subarray with the largest sum whose length is k."
   ]
  },
  {
   "cell_type": "code",
   "execution_count": 150,
   "metadata": {},
   "outputs": [],
   "source": [
    "def largest_sum(nums, k):\n",
    "    curr = 0\n",
    "    max_sum = 0\n",
    "\n",
    "    # Build first window\n",
    "    for right in range(0,k):\n",
    "        curr += nums[right]\n",
    "\n",
    "    max_sum = curr\n",
    "\n",
    "    # Update window\n",
    "    left = 0\n",
    "    for right in range(k, len(nums)):\n",
    "        curr += nums[right]\n",
    "        curr -= nums[left]\n",
    "        left += 1\n",
    "\n",
    "        max_sum = max(max_sum, curr)\n",
    "\n",
    "    return max_sum\n"
   ]
  },
  {
   "cell_type": "code",
   "execution_count": 151,
   "metadata": {},
   "outputs": [],
   "source": [
    "def largest_sum(nums, k):\n",
    "    curr = 0\n",
    "    max_sum = 0\n",
    "\n",
    "    # Build first window\n",
    "    for right in range(0,k):\n",
    "        curr += nums[right]\n",
    "\n",
    "    max_sum = curr\n",
    "\n",
    "    # Update window\n",
    "    left = 0\n",
    "    for right in range(k, len(nums)):\n",
    "        curr += nums[right] - nums[right - k]\n",
    "        left += 1\n",
    "\n",
    "        max_sum = max(max_sum, curr)\n",
    "\n",
    "    return max_sum"
   ]
  },
  {
   "cell_type": "code",
   "execution_count": 152,
   "metadata": {},
   "outputs": [
    {
     "data": {
      "text/plain": [
       "18"
      ]
     },
     "execution_count": 152,
     "metadata": {},
     "output_type": "execute_result"
    }
   ],
   "source": [
    "nums = [3, -1, 4, 12, -8, 5, 6]\n",
    "k = 4\n",
    "largest_sum(nums, k)"
   ]
  },
  {
   "cell_type": "markdown",
   "metadata": {},
   "source": [
    "### 643. Maximum Average Subarray I [E]\n",
    "\n",
    "You are given an integer array nums consisting of n elements, and an integer k.\n",
    "\n",
    "Find a contiguous subarray whose length is equal to k that has the maximum average value and return this value. Any answer with a calculation error less than 10-5 will be accepted."
   ]
  },
  {
   "cell_type": "code",
   "execution_count": 166,
   "metadata": {},
   "outputs": [],
   "source": [
    "# Beats 50.87 %\n",
    "class Solution:\n",
    "    def findMaxAverage(self, nums: List[int], k: int) -> float:\n",
    "        if k < 1:\n",
    "            return 0\n",
    "        \n",
    "        curr_sum = 0\n",
    "        # Build initial window\n",
    "        for right in range(0,k):\n",
    "            curr_sum += nums[right]\n",
    "\n",
    "        max_avg = curr_sum/k\n",
    "\n",
    "        for right in range(k, len(nums)):\n",
    "            curr_sum += nums[right] - nums[right-k]\n",
    "\n",
    "            max_avg = max(max_avg, curr_sum/k)\n",
    "\n",
    "        return max_avg\n"
   ]
  },
  {
   "cell_type": "code",
   "execution_count": 169,
   "metadata": {},
   "outputs": [
    {
     "data": {
      "text/plain": [
       "5.0"
      ]
     },
     "execution_count": 169,
     "metadata": {},
     "output_type": "execute_result"
    }
   ],
   "source": [
    "nums = [1,12,-5,-6,50,3]\n",
    "k = 4\n",
    "nums = [5]\n",
    "k = 1\n",
    "sol = Solution()\n",
    "sol.findMaxAverage(nums, k)"
   ]
  },
  {
   "cell_type": "markdown",
   "metadata": {},
   "source": [
    "### 1004. Max Consecutive Ones III [M]\n",
    "\n",
    "Given a binary array nums and an integer k, return the maximum number of consecutive 1's in the array if you can flip at most k 0's.\n"
   ]
  },
  {
   "cell_type": "code",
   "execution_count": 182,
   "metadata": {},
   "outputs": [],
   "source": [
    "# Beats 61.52%\n",
    "class Solution:\n",
    "    def longestOnes(self, nums: List[int], k: int) -> int:\n",
    "        if k < 1:\n",
    "            return 0\n",
    "        \n",
    "        zero_cnt = 0\n",
    "        left = 0\n",
    "        max_length = 0\n",
    "\n",
    "        for right in range(0,len(nums)):\n",
    "            if nums[right] == 0:\n",
    "                zero_cnt += 1\n",
    "\n",
    "            while zero_cnt > k:\n",
    "                if nums[left] == 0:\n",
    "                    zero_cnt -= 1\n",
    "                left += 1\n",
    "\n",
    "            max_length = max(max_length, right - left + 1)\n",
    "                    \n",
    "        return max_length\n",
    "    \n"
   ]
  },
  {
   "cell_type": "code",
   "execution_count": 181,
   "metadata": {},
   "outputs": [
    {
     "data": {
      "text/plain": [
       "10"
      ]
     },
     "execution_count": 181,
     "metadata": {},
     "output_type": "execute_result"
    }
   ],
   "source": [
    "nums = [1,1,1,0,0,0,1,1,1,1,0]\n",
    "k = 2\n",
    "nums = [0,0,1,1,0,0,1,1,1,0,1,1,0,0,0,1,1,1,1]\n",
    "k = 3\n",
    "sol = Solution()\n",
    "sol.longestOnes(nums, k)"
   ]
  },
  {
   "cell_type": "markdown",
   "metadata": {},
   "source": [
    "## Prefix Sum"
   ]
  },
  {
   "cell_type": "markdown",
   "metadata": {},
   "source": [
    "### Ex 1\n",
    "\n",
    "Given an integer array nums, an array queries where queries[i] = [x, y] and an integer limit, return a boolean array that represents the answer to each query. A query is true if the sum of the subarray from x to y is less than limit, or false otherwise.\n",
    "\n",
    "* For example, given nums = [1, 6, 3, 2, 7, 2], queries = [[0, 3], [2, 5], [2, 4]], and limit = 13, the answer is [true, false, true]. For each query, the subarray sums are [12, 14, 12]."
   ]
  },
  {
   "cell_type": "code",
   "execution_count": 211,
   "metadata": {},
   "outputs": [],
   "source": [
    "def queries_answer(nums, queries, limit):\n",
    "    ans = []\n",
    "    prefix = [0] * len(nums)\n",
    "    prefix[0] = nums[0]\n",
    "    for i in range(1,len(nums)):\n",
    "        prefix[i] = prefix[i-1] + nums[i]\n",
    "\n",
    "    for x, y in queries:\n",
    "        ans.append(prefix[y] - prefix[x] + nums[x] < limit)\n",
    "\n",
    "    return ans\n",
    "\n"
   ]
  },
  {
   "cell_type": "code",
   "execution_count": 212,
   "metadata": {},
   "outputs": [
    {
     "data": {
      "text/plain": [
       "[True, False, True]"
      ]
     },
     "execution_count": 212,
     "metadata": {},
     "output_type": "execute_result"
    }
   ],
   "source": [
    "nums = [1, 6, 3, 2, 7, 2]\n",
    "queries = [[0, 3], [2, 5], [2, 4]]\n",
    "limit = 13\n",
    "queries_answer(nums, queries, limit)"
   ]
  },
  {
   "cell_type": "markdown",
   "metadata": {},
   "source": [
    "### Ex 2 - 2270. Number of Ways to Split Array [M]\n",
    "\n",
    "You are given a 0-indexed integer array nums of length n.\n",
    "\n",
    "nums contains a valid split at index i if the following are true:\n",
    "\n",
    "The sum of the first i + 1 elements is greater than or equal to the sum of the last n - i - 1 elements.\n",
    "There is at least one element to the right of i. That is, 0 <= i < n - 1.\n",
    "Return the number of valid splits in nums."
   ]
  },
  {
   "cell_type": "code",
   "execution_count": 213,
   "metadata": {},
   "outputs": [],
   "source": [
    "# Beats 14.81%\n",
    "class Solution:\n",
    "    def waysToSplitArray(self, nums: List[int]) -> int:\n",
    "        if len(nums) == 0:\n",
    "            return 0\n",
    "\n",
    "        prefix = [0] * len(nums)\n",
    "        prefix[0] = nums[0]\n",
    "        for i in range(1,len(nums)):\n",
    "            prefix[i] = prefix[i-1] + nums[i]\n",
    "\n",
    "        count = 0\n",
    "\n",
    "        for i in range(0,len(nums)-1):\n",
    "            left_sum = prefix[i]\n",
    "            right_sum = prefix[len(nums)-1] - left_sum\n",
    "            if left_sum >= right_sum:\n",
    "                count +=1\n",
    "\n",
    "        return count\n",
    "    "
   ]
  },
  {
   "cell_type": "code",
   "execution_count": 215,
   "metadata": {},
   "outputs": [
    {
     "data": {
      "text/plain": [
       "2"
      ]
     },
     "execution_count": 215,
     "metadata": {},
     "output_type": "execute_result"
    }
   ],
   "source": [
    "nums = [10,4,-8,7]\n",
    "nums = [2,3,1,0]\n",
    "sol = Solution()\n",
    "sol.waysToSplitArray(nums)"
   ]
  },
  {
   "cell_type": "markdown",
   "metadata": {},
   "source": [
    "### 1480. Running Sum of 1d Array [E]\n",
    "\n",
    "Given an array nums. We define a running sum of an array as runningSum[i] = sum(nums[0]…nums[i]).\n",
    "\n",
    "Return the running sum of nums."
   ]
  },
  {
   "cell_type": "code",
   "execution_count": 239,
   "metadata": {},
   "outputs": [],
   "source": [
    "class Solution:\n",
    "    def runningSum(self, nums: List[int]) -> List[int]:\n",
    "        prefix = [0] * len(nums)\n",
    "        prefix[0] = nums[0]\n",
    "        for i in range(1,len(nums)):\n",
    "            prefix[i] = prefix[i-1] + nums[i]\n",
    "\n",
    "        return prefix"
   ]
  },
  {
   "cell_type": "code",
   "execution_count": 240,
   "metadata": {},
   "outputs": [
    {
     "data": {
      "text/plain": [
       "[-100]"
      ]
     },
     "execution_count": 240,
     "metadata": {},
     "output_type": "execute_result"
    }
   ],
   "source": [
    "nums = [1,2,3,4]\n",
    "nums = [-100]\n",
    "sol = Solution()\n",
    "sol.runningSum(nums)"
   ]
  },
  {
   "cell_type": "markdown",
   "metadata": {},
   "source": [
    "### 1413. Minimum Value to Get Positive Step by Step Sum [E]\n",
    "\n",
    "Given an array of integers nums, you start with an initial positive value startValue. (startValue >= 1)\n",
    "\n",
    "In each iteration, you calculate the step by step sum of startValue plus elements in nums (from left to right).\n",
    "\n",
    "Return the minimum positive value of startValue such that the step by step sum is never less than 1."
   ]
  },
  {
   "cell_type": "code",
   "execution_count": 254,
   "metadata": {},
   "outputs": [],
   "source": [
    "# Beats 100%\n",
    "class Solution:\n",
    "    def minStartValue(self, nums: List[int]) -> int:\n",
    "        prefix = [0] * len(nums)\n",
    "        prefix[0] = nums[0]\n",
    "        for i in range(1,len(nums)):\n",
    "            prefix[i] = prefix[i-1] + nums[i]\n",
    "        \n",
    "        minValue = min(prefix)\n",
    "\n",
    "        if minValue < 1:\n",
    "            startValue = 1 - minValue\n",
    "        else:\n",
    "            startValue = 1\n",
    "\n",
    "        return startValue"
   ]
  },
  {
   "cell_type": "code",
   "execution_count": 255,
   "metadata": {},
   "outputs": [
    {
     "data": {
      "text/plain": [
       "1"
      ]
     },
     "execution_count": 255,
     "metadata": {},
     "output_type": "execute_result"
    }
   ],
   "source": [
    "nums = [-3,2,-3,4,2]\n",
    "nums = [1,2]\n",
    "nums = [1,-2,-3]\n",
    "nums = [-100]\n",
    "nums = [2,3,5,-5,-1]\n",
    "sol = Solution()\n",
    "sol.minStartValue(nums)"
   ]
  },
  {
   "cell_type": "markdown",
   "metadata": {},
   "source": [
    "### 2090. K Radius Subarray Averages [M]\n",
    "\n",
    "You are given a 0-indexed array nums of n integers, and an integer k.\n",
    "\n",
    "The k-radius average for a subarray of nums centered at some index i with the radius k is the average of all elements in nums between the indices i - k and i + k (inclusive). If there are less than k elements before or after the index i, then the k-radius average is -1.\n",
    "\n",
    "Build and return an array avgs of length n where avgs[i] is the k-radius average for the subarray centered at index i.\n",
    "\n",
    "The average of x elements is the sum of the x elements divided by x, using integer division. The integer division truncates toward zero, which means losing its fractional part.\n",
    "\n",
    "* For example, the average of four elements 2, 3, 1, and 5 is (2 + 3 + 1 + 5) / 4 = 11 / 4 = 2.75, which truncates to 2."
   ]
  },
  {
   "cell_type": "code",
   "execution_count": 271,
   "metadata": {},
   "outputs": [],
   "source": [
    "# Beats 48.59%\n",
    "class Solution:\n",
    "    def getAverages(self, nums: List[int], k: int) -> List[int]:\n",
    "        win_size = 2*k + 1\n",
    "        avgs = [-1] * len(nums)\n",
    "        prefix = [0] * len(nums)\n",
    "        for i in range(0,len(nums)):\n",
    "            prefix[i] = prefix[i-1] + nums[i]\n",
    "\n",
    "        for i in range(k,len(nums)-k):\n",
    "        # sum from i-k to i+k\n",
    "            avgs[i] = (prefix[i+k] - prefix[i-k] + nums[i-k])//win_size\n",
    "\n",
    "        return avgs\n"
   ]
  },
  {
   "cell_type": "code",
   "execution_count": 273,
   "metadata": {},
   "outputs": [
    {
     "data": {
      "text/plain": [
       "[-1]"
      ]
     },
     "execution_count": 273,
     "metadata": {},
     "output_type": "execute_result"
    }
   ],
   "source": [
    "nums = [7,4,3,9,1,8,5,2,6]\n",
    "k = 3\n",
    "nums = [100000]\n",
    "k = 0\n",
    "nums = [8]\n",
    "k = 100000\n",
    "sol = Solution()\n",
    "sol.getAverages(nums, k)"
   ]
  },
  {
   "cell_type": "markdown",
   "metadata": {},
   "source": [
    "## Bonus: Two Pointers"
   ]
  },
  {
   "cell_type": "markdown",
   "metadata": {},
   "source": [
    "### 557. Reverse Words in a String III [E]\n",
    "\n",
    "Given a string s, reverse the order of characters in each word within a sentence while still preserving whitespace and initial word order."
   ]
  },
  {
   "cell_type": "code",
   "execution_count": 314,
   "metadata": {},
   "outputs": [],
   "source": [
    "# Beats 5.05%\n",
    "# With lists\n",
    "class Solution:\n",
    "    def reverseWords(self, s: str) -> str:\n",
    "        word = []\n",
    "        sentence = []\n",
    "        for i in range(0,len(s)):\n",
    "            if s[i] == ' ' or i == len(s)-1: # if we hit a space or last char\n",
    "                if i == len(s)-1: # if end of entire string, append last letter to current word\n",
    "                    word.append(s[i])\n",
    "                # reverse word\n",
    "                for j in range(len(word)-1, -1, -1):\n",
    "                    sentence.append(word[j])\n",
    "                # add space if space is delimiter\n",
    "                if s[i] == ' ':\n",
    "                    sentence.append(' ')\n",
    "                # reset word\n",
    "                word = []\n",
    "            else:\n",
    "                word.append(s[i])\n",
    "\n",
    "        return ''.join(sentence)"
   ]
  },
  {
   "cell_type": "code",
   "execution_count": 319,
   "metadata": {},
   "outputs": [],
   "source": [
    "# Beats 5.05%\n",
    "# Two pointers\n",
    "class Solution:\n",
    "    def reverseWords(self, s: str) -> str:\n",
    "        sentence = []\n",
    "        for i in range(0,len(s)):\n",
    "            if s[i] == ' ':\n",
    "                j = i-1\n",
    "                while s[j] != ' ' and j != -1:\n",
    "                    sentence.append(s[j])\n",
    "                    j -= 1\n",
    "\n",
    "                sentence.append(' ')\n",
    "            \n",
    "            elif i == len(s)-1:\n",
    "                j = i\n",
    "                while s[j] != ' ' and j != -1:\n",
    "                    sentence.append(s[j])\n",
    "                    j -=1\n",
    "\n",
    "        return ''.join(sentence)\n",
    "\n"
   ]
  },
  {
   "cell_type": "code",
   "execution_count": 320,
   "metadata": {},
   "outputs": [
    {
     "data": {
      "text/plain": [
       "'ehhhhhheh'"
      ]
     },
     "execution_count": 320,
     "metadata": {},
     "output_type": "execute_result"
    }
   ],
   "source": [
    "s = \"Let's take LeetCode contest\"\n",
    "s = \"hehhhhhhe\"\n",
    "sol = Solution()\n",
    "sol.reverseWords(s)"
   ]
  },
  {
   "cell_type": "markdown",
   "metadata": {},
   "source": [
    "### 917. Reverse Only Letters [E]\n",
    "\n",
    "Given a string s, reverse the string according to the following rules:\n",
    "\n",
    "* All the characters that are not English letters remain in the same position.\n",
    "\n",
    "* All the English letters (lowercase or uppercase) should be reversed.\n",
    "\n",
    "Return s after reversing it."
   ]
  },
  {
   "cell_type": "code",
   "execution_count": 334,
   "metadata": {},
   "outputs": [],
   "source": [
    "# Beats 100%\n",
    "class Solution:\n",
    "    def reverseOnlyLetters(self, s: str) -> str:\n",
    "        s_list = list(s)\n",
    "        left = 0\n",
    "        right = len(s)-1\n",
    "\n",
    "        while left < right:\n",
    "\n",
    "            while s_list[left].isalpha() == False and left < right:\n",
    "                left += 1\n",
    "\n",
    "            while s_list[right].isalpha() == False and left < right:\n",
    "                right -= 1\n",
    "\n",
    "            s_list[left], s_list[right] = s_list[right], s_list[left]\n",
    "\n",
    "            left += 1\n",
    "            right -= 1\n",
    "                                                            \n",
    "        return ''.join(s_list)\n",
    "            "
   ]
  },
  {
   "cell_type": "code",
   "execution_count": 336,
   "metadata": {},
   "outputs": [
    {
     "data": {
      "text/plain": [
       "'h'"
      ]
     },
     "execution_count": 336,
     "metadata": {},
     "output_type": "execute_result"
    }
   ],
   "source": [
    "s = \"ab-cd\"\n",
    "s = \"a-bC-dEf-ghIj\"\n",
    "s = \"Test1ng-Leet=code-Q!\"\n",
    "s = \"h\"\n",
    "sol = Solution()\n",
    "sol.reverseOnlyLetters(s)\n"
   ]
  },
  {
   "cell_type": "markdown",
   "metadata": {},
   "source": [
    "### 2540. Minimum Common Value [E]\n",
    "\n",
    "Given two integer arrays nums1 and nums2, sorted in non-decreasing order, return the minimum integer common to both arrays. If there is no common integer amongst nums1 and nums2, return -1.\n",
    "\n",
    "Note that an integer is said to be common to nums1 and nums2 if both arrays have at least one occurrence of that integer."
   ]
  },
  {
   "cell_type": "code",
   "execution_count": 413,
   "metadata": {},
   "outputs": [],
   "source": [
    "# Beats 11.58% \n",
    "class Solution:\n",
    "    def getCommon(self, nums1: List[int], nums2: List[int]) -> int:\n",
    "        i = j = 0\n",
    "        min_com = float('inf')\n",
    "        while i < len(nums1) and j < len(nums2):\n",
    "            if nums1[i] == nums2[j]:\n",
    "                min_com = min(min_com, nums1[i])\n",
    "                i += 1\n",
    "                j += 1\n",
    "            elif nums1[i] > nums2[j]:\n",
    "                j += 1\n",
    "            elif nums1[i] < nums2[j]:\n",
    "                i += 1\n",
    "            \n",
    "        return -1 if min_com == float('inf') else min_com"
   ]
  },
  {
   "cell_type": "code",
   "execution_count": 414,
   "metadata": {},
   "outputs": [
    {
     "data": {
      "text/plain": [
       "2"
      ]
     },
     "execution_count": 414,
     "metadata": {},
     "output_type": "execute_result"
    }
   ],
   "source": [
    "nums1 = [1,2,3]\n",
    "nums2 = [2,4]\n",
    "nums1 = [1,2,3,6]\n",
    "nums2 = [2,3,4,5]\n",
    "sol = Solution()\n",
    "sol.getCommon(nums1,nums2)"
   ]
  },
  {
   "cell_type": "markdown",
   "metadata": {},
   "source": [
    "### 283. Move Zeroes [E]\n",
    "\n",
    "Given an integer array nums, move all 0's to the end of it while maintaining the relative order of the non-zero elements.\n",
    "\n",
    "Note that you must do this in-place without making a copy of the array."
   ]
  },
  {
   "cell_type": "code",
   "execution_count": 165,
   "metadata": {},
   "outputs": [],
   "source": [
    "# By copying\n",
    "class Solution:\n",
    "    def moveZeroes(self, nums: List[int]) -> None:\n",
    "        \"\"\"\n",
    "        Do not return anything, modify nums in-place instead.\n",
    "        \"\"\"\n",
    "        nums2 = [0] * len(nums)\n",
    "        i = 0\n",
    "\n",
    "        for left in range(0,len(nums)):\n",
    "            if nums[left] != 0:\n",
    "               nums2[i] = nums[left]\n",
    "               i += 1\n",
    "\n",
    "        for j in range(0,len(nums)):\n",
    "            nums[j] = nums2[j]\n",
    "\n",
    "        "
   ]
  },
  {
   "cell_type": "code",
   "execution_count": 184,
   "metadata": {},
   "outputs": [],
   "source": [
    "# Modifying in place\n",
    "\n",
    "# 0 0 0 1   1 0 0 0\n",
    "# L     R   R     L\n",
    "\n",
    "# 1 1 1 1\n",
    "# L\n",
    "# R\n",
    "\n",
    "# Beats 5%\n",
    "class Solution:\n",
    "    def moveZeroes(self, nums: List[int]) -> None:\n",
    "        \"\"\"\n",
    "        Do not return anything, modify nums in-place instead.\n",
    "        \"\"\"\n",
    "        for left in range(0,len(nums)):\n",
    "            # Move right to next non-zero\n",
    "            right = left\n",
    "            while nums[right] == 0:\n",
    "                right += 1\n",
    "                if right == len(nums):\n",
    "                    break\n",
    "            \n",
    "            # If left is 0, swap with right\n",
    "            if nums[left] == 0 and right < len(nums):\n",
    "                nums[left], nums[right] = nums[right], nums[left]\n",
    "\n"
   ]
  },
  {
   "cell_type": "code",
   "execution_count": 187,
   "metadata": {},
   "outputs": [],
   "source": [
    "nums = [0,1,0,3,12]\n",
    "nums = [0]\n",
    "nums = [1,0,1]\n",
    "sol = Solution()\n",
    "sol.moveZeroes(nums)"
   ]
  },
  {
   "cell_type": "code",
   "execution_count": 188,
   "metadata": {},
   "outputs": [
    {
     "data": {
      "text/plain": [
       "[1, 1, 0]"
      ]
     },
     "execution_count": 188,
     "metadata": {},
     "output_type": "execute_result"
    }
   ],
   "source": [
    "nums"
   ]
  },
  {
   "cell_type": "markdown",
   "metadata": {},
   "source": [
    "### 2000. Reverse Prefix of Word [E]\n",
    "\n",
    "Given a 0-indexed string word and a character ch, reverse the segment of word that starts at index 0 and ends at the index of the first occurrence of ch (inclusive). If the character ch does not exist in word, do nothing.\n",
    "\n",
    "For example, if word = \"abcdefd\" and ch = \"d\", then you should reverse the segment that starts at 0 and ends at 3 (inclusive). The resulting string will be \"dcbaefd\".\n",
    "Return the resulting string."
   ]
  },
  {
   "cell_type": "code",
   "execution_count": 221,
   "metadata": {},
   "outputs": [],
   "source": [
    "# Beats 100%\n",
    "class Solution:\n",
    "    def reversePrefix(self, word: str, ch: str) -> str:\n",
    "        rev_string = []\n",
    "\n",
    "        for i in range(len(word)):\n",
    "            if word[i] == ch:\n",
    "                for j in range(i,-1,-1):\n",
    "                    rev_string.append(word[j])\n",
    "\n",
    "                ans = ''.join(rev_string) + word[i+1:len(word)]\n",
    "                return ans\n",
    "                \n",
    "        return word\n",
    "    "
   ]
  },
  {
   "cell_type": "code",
   "execution_count": 222,
   "metadata": {},
   "outputs": [
    {
     "data": {
      "text/plain": [
       "'zxyxxe'"
      ]
     },
     "execution_count": 222,
     "metadata": {},
     "output_type": "execute_result"
    }
   ],
   "source": [
    "word = \"abcdefd\"\n",
    "ch = \"d\"\n",
    "word = \"xyxzxe\"\n",
    "ch = \"z\"\n",
    "# word = \"abcd\"\n",
    "# ch = \"z\"\n",
    "sol = Solution()\n",
    "sol.reversePrefix(word, ch)"
   ]
  },
  {
   "cell_type": "markdown",
   "metadata": {},
   "source": [
    "## Bonus: Sliding Window"
   ]
  },
  {
   "cell_type": "markdown",
   "metadata": {},
   "source": [
    "### 209. Minimum Size Subarray Sum [M]\n",
    "\n",
    "Given an array of positive integers nums and a positive integer target, return the minimal length of a \n",
    "subarray whose sum is greater than or equal to target. If there is no such subarray, return 0 instead.\n",
    "\n"
   ]
  },
  {
   "cell_type": "code",
   "execution_count": 388,
   "metadata": {},
   "outputs": [],
   "source": [
    "# Beats 12.73\n",
    "class Solution:\n",
    "    def minSubArrayLen(self, target: int, nums: List[int]) -> int:\n",
    "\n",
    "        prefix = [0] * len(nums)\n",
    "        prefix[0] = nums[0]\n",
    "        for i in range(1, len(nums)):\n",
    "            prefix[i] = prefix[i-1] + nums[i]\n",
    "        \n",
    "        left = 0\n",
    "        min_length = len(nums)\n",
    "        sol_found = 0\n",
    "        for right in range(0, len(nums)):\n",
    "            curr = prefix[right] - prefix[left] + nums[left]\n",
    "\n",
    "            while curr >= target and left < right:\n",
    "                sol_found = 1\n",
    "                min_length = min(min_length, right - left + 1)\n",
    "                left += 1\n",
    "                curr = prefix[right] - prefix[left] + nums[left]\n",
    "\n",
    "            if curr >= target: # in case missed last one because left == right\n",
    "                sol_found = 1\n",
    "                min_length = min(min_length, right - left + 1)\n",
    "\n",
    "        if sol_found == 0:\n",
    "            return 0\n",
    "\n",
    "        return min_length\n",
    "            \n",
    "                \n",
    "\n"
   ]
  },
  {
   "cell_type": "code",
   "execution_count": 389,
   "metadata": {},
   "outputs": [
    {
     "data": {
      "text/plain": [
       "0"
      ]
     },
     "execution_count": 389,
     "metadata": {},
     "output_type": "execute_result"
    }
   ],
   "source": [
    "# target = 7\n",
    "# nums = [2,3,1,2,4,3]\n",
    "# target = 4\n",
    "# nums = [1,4,4]\n",
    "target = 11\n",
    "nums = [1,1,1,1,1,1,1,1]\n",
    "sol = Solution()\n",
    "sol.minSubArrayLen(target, nums)"
   ]
  },
  {
   "cell_type": "markdown",
   "metadata": {},
   "source": [
    "### 1456. Maximum Number of Vowels in a Substring of Given Length [M]\n",
    "\n",
    "Given a string s and an integer k, return the maximum number of vowel letters in any substring of s with length k.\n",
    "\n",
    "Vowel letters in English are 'a', 'e', 'i', 'o', and 'u'."
   ]
  },
  {
   "cell_type": "code",
   "execution_count": 191,
   "metadata": {},
   "outputs": [],
   "source": [
    "# k = 3\n",
    "# _ _ _ _ _\n",
    "# L   R\n",
    "\n",
    "# Beats 71.24%\n",
    "class Solution:\n",
    "    def maxVowels(self, s: str, k: int) -> int:\n",
    "        vset = 'aeiou'\n",
    "        vcount = 0\n",
    "        for right in range(0,k): # first set of k\n",
    "            if s[right] in vset:\n",
    "                vcount += 1\n",
    "\n",
    "        vmax = vcount\n",
    "\n",
    "        left = 0\n",
    "        for right in range(k, len(s)):\n",
    "            if s[right] in vset: # add right vowel\n",
    "                vcount += 1\n",
    "\n",
    "            if s[left] in vset: # remove left vowel\n",
    "                vcount -= 1\n",
    "\n",
    "            left += 1\n",
    "            vmax = max(vmax, vcount)\n",
    "\n",
    "        return vmax\n"
   ]
  },
  {
   "cell_type": "code",
   "execution_count": 194,
   "metadata": {},
   "outputs": [
    {
     "data": {
      "text/plain": [
       "2"
      ]
     },
     "execution_count": 194,
     "metadata": {},
     "output_type": "execute_result"
    }
   ],
   "source": [
    "s = \"abciiidef\"\n",
    "k = 3\n",
    "s = \"aeiou\"\n",
    "k = 2\n",
    "s = \"leetcode\"\n",
    "k = 3\n",
    "sol = Solution()\n",
    "sol.maxVowels(s, k)"
   ]
  },
  {
   "cell_type": "markdown",
   "metadata": {},
   "source": [
    "## Bonus: Prefix Sum"
   ]
  },
  {
   "cell_type": "markdown",
   "metadata": {},
   "source": [
    "### 1732. Find the Highest Altitude [E]\n",
    "\n",
    "There is a biker going on a road trip. The road trip consists of n + 1 points at different altitudes. The biker starts his trip on point 0 with altitude equal 0.\n",
    "\n",
    "You are given an integer array gain of length n where gain[i] is the net gain in altitude between points i​​​​​​ and i + 1 for all (0 <= i < n). Return the highest altitude of a point.\n"
   ]
  },
  {
   "cell_type": "code",
   "execution_count": 398,
   "metadata": {},
   "outputs": [],
   "source": [
    "# Beats 100%\n",
    "class Solution:\n",
    "    def largestAltitude(self, gain: List[int]) -> int:\n",
    "        gain = [0] + gain\n",
    "        prefix = [0] * len(gain)\n",
    "        prefix[0] = gain[0]\n",
    "        for i in range(1,len(gain)):\n",
    "            prefix[i] = prefix[i-1] + gain[i]\n",
    "\n",
    "        return max(prefix)\n",
    "        "
   ]
  },
  {
   "cell_type": "code",
   "execution_count": 401,
   "metadata": {},
   "outputs": [
    {
     "data": {
      "text/plain": [
       "0"
      ]
     },
     "execution_count": 401,
     "metadata": {},
     "output_type": "execute_result"
    }
   ],
   "source": [
    "# n:     0   1   2   3   4   5\n",
    "# gain: -5   1   5   0   7\n",
    "gain = [-5,1,5,0,-7]\n",
    "gain = [-4,-3,-2,-1,4,3,2]\n",
    "sol = Solution()\n",
    "sol.largestAltitude(gain)"
   ]
  },
  {
   "cell_type": "markdown",
   "metadata": {},
   "source": [
    "### 724. Find Pivot Index [E]\n",
    "\n",
    "Given an array of integers nums, calculate the pivot index of this array.\n",
    "\n",
    "The pivot index is the index where the sum of all the numbers strictly to the left of the index is equal to the sum of all the numbers strictly to the index's right.\n",
    "\n",
    "If the index is on the left edge of the array, then the left sum is 0 because there are no elements to the left. This also applies to the right edge of the array.\n",
    "\n",
    "Return the leftmost pivot index. If no such index exists, return -1."
   ]
  },
  {
   "cell_type": "code",
   "execution_count": 205,
   "metadata": {},
   "outputs": [],
   "source": [
    "# Beats 129.72%\n",
    "class Solution:\n",
    "    def pivotIndex(self, nums: List[int]) -> int:\n",
    "        prefix = [0] * len(nums)\n",
    "        prefix[0] = nums[0]\n",
    "        for i in range(1,len(nums)):\n",
    "            prefix[i] = prefix[i-1] + nums[i]\n",
    "\n",
    "        pivot_index = []\n",
    "\n",
    "        for j in range(0,len(nums)):\n",
    "            if j == 0:\n",
    "                left_sum = 0\n",
    "            else:\n",
    "                left_sum = prefix[j-1]\n",
    "\n",
    "            if j == len(nums)-1:\n",
    "                right_sum = 0\n",
    "            else:\n",
    "                right_sum = prefix[len(nums)-1] - prefix[j]\n",
    "\n",
    "            if left_sum == right_sum:\n",
    "                pivot_index.append(j)\n",
    "\n",
    "        if len(pivot_index) > 0:\n",
    "            return min(pivot_index)\n",
    "        else:\n",
    "            return -1\n",
    "\n",
    "            "
   ]
  },
  {
   "cell_type": "code",
   "execution_count": 206,
   "metadata": {},
   "outputs": [
    {
     "data": {
      "text/plain": [
       "0"
      ]
     },
     "execution_count": 206,
     "metadata": {},
     "output_type": "execute_result"
    }
   ],
   "source": [
    "nums = [1,7,3,6,5,6]\n",
    "nums = [1,2,3]\n",
    "nums = [2,1,-1]\n",
    "nums = [0]\n",
    "sol = Solution()\n",
    "sol.pivotIndex(nums)"
   ]
  }
 ],
 "metadata": {
  "language_info": {
   "name": "python"
  }
 },
 "nbformat": 4,
 "nbformat_minor": 2
}
