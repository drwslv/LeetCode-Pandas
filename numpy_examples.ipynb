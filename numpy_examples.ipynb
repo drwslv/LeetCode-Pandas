{
 "cells": [
  {
   "cell_type": "markdown",
   "metadata": {},
   "source": [
    "# NumPy Examples"
   ]
  },
  {
   "cell_type": "code",
   "execution_count": 1,
   "metadata": {},
   "outputs": [],
   "source": [
    "import numpy as np"
   ]
  },
  {
   "cell_type": "markdown",
   "metadata": {},
   "source": [
    "## DataCamp Top 20\n",
    "\n",
    "https://www.datacamp.com/blog/numpy-interview-questions"
   ]
  },
  {
   "cell_type": "markdown",
   "metadata": {},
   "source": [
    "### (1) What is NumPy?\n",
    "\n",
    "* Provides support for large, multi-dimentional arrays\n",
    "\n",
    "* Provides mathematical functions\n",
    "\n",
    "* Allows for vectorized operations (loops not needed)\n",
    "\n",
    "* Provides foundation for more advanced packages: pandas, scikit learn, pytorch\n",
    "\n",
    "* Data storage types are more efficient than Python native objects"
   ]
  },
  {
   "cell_type": "markdown",
   "metadata": {},
   "source": [
    "### (2) Create a 1D array"
   ]
  },
  {
   "cell_type": "code",
   "execution_count": 4,
   "metadata": {},
   "outputs": [
    {
     "data": {
      "text/plain": [
       "array([1, 2, 3])"
      ]
     },
     "execution_count": 4,
     "metadata": {},
     "output_type": "execute_result"
    }
   ],
   "source": [
    "arr = np.array([1, 2, 3])\n",
    "arr"
   ]
  },
  {
   "cell_type": "markdown",
   "metadata": {},
   "source": [
    "### (3) Differences between NumPy array and Python list\n",
    "\n",
    "NumPy lists:\n",
    "\n",
    "* must be all of same type\n",
    "\n",
    "* are more memory efficient\n",
    "\n",
    "* support vectorized operations (loops not needed)\n",
    "\n",
    "* operate natively with many mathematical operations"
   ]
  },
  {
   "cell_type": "markdown",
   "metadata": {},
   "source": [
    "### (4) Size and shape of arrays"
   ]
  },
  {
   "cell_type": "code",
   "execution_count": 12,
   "metadata": {},
   "outputs": [
    {
     "name": "stdout",
     "output_type": "stream",
     "text": [
      "(2, 3)\n",
      "6\n"
     ]
    }
   ],
   "source": [
    "arr = np.array([[1, 2, 3], [4, 5, 6]])\n",
    "print(arr.shape) # dimensions\n",
    "print(arr.size) # total number of elements"
   ]
  },
  {
   "cell_type": "markdown",
   "metadata": {},
   "source": [
    "### (5) Reshape arrays"
   ]
  },
  {
   "cell_type": "code",
   "execution_count": 17,
   "metadata": {},
   "outputs": [
    {
     "name": "stdout",
     "output_type": "stream",
     "text": [
      "[1 2 3 4 5 6]\n",
      "[[1 2]\n",
      " [3 4]\n",
      " [5 6]]\n",
      "[[1 2 3]\n",
      " [4 5 6]]\n"
     ]
    }
   ],
   "source": [
    "arr = np.array([1, 2, 3, 4, 5, 6])\n",
    "print(arr)\n",
    "print(arr.reshape((3,2))) # method\n",
    "print(np.reshape(arr, (2,3))) # function"
   ]
  },
  {
   "cell_type": "markdown",
   "metadata": {},
   "source": [
    "### (6) Arrays of zeroes or ones"
   ]
  },
  {
   "cell_type": "code",
   "execution_count": 20,
   "metadata": {},
   "outputs": [
    {
     "name": "stdout",
     "output_type": "stream",
     "text": [
      "[[0. 0. 0. 0. 0. 0.]]\n"
     ]
    },
    {
     "data": {
      "text/plain": [
       "array([[1., 1.],\n",
       "       [1., 1.],\n",
       "       [1., 1.]])"
      ]
     },
     "execution_count": 20,
     "metadata": {},
     "output_type": "execute_result"
    }
   ],
   "source": [
    "print(np.zeros((1,6)))\n",
    "np.ones((3,2))"
   ]
  },
  {
   "cell_type": "markdown",
   "metadata": {},
   "source": [
    "### (7) Broadcasting\n",
    "\n",
    "Ensures that dimensions match before operations"
   ]
  },
  {
   "cell_type": "code",
   "execution_count": 23,
   "metadata": {},
   "outputs": [
    {
     "name": "stdout",
     "output_type": "stream",
     "text": [
      "[[2 3 4]\n",
      " [2 3 4]\n",
      " [2 3 4]]\n"
     ]
    }
   ],
   "source": [
    "a = np.array([1, 2, 3]) # horizontal\n",
    "b = np.array([[1], [1], [1]]) # vertical\n",
    "print(a + b)"
   ]
  },
  {
   "cell_type": "markdown",
   "metadata": {},
   "source": [
    "### (8) Basic statistics"
   ]
  },
  {
   "cell_type": "code",
   "execution_count": 44,
   "metadata": {},
   "outputs": [
    {
     "name": "stdout",
     "output_type": "stream",
     "text": [
      "4.924511945827471\n",
      "5.03524060064375\n",
      "2.763200589928771\n"
     ]
    }
   ],
   "source": [
    "uni_arr = np.random.uniform(0, 10, 100)\n",
    "print(np.mean(uni_arr))\n",
    "print(np.median(uni_arr))\n",
    "print(np.std(uni_arr))"
   ]
  },
  {
   "cell_type": "markdown",
   "metadata": {},
   "source": [
    "### (9) Vectorized if-else with `np.where`"
   ]
  },
  {
   "cell_type": "code",
   "execution_count": 46,
   "metadata": {},
   "outputs": [
    {
     "data": {
      "text/plain": [
       "array([False,  True, False, False,  True,  True,  True,  True,  True,\n",
       "       False,  True, False,  True, False,  True,  True,  True,  True,\n",
       "        True,  True, False,  True,  True, False,  True, False,  True,\n",
       "        True,  True, False,  True,  True,  True, False, False,  True,\n",
       "        True, False, False, False,  True, False,  True,  True,  True,\n",
       "       False, False,  True, False, False, False,  True,  True, False,\n",
       "       False, False, False,  True,  True,  True,  True,  True,  True,\n",
       "        True, False, False, False, False,  True, False, False,  True,\n",
       "       False,  True,  True,  True,  True,  True, False, False, False,\n",
       "        True,  True, False, False,  True,  True,  True, False,  True,\n",
       "       False,  True,  True, False, False,  True,  True,  True, False,\n",
       "        True])"
      ]
     },
     "execution_count": 46,
     "metadata": {},
     "output_type": "execute_result"
    }
   ],
   "source": [
    "nor_arr = np.random.normal(0, 10, 100)\n",
    "np.where(nor_arr > 0, True, False)"
   ]
  },
  {
   "cell_type": "markdown",
   "metadata": {},
   "source": [
    "### (10) Vectorized mathematical operations (MSE)"
   ]
  },
  {
   "cell_type": "code",
   "execution_count": 48,
   "metadata": {},
   "outputs": [
    {
     "name": "stdout",
     "output_type": "stream",
     "text": [
      "17.195712832042254\n",
      "17.19571283204225\n"
     ]
    }
   ],
   "source": [
    "arr1 = np.random.uniform(0, 10, 100)\n",
    "arr2 = np.random.uniform(0, 10, 100)\n",
    "n = len(arr1)\n",
    "\n",
    "print( 1/n * np.sum( np.square(arr2 - arr1)) )\n",
    "print( np.mean( np.square(arr2-arr1) ) )"
   ]
  },
  {
   "cell_type": "markdown",
   "metadata": {},
   "source": [
    "### (11) Sliding window"
   ]
  },
  {
   "cell_type": "code",
   "execution_count": 54,
   "metadata": {},
   "outputs": [
    {
     "name": "stdout",
     "output_type": "stream",
     "text": [
      "[0 1 2 3 4 5]\n",
      "[[0 1 2]\n",
      " [1 2 3]\n",
      " [2 3 4]\n",
      " [3 4 5]]\n",
      "[1. 2. 3. 4.]\n"
     ]
    }
   ],
   "source": [
    "from numpy.lib.stride_tricks import sliding_window_view\n",
    "\n",
    "arr = np.arange(6)\n",
    "print(arr)\n",
    "print(sliding_window_view(arr, 3))\n",
    "print(np.mean(sliding_window_view(arr, 3), axis=1)) # mean over horizontal rows"
   ]
  },
  {
   "cell_type": "markdown",
   "metadata": {},
   "source": [
    "### (12) Indexing"
   ]
  },
  {
   "cell_type": "code",
   "execution_count": 71,
   "metadata": {},
   "outputs": [
    {
     "name": "stdout",
     "output_type": "stream",
     "text": [
      "[35 40 45 50 55 60 65]\n",
      "[15 40 65]\n"
     ]
    }
   ],
   "source": [
    "arr = np.array([[10, 15, 20, 25],\n",
    "                  [30, 35, 40, 45],\n",
    "                  [50, 55, 60, 65]])\n",
    "\n",
    "condition = arr > 30\n",
    "print(arr[ condition ])\n",
    "\n",
    "rows = np.array([0, 1, 2])\n",
    "cols = np.array([1, 2, 3])\n",
    "print(arr[ rows, cols ])"
   ]
  },
  {
   "cell_type": "markdown",
   "metadata": {},
   "source": [
    "### (13) Matrix decomposition"
   ]
  },
  {
   "cell_type": "code",
   "execution_count": 105,
   "metadata": {},
   "outputs": [
    {
     "name": "stdout",
     "output_type": "stream",
     "text": [
      "(9, 9) (9,) (9, 9)\n"
     ]
    },
    {
     "data": {
      "text/plain": [
       "True"
      ]
     },
     "execution_count": 105,
     "metadata": {},
     "output_type": "execute_result"
    }
   ],
   "source": [
    "M = np.random.randn(9,9) # 9x9\n",
    "\n",
    "U, s, Vt = np.linalg.svd(M, full_matrices=False) # M = U * S * V.T\n",
    "\n",
    "V = Vt.T\n",
    "\n",
    "print(U.shape, s.shape, V.shape) # 9x9, 9x1, 9x9\n",
    "\n",
    "S = np.diag(s)\n",
    "\n",
    "Mhat = np.dot(U, np.dot(S, V.T))\n",
    "\n",
    "np.allclose(M,Mhat)"
   ]
  },
  {
   "cell_type": "markdown",
   "metadata": {},
   "source": [
    "### (14) Memory optimization"
   ]
  },
  {
   "cell_type": "code",
   "execution_count": 106,
   "metadata": {},
   "outputs": [],
   "source": [
    "# large_array = np.memmap(filename mode='w+' shape=large_array_shape)"
   ]
  },
  {
   "cell_type": "markdown",
   "metadata": {},
   "source": [
    "### (15) Missing values"
   ]
  },
  {
   "cell_type": "code",
   "execution_count": 128,
   "metadata": {},
   "outputs": [
    {
     "name": "stdout",
     "output_type": "stream",
     "text": [
      "[ True False False False False]\n",
      "[False False False False False]\n"
     ]
    },
    {
     "name": "stderr",
     "output_type": "stream",
     "text": [
      "/var/folders/04/x6phf57n2c7d0_05mhjff6cm0000gn/T/ipykernel_14864/3855253178.py:2: RuntimeWarning: invalid value encountered in divide\n",
      "  arr = arr/arr\n"
     ]
    }
   ],
   "source": [
    "arr = np.array([0, 1, 2, 3, 4])\n",
    "arr = arr/arr\n",
    "print(np.isnan(arr))\n",
    "print(np.isinf(arr))"
   ]
  },
  {
   "cell_type": "markdown",
   "metadata": {},
   "source": [
    "### (16) Applying functions along rows/cols"
   ]
  },
  {
   "cell_type": "code",
   "execution_count": 134,
   "metadata": {},
   "outputs": [
    {
     "name": "stdout",
     "output_type": "stream",
     "text": [
      "[[10 15 20 25]\n",
      " [30 35 40 45]\n",
      " [50 55 60 65]]\n"
     ]
    },
    {
     "data": {
      "text/plain": [
       "array([30., 35., 40., 45.])"
      ]
     },
     "execution_count": 134,
     "metadata": {},
     "output_type": "execute_result"
    }
   ],
   "source": [
    "arr = np.array([[10, 15, 20, 25],\n",
    "                  [30, 35, 40, 45],\n",
    "                  [50, 55, 60, 65]])\n",
    "print(arr)\n",
    "\n",
    "np.apply_along_axis(np.mean, axis=0, arr=arr)"
   ]
  },
  {
   "cell_type": "markdown",
   "metadata": {},
   "source": [
    "### (17) Feature scaling"
   ]
  },
  {
   "cell_type": "code",
   "execution_count": 139,
   "metadata": {},
   "outputs": [
    {
     "name": "stdout",
     "output_type": "stream",
     "text": [
      "[1 2 3]\n",
      "[7 8 9]\n"
     ]
    },
    {
     "data": {
      "text/plain": [
       "array([[0. , 0. , 0. ],\n",
       "       [0.5, 0.5, 0.5],\n",
       "       [1. , 1. , 1. ]])"
      ]
     },
     "execution_count": 139,
     "metadata": {},
     "output_type": "execute_result"
    }
   ],
   "source": [
    "data = np.array([\n",
    "    [1, 2, 3],\n",
    "    [4, 5, 6],\n",
    "    [7, 8, 9]\n",
    "])\n",
    "\n",
    "minvals = np.min(data, axis=0)\n",
    "maxvals = np.max(data, axis=0)\n",
    "print(minvals)\n",
    "print(maxvals)\n",
    "scaled_data = (data - minvals)/(maxvals - minvals)\n",
    "scaled_data"
   ]
  },
  {
   "cell_type": "markdown",
   "metadata": {},
   "source": [
    "### (18) Sort and index"
   ]
  },
  {
   "cell_type": "code",
   "execution_count": null,
   "metadata": {},
   "outputs": [],
   "source": [
    "# np.argsort() # provide indices to sort an array, e.g. to align two data sets"
   ]
  },
  {
   "cell_type": "markdown",
   "metadata": {},
   "source": [
    "### (19) Random seed"
   ]
  },
  {
   "cell_type": "code",
   "execution_count": 145,
   "metadata": {},
   "outputs": [
    {
     "data": {
      "text/plain": [
       "0.4967141530112327"
      ]
     },
     "execution_count": 145,
     "metadata": {},
     "output_type": "execute_result"
    }
   ],
   "source": [
    "np.random.seed(42)\n",
    "\n",
    "np.random.normal(0, 1)"
   ]
  },
  {
   "cell_type": "markdown",
   "metadata": {},
   "source": [
    "### (20) K-means"
   ]
  },
  {
   "cell_type": "code",
   "execution_count": 146,
   "metadata": {},
   "outputs": [],
   "source": [
    "# Generate a sample dataset\n",
    "np.random.seed(42)  # For reproducibility\n",
    "data = np.vstack([\n",
    "    np.random.normal(loc=[1, 1], scale=0.5, size=(50, 2)),\n",
    "    np.random.normal(loc=[5, 5], scale=0.5, size=(50, 2)),\n",
    "    np.random.normal(loc=[9, 1], scale=0.5, size=(50, 2))\n",
    "])\n",
    "def k_means(X, k, max_iters=100, tol=1e-4):\n",
    "    # Step 1: Initialize centroids randomly\n",
    "    num_samples, num_features = X.shape\n",
    "    centroids = X[np.random.choice(num_samples, k, replace=False)]\n",
    "    \n",
    "    for i in range(max_iters):\n",
    "        # Step 2: Assign clusters\n",
    "        distances = np.linalg.norm(X[:, np.newaxis] - centroids, axis=2)\n",
    "        cluster_assignments = np.argmin(distances, axis=1)\n",
    "        \n",
    "        # Step 3: Update centroids\n",
    "        new_centroids = np.array([X[cluster_assignments == j].mean(axis=0) for j in range(k)])\n",
    "        \n",
    "        # Check for convergence\n",
    "        if np.all(np.linalg.norm(new_centroids - centroids, axis=1) < tol):\n",
    "            break\n",
    "        \n",
    "        centroids = new_centroids\n",
    "    \n",
    "    return centroids, cluster_assignments\n",
    "\n",
    "# Apply k-means clustering\n",
    "k = 3\n",
    "centroids, cluster_assignments = k_means(data, k)"
   ]
  },
  {
   "cell_type": "code",
   "execution_count": 147,
   "metadata": {},
   "outputs": [
    {
     "data": {
      "text/plain": [
       "(array([[1.13031116, 0.61786063],\n",
       "        [0.76336861, 1.25884335],\n",
       "        [7.00837347, 3.03522695]]),\n",
       " array([0, 1, 0, 0, 1, 0, 0, 1, 1, 0, 0, 0, 1, 1, 1, 1, 0, 0, 0, 1, 0, 0,\n",
       "        1, 1, 0, 0, 1, 1, 1, 1, 1, 0, 1, 1, 0, 1, 1, 1, 0, 0, 1, 0, 1, 0,\n",
       "        1, 1, 1, 0, 1, 0, 2, 2, 2, 2, 2, 2, 2, 2, 2, 2, 2, 2, 2, 2, 2, 2,\n",
       "        2, 2, 2, 2, 2, 2, 2, 2, 2, 2, 2, 2, 2, 2, 2, 2, 2, 2, 2, 2, 2, 2,\n",
       "        2, 2, 2, 2, 2, 2, 2, 2, 2, 2, 2, 2, 2, 2, 2, 2, 2, 2, 2, 2, 2, 2,\n",
       "        2, 2, 2, 2, 2, 2, 2, 2, 2, 2, 2, 2, 2, 2, 2, 2, 2, 2, 2, 2, 2, 2,\n",
       "        2, 2, 2, 2, 2, 2, 2, 2, 2, 2, 2, 2, 2, 2, 2, 2, 2, 2]))"
      ]
     },
     "execution_count": 147,
     "metadata": {},
     "output_type": "execute_result"
    }
   ],
   "source": [
    "centroids, cluster_assignments"
   ]
  },
  {
   "cell_type": "markdown",
   "metadata": {},
   "source": [
    "## InterviewBit\n",
    "\n",
    "https://www.interviewbit.com/numpy-interview-questions/#program-for-interchanging-two-axes-of-numpy-arrays"
   ]
  },
  {
   "cell_type": "markdown",
   "metadata": {},
   "source": [
    "## Geeks for Geeks\n",
    "\n",
    "https://www.geeksforgeeks.org/numpy-interview-questions/"
   ]
  },
  {
   "cell_type": "markdown",
   "metadata": {},
   "source": [
    "## UPES\n",
    "\n",
    "https://upesonline.ac.in/blog/frequently-asked-numpy-interview-questions"
   ]
  }
 ],
 "metadata": {
  "language_info": {
   "name": "python"
  }
 },
 "nbformat": 4,
 "nbformat_minor": 2
}
