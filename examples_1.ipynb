{
 "cells": [
  {
   "cell_type": "code",
   "execution_count": 6,
   "metadata": {},
   "outputs": [],
   "source": [
    "from typing import List\n",
    "from typing import Optional\n",
    "import pandas as pd\n",
    "import numpy as np"
   ]
  },
  {
   "cell_type": "markdown",
   "metadata": {},
   "source": [
    "## 2416. Sum of Prefix Scores of Strings\n",
    "\n",
    "You are given an array `words` of size `n` consisting of non-empty strings.\n",
    "\n",
    "We define the score of a string `term` as the number of strings `words[i]` such that `term` is a prefix of `words[i]`.\n",
    "\n",
    "* For example, if `words = [\"a\", \"ab\", \"abc\", \"cab\"]`, then the score of `\"ab\"` is `2`, since `\"ab\"` is a prefix of both `\"ab\"` and `\"abc\"`.\n",
    "\n",
    "Return an array answer of size `n` where `answer[i]` is the sum of scores of every non-empty prefix of `words[i]`.\n",
    "\n",
    "Note that a string is considered as a prefix of itself."
   ]
  },
  {
   "cell_type": "code",
   "execution_count": 28,
   "metadata": {},
   "outputs": [],
   "source": [
    "# Time limit exceeded (but functional)\n",
    "\n",
    "class Solution(object):\n",
    "    def sumPrefixScores(self, words):\n",
    "        \"\"\"\n",
    "        :type words: List[str]\n",
    "        :rtype: List[int]\n",
    "        \"\"\"\n",
    "\n",
    "        scores = [''] * len(words)\n",
    "        for i in range(0,len(words)):\n",
    "            # For each word i, make a list of prefixes\n",
    "            prefixes = [] # optional\n",
    "            score = 0\n",
    "\n",
    "            for j in range(0,len(words[i])):\n",
    "                prefix = words[i][0:j+1]\n",
    "                prefixes.append(prefix)\n",
    "\n",
    "                # Compare for each word in words\n",
    "                for k in range(0,len(words)):\n",
    "                    # len of prefix is j+1\n",
    "                    if prefix == words[k][0:j+1]:\n",
    "                        score += 1\n",
    "\n",
    "            scores[i] = score\n",
    "\n",
    "        return scores\n"
   ]
  },
  {
   "cell_type": "code",
   "execution_count": 29,
   "metadata": {},
   "outputs": [
    {
     "data": {
      "text/plain": [
       "[5, 4, 3, 2]"
      ]
     },
     "execution_count": 29,
     "metadata": {},
     "output_type": "execute_result"
    }
   ],
   "source": [
    "sol = Solution()\n",
    "sol.sumPrefixScores([\"abc\",\"ab\",\"bc\",\"b\"])"
   ]
  },
  {
   "cell_type": "code",
   "execution_count": 30,
   "metadata": {},
   "outputs": [
    {
     "data": {
      "text/plain": [
       "[4]"
      ]
     },
     "execution_count": 30,
     "metadata": {},
     "output_type": "execute_result"
    }
   ],
   "source": [
    "sol = Solution()\n",
    "sol.sumPrefixScores([\"abcd\"])"
   ]
  },
  {
   "cell_type": "markdown",
   "metadata": {},
   "source": [
    "## 175. Combine Two Tables [E]\n",
    "\n",
    "Write a solution to report the first name, last name, city, and state of each person in the Person table. If the address of a personId is not present in the Address table, report null instead.\n",
    "\n",
    "Return the result table in any order."
   ]
  },
  {
   "cell_type": "code",
   "execution_count": 42,
   "metadata": {},
   "outputs": [],
   "source": [
    "data = [[1, 'Wang', 'Allen'], [2, 'Alice', 'Bob']]\n",
    "person = pd.DataFrame(data, columns=['personId', 'lastName', 'firstName']).astype({'personId':'Int64', 'firstName':'object', 'lastName':'object'})\n",
    "data = [[1, 2, 'New York City', 'New York'], [2, 3, 'Leetcode', 'California']]\n",
    "address = pd.DataFrame(data, columns=['addressId', 'personId', 'city', 'state']).astype({'addressId':'Int64', 'personId':'Int64', 'city':'object', 'state':'object'})"
   ]
  },
  {
   "cell_type": "code",
   "execution_count": 43,
   "metadata": {},
   "outputs": [],
   "source": [
    "def combine_two_tables(person: pd.DataFrame, address: pd.DataFrame) -> pd.DataFrame:\n",
    "    data = pd.merge(person, address, how='left', on='personId')\n",
    "    return data[['firstName','lastName','city','state']]\n"
   ]
  },
  {
   "cell_type": "code",
   "execution_count": 44,
   "metadata": {},
   "outputs": [
    {
     "data": {
      "text/html": [
       "<div>\n",
       "<style scoped>\n",
       "    .dataframe tbody tr th:only-of-type {\n",
       "        vertical-align: middle;\n",
       "    }\n",
       "\n",
       "    .dataframe tbody tr th {\n",
       "        vertical-align: top;\n",
       "    }\n",
       "\n",
       "    .dataframe thead th {\n",
       "        text-align: right;\n",
       "    }\n",
       "</style>\n",
       "<table border=\"1\" class=\"dataframe\">\n",
       "  <thead>\n",
       "    <tr style=\"text-align: right;\">\n",
       "      <th></th>\n",
       "      <th>firstName</th>\n",
       "      <th>lastName</th>\n",
       "      <th>city</th>\n",
       "      <th>state</th>\n",
       "    </tr>\n",
       "  </thead>\n",
       "  <tbody>\n",
       "    <tr>\n",
       "      <th>0</th>\n",
       "      <td>Allen</td>\n",
       "      <td>Wang</td>\n",
       "      <td>NaN</td>\n",
       "      <td>NaN</td>\n",
       "    </tr>\n",
       "    <tr>\n",
       "      <th>1</th>\n",
       "      <td>Bob</td>\n",
       "      <td>Alice</td>\n",
       "      <td>New York City</td>\n",
       "      <td>New York</td>\n",
       "    </tr>\n",
       "  </tbody>\n",
       "</table>\n",
       "</div>"
      ],
      "text/plain": [
       "  firstName lastName           city     state\n",
       "0     Allen     Wang            NaN       NaN\n",
       "1       Bob    Alice  New York City  New York"
      ]
     },
     "execution_count": 44,
     "metadata": {},
     "output_type": "execute_result"
    }
   ],
   "source": [
    "combine_two_tables(person,address)"
   ]
  },
  {
   "cell_type": "markdown",
   "metadata": {},
   "source": [
    "## 176. Second Highest Salary [M]\n",
    "\n",
    "Write a solution to find the second highest distinct salary from the `Employee` table. If there is no second highest salary, return null (return None in Pandas).\n",
    "\n",
    "The result format is in the following example."
   ]
  },
  {
   "cell_type": "code",
   "execution_count": 172,
   "metadata": {},
   "outputs": [],
   "source": [
    "# data = [[1, 100], [2, 200], [3, 300]]\n",
    "data = [[1, 100], [2, 200]]\n",
    "# data = [[1, 100]]\n",
    "\n",
    "employee = pd.DataFrame(data, columns=['id', 'salary']).astype({'id':'int64', 'salary':'int64'})"
   ]
  },
  {
   "cell_type": "code",
   "execution_count": 175,
   "metadata": {},
   "outputs": [],
   "source": [
    "# Beats 19.22%\n",
    "\n",
    "def second_highest_salary(employee: pd.DataFrame) -> pd.DataFrame:\n",
    "    df = employee['salary'].drop_duplicates().sort_values(ascending=False).reset_index(drop=True)\n",
    "\n",
    "    if len(df) > 1:\n",
    "        return pd.DataFrame([{'SecondHighestSalary':df[1]}])\n",
    "    else:\n",
    "        return pd.DataFrame([{'SecondHighestSalary':None}])\n"
   ]
  },
  {
   "cell_type": "code",
   "execution_count": 108,
   "metadata": {},
   "outputs": [],
   "source": [
    "def second_highest_salary(employee: pd.DataFrame) -> pd.DataFrame:\n",
    "    \n",
    "    df = employee.drop_duplicates(['salary'])\n",
    "\n",
    "    if len(df) == 1:\n",
    "        return pd.DataFrame([{'SecondHighestSalary':None}])\n",
    "\n",
    "    df = (df.sort_values(['salary'])\n",
    "            .tail(2).head(1)\n",
    "            .rename(columns = {'salary':'SecondHighestSalary'}))\n",
    "\n",
    "    return df[['SecondHighestSalary']]\n"
   ]
  },
  {
   "cell_type": "code",
   "execution_count": 174,
   "metadata": {},
   "outputs": [
    {
     "data": {
      "text/html": [
       "<div>\n",
       "<style scoped>\n",
       "    .dataframe tbody tr th:only-of-type {\n",
       "        vertical-align: middle;\n",
       "    }\n",
       "\n",
       "    .dataframe tbody tr th {\n",
       "        vertical-align: top;\n",
       "    }\n",
       "\n",
       "    .dataframe thead th {\n",
       "        text-align: right;\n",
       "    }\n",
       "</style>\n",
       "<table border=\"1\" class=\"dataframe\">\n",
       "  <thead>\n",
       "    <tr style=\"text-align: right;\">\n",
       "      <th></th>\n",
       "      <th>SecondHighestSalary</th>\n",
       "    </tr>\n",
       "  </thead>\n",
       "  <tbody>\n",
       "    <tr>\n",
       "      <th>0</th>\n",
       "      <td>100</td>\n",
       "    </tr>\n",
       "  </tbody>\n",
       "</table>\n",
       "</div>"
      ],
      "text/plain": [
       "   SecondHighestSalary\n",
       "0                  100"
      ]
     },
     "execution_count": 174,
     "metadata": {},
     "output_type": "execute_result"
    }
   ],
   "source": [
    "second_highest_salary(employee)"
   ]
  },
  {
   "cell_type": "markdown",
   "metadata": {},
   "source": [
    "## 177. Nth Highest Salary [M]\n",
    "\n",
    "Write a solution to find the `nth` highest salary from the `Employee` table. If there is no `nth` highest salary, return `null`.\n",
    "\n",
    "The result format is in the following example.\n",
    "\n"
   ]
  },
  {
   "cell_type": "code",
   "execution_count": 226,
   "metadata": {},
   "outputs": [],
   "source": [
    "data = [[1, 100], [2, 200], [3, 300]]\n",
    "data = [[1, 100], [2, 100]]\n",
    "# data = [[1, 100]]\n",
    "employee = pd.DataFrame(data, columns=['id', 'salary']).astype({'id':'Int64', 'salary':'Int64'})"
   ]
  },
  {
   "cell_type": "code",
   "execution_count": 230,
   "metadata": {},
   "outputs": [],
   "source": [
    "# Beats 12.47%\n",
    "def nth_highest_salary(employee: pd.DataFrame, N: int) -> pd.DataFrame:\n",
    "    df = employee['salary'].drop_duplicates().sort_values(ascending=False).reset_index(drop=True)\n",
    "\n",
    "    if 1 <= N <= len(df):\n",
    "        val = df[N-1]\n",
    "        return pd.DataFrame([{f'getNthHighestSalary({N})':val}])\n",
    "\n",
    "    else:\n",
    "        return pd.DataFrame([{f'getNthHighestSalary({N})':None}])\n"
   ]
  },
  {
   "cell_type": "code",
   "execution_count": 234,
   "metadata": {},
   "outputs": [
    {
     "data": {
      "text/html": [
       "<div>\n",
       "<style scoped>\n",
       "    .dataframe tbody tr th:only-of-type {\n",
       "        vertical-align: middle;\n",
       "    }\n",
       "\n",
       "    .dataframe tbody tr th {\n",
       "        vertical-align: top;\n",
       "    }\n",
       "\n",
       "    .dataframe thead th {\n",
       "        text-align: right;\n",
       "    }\n",
       "</style>\n",
       "<table border=\"1\" class=\"dataframe\">\n",
       "  <thead>\n",
       "    <tr style=\"text-align: right;\">\n",
       "      <th></th>\n",
       "      <th>getNthHighestSalary(-1)</th>\n",
       "    </tr>\n",
       "  </thead>\n",
       "  <tbody>\n",
       "    <tr>\n",
       "      <th>0</th>\n",
       "      <td>None</td>\n",
       "    </tr>\n",
       "  </tbody>\n",
       "</table>\n",
       "</div>"
      ],
      "text/plain": [
       "  getNthHighestSalary(-1)\n",
       "0                    None"
      ]
     },
     "execution_count": 234,
     "metadata": {},
     "output_type": "execute_result"
    }
   ],
   "source": [
    "nth_highest_salary(employee, -1)"
   ]
  },
  {
   "cell_type": "markdown",
   "metadata": {},
   "source": [
    "## 178. Rank Scores [M]\n",
    "\n",
    "Write a solution to find the rank of the scores. The ranking should be calculated according to the following rules:\n",
    "\n",
    "* The scores should be ranked from the highest to the lowest.\n",
    "\n",
    "* If there is a tie between two scores, both should have the same ranking.\n",
    "\n",
    "* After a tie, the next ranking number should be the next consecutive integer value. In other words, there should be no holes between ranks.\n",
    "\n",
    "Return the result table ordered by `score` in descending order.\n",
    "\n",
    "The result format is in the following example."
   ]
  },
  {
   "cell_type": "code",
   "execution_count": 292,
   "metadata": {},
   "outputs": [],
   "source": [
    "data = [[1, 3.5], [2, 3.65], [3, 4.0], [4, 3.85], [5, 4.0], [6, 3.65]]\n",
    "data = []\n",
    "scores = pd.DataFrame(data, columns=['id', 'score']).astype({'id':'Int64', 'score':'Float64'})"
   ]
  },
  {
   "cell_type": "code",
   "execution_count": 290,
   "metadata": {},
   "outputs": [],
   "source": [
    "# Beats 74.28%\n",
    "def order_scores(scores: pd.DataFrame) -> pd.DataFrame:\n",
    "    df = scores['score'].drop_duplicates().sort_values(ascending=False).reset_index(drop=True)\n",
    "    df = pd.DataFrame(df)\n",
    "    df['rank'] = [i for i in range(1,len(df)+1)]\n",
    "    df = pd.merge(left=scores, right=df, how='left', on='score')\n",
    "    return df.drop(columns=['id']).sort_values('rank', ascending=True)\n"
   ]
  },
  {
   "cell_type": "code",
   "execution_count": 293,
   "metadata": {},
   "outputs": [
    {
     "data": {
      "text/html": [
       "<div>\n",
       "<style scoped>\n",
       "    .dataframe tbody tr th:only-of-type {\n",
       "        vertical-align: middle;\n",
       "    }\n",
       "\n",
       "    .dataframe tbody tr th {\n",
       "        vertical-align: top;\n",
       "    }\n",
       "\n",
       "    .dataframe thead th {\n",
       "        text-align: right;\n",
       "    }\n",
       "</style>\n",
       "<table border=\"1\" class=\"dataframe\">\n",
       "  <thead>\n",
       "    <tr style=\"text-align: right;\">\n",
       "      <th></th>\n",
       "      <th>score</th>\n",
       "      <th>rank</th>\n",
       "    </tr>\n",
       "  </thead>\n",
       "  <tbody>\n",
       "  </tbody>\n",
       "</table>\n",
       "</div>"
      ],
      "text/plain": [
       "Empty DataFrame\n",
       "Columns: [score, rank]\n",
       "Index: []"
      ]
     },
     "execution_count": 293,
     "metadata": {},
     "output_type": "execute_result"
    }
   ],
   "source": [
    "order_scores(scores)\n"
   ]
  },
  {
   "cell_type": "markdown",
   "metadata": {},
   "source": [
    "## 180. Consecutive Numbers [M]\n",
    "\n",
    "Find all numbers that appear at least three times consecutively.\n",
    "\n",
    "Return the result table in any order.\n",
    "\n",
    "The result format is in the following example."
   ]
  },
  {
   "cell_type": "code",
   "execution_count": 324,
   "metadata": {},
   "outputs": [],
   "source": [
    "data = [[1, 1], [2, 1], [3, 1], [4, 2], [5, 1], [6, 2], [7, 2]]\n",
    "data = [[1, 2], [2, 3], [3, 3], [4, 3]]\n",
    "logs = pd.DataFrame(data, columns=['id', 'num']).astype({'id':'Int64', 'num':'Int64'})"
   ]
  },
  {
   "cell_type": "code",
   "execution_count": 327,
   "metadata": {},
   "outputs": [],
   "source": [
    "# Beats 46.86%\n",
    "def consecutive_numbers(logs: pd.DataFrame) -> pd.DataFrame:\n",
    "    consecutive_nums = set()\n",
    "\n",
    "    for i in range(2,logs.shape[0]):\n",
    "        if logs['num'][i]==logs['num'][i-1]==logs['num'][i-2]:\n",
    "            consecutive_nums.add(logs['num'][i])\n",
    "\n",
    "    return pd.DataFrame(consecutive_nums, columns=['ConsecutiveNums'])"
   ]
  },
  {
   "cell_type": "code",
   "execution_count": 328,
   "metadata": {},
   "outputs": [
    {
     "data": {
      "text/html": [
       "<div>\n",
       "<style scoped>\n",
       "    .dataframe tbody tr th:only-of-type {\n",
       "        vertical-align: middle;\n",
       "    }\n",
       "\n",
       "    .dataframe tbody tr th {\n",
       "        vertical-align: top;\n",
       "    }\n",
       "\n",
       "    .dataframe thead th {\n",
       "        text-align: right;\n",
       "    }\n",
       "</style>\n",
       "<table border=\"1\" class=\"dataframe\">\n",
       "  <thead>\n",
       "    <tr style=\"text-align: right;\">\n",
       "      <th></th>\n",
       "      <th>ConsecutiveNums</th>\n",
       "    </tr>\n",
       "  </thead>\n",
       "  <tbody>\n",
       "    <tr>\n",
       "      <th>0</th>\n",
       "      <td>3</td>\n",
       "    </tr>\n",
       "  </tbody>\n",
       "</table>\n",
       "</div>"
      ],
      "text/plain": [
       "   ConsecutiveNums\n",
       "0                3"
      ]
     },
     "execution_count": 328,
     "metadata": {},
     "output_type": "execute_result"
    }
   ],
   "source": [
    "consecutive_numbers(logs)"
   ]
  },
  {
   "cell_type": "code",
   "execution_count": 307,
   "metadata": {},
   "outputs": [
    {
     "data": {
      "text/plain": [
       "[np.int64(1), None, None, None, None]"
      ]
     },
     "execution_count": 307,
     "metadata": {},
     "output_type": "execute_result"
    }
   ],
   "source": [
    "[logs['num'][i] if logs['num'][i]==logs['num'][i-1]==logs['num'][i-2] else None for i in range(2,len(logs['num']))]"
   ]
  },
  {
   "cell_type": "markdown",
   "metadata": {},
   "source": [
    "## 181. Employees Earning More Than Their Managers [E]\n",
    "\n",
    "Write a solution to find the employees who earn more than their managers.\n",
    "\n",
    "Return the result table in any order.\n",
    "\n",
    "The result format is in the following example.\n",
    "\n",
    "`id` is the primary key (column with unique values) for this table.\n",
    "\n",
    "Each row of this table indicates the ID of an employee, their name, salary, and the ID of their manager."
   ]
  },
  {
   "cell_type": "code",
   "execution_count": 352,
   "metadata": {},
   "outputs": [],
   "source": [
    "data = [[1, 'Joe', 70000, 3], [2, 'Henry', 80000, 4], [3, 'Sam', 60000, None], [4, 'Max', 90000, None]]\n",
    "# data = [[1, 'Joe', 70000, 3]]\n",
    "employee = pd.DataFrame(data, columns=['id', 'name', 'salary', 'managerId']).astype({'id':'Int64', 'name':'object', 'salary':'Int64', 'managerId':'Int64'})"
   ]
  },
  {
   "cell_type": "code",
   "execution_count": 356,
   "metadata": {},
   "outputs": [],
   "source": [
    "# Beats 68.49%\n",
    "def find_employees(employee: pd.DataFrame) -> pd.DataFrame:\n",
    "    manager = employee.copy()\n",
    "    manager = manager[['id','salary']]\n",
    "    manager.columns = ['managerId','manager_salary']\n",
    "    df = pd.merge(employee, manager, on='managerId', how='left')\n",
    "    df = df.loc[ df['salary'] > df['manager_salary'], ['name']]\n",
    "    df.columns = ['Employee']\n",
    "    return df"
   ]
  },
  {
   "cell_type": "code",
   "execution_count": 357,
   "metadata": {},
   "outputs": [
    {
     "data": {
      "text/html": [
       "<div>\n",
       "<style scoped>\n",
       "    .dataframe tbody tr th:only-of-type {\n",
       "        vertical-align: middle;\n",
       "    }\n",
       "\n",
       "    .dataframe tbody tr th {\n",
       "        vertical-align: top;\n",
       "    }\n",
       "\n",
       "    .dataframe thead th {\n",
       "        text-align: right;\n",
       "    }\n",
       "</style>\n",
       "<table border=\"1\" class=\"dataframe\">\n",
       "  <thead>\n",
       "    <tr style=\"text-align: right;\">\n",
       "      <th></th>\n",
       "      <th>Employee</th>\n",
       "    </tr>\n",
       "  </thead>\n",
       "  <tbody>\n",
       "    <tr>\n",
       "      <th>0</th>\n",
       "      <td>Joe</td>\n",
       "    </tr>\n",
       "  </tbody>\n",
       "</table>\n",
       "</div>"
      ],
      "text/plain": [
       "  Employee\n",
       "0      Joe"
      ]
     },
     "execution_count": 357,
     "metadata": {},
     "output_type": "execute_result"
    }
   ],
   "source": [
    "find_employees(employee)"
   ]
  },
  {
   "cell_type": "markdown",
   "metadata": {},
   "source": [
    "## 2530. Maximal Score After Applying K Operations\n",
    "\n",
    "You are given a 0-indexed integer array `nums` and an integer `k`. You have a starting score of `0`.\n",
    "\n",
    "In one operation:\n",
    "\n",
    "* choose an index `i` such that` 0 <= i < nums.length`,\n",
    "\n",
    "* increase your score by `nums[i]`, and\n",
    "\n",
    "* replace `nums[i]` with `ceil(nums[i] / 3)`.\n",
    "\n",
    "* Return the maximum possible score you can attain after applying exactly `k` operations.\n",
    "\n",
    "The ceiling function `ceil(val)` is the least integer greater than or equal to `val`."
   ]
  },
  {
   "cell_type": "code",
   "execution_count": 45,
   "metadata": {},
   "outputs": [],
   "source": [
    "# Time limit exceeded (must use heap to solve in time)\n",
    "\n",
    "class Solution(object):\n",
    "    def maxKelements(self, nums, k):\n",
    "        \"\"\"\n",
    "        :type nums: List[int]\n",
    "        :type k: int\n",
    "        :rtype: int\n",
    "        \"\"\"\n",
    "        score = 0\n",
    "\n",
    "        for _ in range(0,k):\n",
    "            i = np.argmax(nums)\n",
    "\n",
    "            score += nums[i]\n",
    "            # nums[i] = int(np.ceil(nums[i]/3)) # np.ceil can produce floating point errors\n",
    "            nums[i] = -(nums[i]// -3)\n",
    "\n",
    "        return score\n",
    "        "
   ]
  },
  {
   "cell_type": "code",
   "execution_count": 39,
   "metadata": {},
   "outputs": [],
   "source": [
    "nums = [10, 10, 10, 10, 10]\n",
    "k = 5"
   ]
  },
  {
   "cell_type": "code",
   "execution_count": 46,
   "metadata": {},
   "outputs": [],
   "source": [
    "nums = [1, 10, 3, 3, 3]\n",
    "k = 3"
   ]
  },
  {
   "cell_type": "code",
   "execution_count": 29,
   "metadata": {},
   "outputs": [],
   "source": [
    "nums = [1]\n",
    "k = 1"
   ]
  },
  {
   "cell_type": "code",
   "execution_count": 47,
   "metadata": {},
   "outputs": [
    {
     "data": {
      "text/plain": [
       "17"
      ]
     },
     "execution_count": 47,
     "metadata": {},
     "output_type": "execute_result"
    }
   ],
   "source": [
    "sol = Solution()\n",
    "sol.maxKelements(nums, k)"
   ]
  },
  {
   "cell_type": "markdown",
   "metadata": {},
   "source": [
    "## 182. Duplicate Emails [E]\n",
    "\n",
    "Table: Person\n",
    "\n",
    "```\n",
    "+-------------+---------+\n",
    "| Column Name | Type    |\n",
    "+-------------+---------+\n",
    "| id          | int     |\n",
    "| email       | varchar |\n",
    "+-------------+---------+\n",
    "```\n",
    "\n",
    "`id` is the primary key (column with unique values) for this table.\n",
    "\n",
    "Each row of this table contains an email. The emails will not contain uppercase letters.\n",
    " \n",
    "Write a solution to report all the duplicate emails. Note that it's guaranteed that the email field is not NULL.\n",
    "\n",
    "Return the result table in any order.\n",
    "\n",
    "The result format is in the following example."
   ]
  },
  {
   "cell_type": "code",
   "execution_count": 93,
   "metadata": {},
   "outputs": [],
   "source": [
    "data = [[1, 'a@b.com'], [2, 'c@d.com'], [3, 'a@b.com']]\n",
    "person = pd.DataFrame(data, columns=['id', 'email']).astype({'id':'Int64', 'email':'object'})"
   ]
  },
  {
   "cell_type": "code",
   "execution_count": 99,
   "metadata": {},
   "outputs": [],
   "source": [
    "# Beats 60.08%\n",
    "\n",
    "def duplicate_emails(person: pd.DataFrame) -> pd.DataFrame:\n",
    "    df = person.groupby('email').size().reset_index()\n",
    "    df.columns=['email','count']\n",
    "    return df.loc[ df['count'] != 1, :][['email']]\n",
    "    "
   ]
  },
  {
   "cell_type": "code",
   "execution_count": 100,
   "metadata": {},
   "outputs": [
    {
     "data": {
      "text/html": [
       "<div>\n",
       "<style scoped>\n",
       "    .dataframe tbody tr th:only-of-type {\n",
       "        vertical-align: middle;\n",
       "    }\n",
       "\n",
       "    .dataframe tbody tr th {\n",
       "        vertical-align: top;\n",
       "    }\n",
       "\n",
       "    .dataframe thead th {\n",
       "        text-align: right;\n",
       "    }\n",
       "</style>\n",
       "<table border=\"1\" class=\"dataframe\">\n",
       "  <thead>\n",
       "    <tr style=\"text-align: right;\">\n",
       "      <th></th>\n",
       "      <th>email</th>\n",
       "    </tr>\n",
       "  </thead>\n",
       "  <tbody>\n",
       "    <tr>\n",
       "      <th>0</th>\n",
       "      <td>a@b.com</td>\n",
       "    </tr>\n",
       "  </tbody>\n",
       "</table>\n",
       "</div>"
      ],
      "text/plain": [
       "     email\n",
       "0  a@b.com"
      ]
     },
     "execution_count": 100,
     "metadata": {},
     "output_type": "execute_result"
    }
   ],
   "source": [
    "duplicate_emails(person)"
   ]
  },
  {
   "cell_type": "markdown",
   "metadata": {},
   "source": [
    "## 183. Customers Who Never Order [E]\n",
    "\n",
    "Table: Customers\n",
    "\n",
    "```\n",
    "+-------------+---------+\n",
    "| Column Name | Type    |\n",
    "+-------------+---------+\n",
    "| id          | int     |\n",
    "| name        | varchar |\n",
    "+-------------+---------+\n",
    "id is the primary key (column with unique values) for this table.\n",
    "Each row of this table indicates the ID and name of a customer.\n",
    " ```\n",
    "\n",
    "Table: Orders\n",
    "\n",
    "```\n",
    "+-------------+------+\n",
    "| Column Name | Type |\n",
    "+-------------+------+\n",
    "| id          | int  |\n",
    "| customerId  | int  |\n",
    "+-------------+------+\n",
    "id is the primary key (column with unique values) for this table.\n",
    "customerId is a foreign key (reference columns) of the ID from the Customers table.\n",
    "Each row of this table indicates the ID of an order and the ID of the customer who ordered it.\n",
    "```\n",
    "\n",
    "Write a solution to find all customers who never order anything.\n",
    "\n",
    "Return the result table in any order.\n",
    "\n",
    "The result format is in the following example."
   ]
  },
  {
   "cell_type": "code",
   "execution_count": 178,
   "metadata": {},
   "outputs": [],
   "source": [
    "data = [[1, 'Joe'], [2, 'Henry'], [3, 'Sam'], [4, 'Max']]\n",
    "customers = pd.DataFrame(data, columns=['id', 'name']).astype({'id':'Int64', 'name':'object'})\n",
    "data = [[1, 3], [2, 1]]\n",
    "orders = pd.DataFrame(data, columns=['id', 'customerId']).astype({'id':'Int64', 'customerId':'Int64'})"
   ]
  },
  {
   "cell_type": "code",
   "execution_count": 182,
   "metadata": {},
   "outputs": [],
   "source": [
    "# Beats 14.74%\n",
    "\n",
    "def find_customers(customers: pd.DataFrame, orders: pd.DataFrame) -> pd.DataFrame:\n",
    "    customers.rename(columns={'id':'customerId'}, inplace=True)\n",
    "    df = pd.merge(left=customers, right=orders, how='left', on='customerId')\n",
    "    df = df.loc[ pd.isna(df['id']), :][['name']]\n",
    "    df.columns = ['Customers']\n",
    "    return df"
   ]
  },
  {
   "cell_type": "code",
   "execution_count": 180,
   "metadata": {},
   "outputs": [],
   "source": [
    "def find_customers(customers: pd.DataFrame, orders: pd.DataFrame) -> pd.DataFrame:\n",
    "    df = customers[ ~customers['id'].isin(orders['customerId']) ]\n",
    "    return df[['name']].rename(columns={'name': 'Customers'})"
   ]
  },
  {
   "cell_type": "code",
   "execution_count": 183,
   "metadata": {},
   "outputs": [
    {
     "data": {
      "text/html": [
       "<div>\n",
       "<style scoped>\n",
       "    .dataframe tbody tr th:only-of-type {\n",
       "        vertical-align: middle;\n",
       "    }\n",
       "\n",
       "    .dataframe tbody tr th {\n",
       "        vertical-align: top;\n",
       "    }\n",
       "\n",
       "    .dataframe thead th {\n",
       "        text-align: right;\n",
       "    }\n",
       "</style>\n",
       "<table border=\"1\" class=\"dataframe\">\n",
       "  <thead>\n",
       "    <tr style=\"text-align: right;\">\n",
       "      <th></th>\n",
       "      <th>Customers</th>\n",
       "    </tr>\n",
       "  </thead>\n",
       "  <tbody>\n",
       "    <tr>\n",
       "      <th>1</th>\n",
       "      <td>Henry</td>\n",
       "    </tr>\n",
       "    <tr>\n",
       "      <th>3</th>\n",
       "      <td>Max</td>\n",
       "    </tr>\n",
       "  </tbody>\n",
       "</table>\n",
       "</div>"
      ],
      "text/plain": [
       "  Customers\n",
       "1     Henry\n",
       "3       Max"
      ]
     },
     "execution_count": 183,
     "metadata": {},
     "output_type": "execute_result"
    }
   ],
   "source": [
    "find_customers(customers,orders)"
   ]
  },
  {
   "cell_type": "markdown",
   "metadata": {},
   "source": [
    "## 184. Department Highest Salary [M]\n",
    "\n",
    "Table: Employee\n",
    "```\n",
    "+--------------+---------+\n",
    "| Column Name  | Type    |\n",
    "+--------------+---------+\n",
    "| id           | int     |\n",
    "| name         | varchar |\n",
    "| salary       | int     |\n",
    "| departmentId | int     |\n",
    "+--------------+---------+\n",
    "id is the primary key (column with unique values) for this table.\n",
    "departmentId is a foreign key (reference columns) of the ID from the Department table.\n",
    "Each row of this table indicates the ID, name, and salary of an employee. It also contains the ID of their department.\n",
    " ```\n",
    "\n",
    "Table: Department\n",
    "```\n",
    "+-------------+---------+\n",
    "| Column Name | Type    |\n",
    "+-------------+---------+\n",
    "| id          | int     |\n",
    "| name        | varchar |\n",
    "+-------------+---------+\n",
    "id is the primary key (column with unique values) for this table. It is guaranteed that department name is not NULL.\n",
    "Each row of this table indicates the ID of a department and its name.\n",
    "```\n",
    "\n",
    "Write a solution to find employees who have the highest salary in each of the departments.\n",
    "\n",
    "Return the result table in any order.\n",
    "\n",
    "The result format is in the following example."
   ]
  },
  {
   "cell_type": "code",
   "execution_count": 214,
   "metadata": {},
   "outputs": [],
   "source": [
    "data = [[1, 'Joe', 70000, 1], [2, 'Jim', 90000, 1], [3, 'Henry', 80000, 2], [4, 'Sam', 60000, 2], [5, 'Max', 90000, 1]]\n",
    "employee = pd.DataFrame(data, columns=['id', 'name', 'salary', 'departmentId']).astype({'id':'Int64', 'name':'object', 'salary':'Int64', 'departmentId':'Int64'})\n",
    "data = [[1, 'IT'], [2, 'Sales']]\n",
    "department = pd.DataFrame(data, columns=['id', 'name']).astype({'id':'Int64', 'name':'object'})"
   ]
  },
  {
   "cell_type": "code",
   "execution_count": 235,
   "metadata": {},
   "outputs": [],
   "source": [
    "# Beats 53.68%\n",
    "\n",
    "def department_highest_salary(employee: pd.DataFrame, department: pd.DataFrame) -> pd.DataFrame:\n",
    "    department.rename(columns={'id':'departmentId', 'name':'departmentName'}, inplace=True)\n",
    "    df_merge = pd.merge(left=employee, right=department, how='left', on='departmentId')\n",
    "\n",
    "    select = df_merge.groupby('departmentId')['salary'].max().reset_index()\n",
    "    select['max'] = 1\n",
    "\n",
    "    df_merge = pd.merge(df_merge, select, how='left', on=['departmentId','salary'])\n",
    "    df_merge = df_merge.loc[ df_merge['max']== 1, ['departmentName','name','salary']]\n",
    "    df_merge.columns = ['Department','Employee','Salary']\n",
    "    return df_merge"
   ]
  },
  {
   "cell_type": "code",
   "execution_count": 236,
   "metadata": {},
   "outputs": [
    {
     "data": {
      "text/html": [
       "<div>\n",
       "<style scoped>\n",
       "    .dataframe tbody tr th:only-of-type {\n",
       "        vertical-align: middle;\n",
       "    }\n",
       "\n",
       "    .dataframe tbody tr th {\n",
       "        vertical-align: top;\n",
       "    }\n",
       "\n",
       "    .dataframe thead th {\n",
       "        text-align: right;\n",
       "    }\n",
       "</style>\n",
       "<table border=\"1\" class=\"dataframe\">\n",
       "  <thead>\n",
       "    <tr style=\"text-align: right;\">\n",
       "      <th></th>\n",
       "      <th>Department</th>\n",
       "      <th>Employee</th>\n",
       "      <th>Salary</th>\n",
       "    </tr>\n",
       "  </thead>\n",
       "  <tbody>\n",
       "    <tr>\n",
       "      <th>1</th>\n",
       "      <td>IT</td>\n",
       "      <td>Jim</td>\n",
       "      <td>90000</td>\n",
       "    </tr>\n",
       "    <tr>\n",
       "      <th>2</th>\n",
       "      <td>Sales</td>\n",
       "      <td>Henry</td>\n",
       "      <td>80000</td>\n",
       "    </tr>\n",
       "    <tr>\n",
       "      <th>4</th>\n",
       "      <td>IT</td>\n",
       "      <td>Max</td>\n",
       "      <td>90000</td>\n",
       "    </tr>\n",
       "  </tbody>\n",
       "</table>\n",
       "</div>"
      ],
      "text/plain": [
       "  Department Employee  Salary\n",
       "1         IT      Jim   90000\n",
       "2      Sales    Henry   80000\n",
       "4         IT      Max   90000"
      ]
     },
     "execution_count": 236,
     "metadata": {},
     "output_type": "execute_result"
    }
   ],
   "source": [
    "department_highest_salary(employee, department)"
   ]
  },
  {
   "cell_type": "markdown",
   "metadata": {},
   "source": [
    "## 185. Department Top Three Salaries [H]\n",
    "\n",
    "Table: Employee\n",
    "```\n",
    "+--------------+---------+\n",
    "| Column Name  | Type    |\n",
    "+--------------+---------+\n",
    "| id           | int     |\n",
    "| name         | varchar |\n",
    "| salary       | int     |\n",
    "| departmentId | int     |\n",
    "+--------------+---------+\n",
    "id is the primary key (column with unique values) for this table.\n",
    "departmentId is a foreign key (reference column) of the ID from the Department table.\n",
    "Each row of this table indicates the ID, name, and salary of an employee. It also contains the ID of their department.\n",
    "```\n",
    "\n",
    "Table: Department\n",
    "```\n",
    "+-------------+---------+\n",
    "| Column Name | Type    |\n",
    "+-------------+---------+\n",
    "| id          | int     |\n",
    "| name        | varchar |\n",
    "+-------------+---------+\n",
    "id is the primary key (column with unique values) for this table.\n",
    "Each row of this table indicates the ID of a department and its name.\n",
    "```\n",
    "\n",
    "A company's executives are interested in seeing who earns the most money in each of the company's departments. A high earner in a department is an employee who has a salary in the top three unique salaries for that department.\n",
    "\n",
    "Write a solution to find the employees who are high earners in each of the departments.\n",
    "\n",
    "Return the result table in any order.\n",
    "\n",
    "The result format is in the following example."
   ]
  },
  {
   "cell_type": "code",
   "execution_count": 287,
   "metadata": {},
   "outputs": [],
   "source": [
    "# Beats 20.36%\n",
    "\n",
    "def top_three_salaries(employee: pd.DataFrame, department: pd.DataFrame) -> pd.DataFrame:\n",
    "    employee.columns = ['id','Employee','Salary','departmentId']\n",
    "    department.columns = ['departmentId','Department']\n",
    "    df_merge = pd.merge(employee, department, how='left', on='departmentId')\n",
    "    select = df_merge.groupby('Department')['Salary'].apply(lambda x: x.drop_duplicates().nlargest(3)).reset_index()[['Department','Salary']]\n",
    "    return pd.merge(df_merge, select, how='right', on=['Department','Salary'])[['Department','Employee','Salary']]"
   ]
  },
  {
   "cell_type": "code",
   "execution_count": 288,
   "metadata": {},
   "outputs": [],
   "source": [
    "data = [[1, 'Joe', 85000, 1], [2, 'Henry', 80000, 2], [3, 'Sam', 60000, 2], [4, 'Max', 90000, 1], [5, 'Janet', 69000, 1], [6, 'Randy', 85000, 1], [7, 'Will', 70000, 1]]\n",
    "employee = pd.DataFrame(data, columns=['id', 'name', 'salary', 'departmentId']).astype({'id':'Int64', 'name':'object', 'salary':'Int64', 'departmentId':'Int64'})\n",
    "data = [[1, 'IT'], [2, 'Sales']]\n",
    "department = pd.DataFrame(data, columns=['id', 'name']).astype({'id':'Int64', 'name':'object'})"
   ]
  },
  {
   "cell_type": "code",
   "execution_count": 289,
   "metadata": {},
   "outputs": [
    {
     "data": {
      "text/html": [
       "<div>\n",
       "<style scoped>\n",
       "    .dataframe tbody tr th:only-of-type {\n",
       "        vertical-align: middle;\n",
       "    }\n",
       "\n",
       "    .dataframe tbody tr th {\n",
       "        vertical-align: top;\n",
       "    }\n",
       "\n",
       "    .dataframe thead th {\n",
       "        text-align: right;\n",
       "    }\n",
       "</style>\n",
       "<table border=\"1\" class=\"dataframe\">\n",
       "  <thead>\n",
       "    <tr style=\"text-align: right;\">\n",
       "      <th></th>\n",
       "      <th>Department</th>\n",
       "      <th>Employee</th>\n",
       "      <th>Salary</th>\n",
       "    </tr>\n",
       "  </thead>\n",
       "  <tbody>\n",
       "    <tr>\n",
       "      <th>0</th>\n",
       "      <td>IT</td>\n",
       "      <td>Max</td>\n",
       "      <td>90000</td>\n",
       "    </tr>\n",
       "    <tr>\n",
       "      <th>1</th>\n",
       "      <td>IT</td>\n",
       "      <td>Joe</td>\n",
       "      <td>85000</td>\n",
       "    </tr>\n",
       "    <tr>\n",
       "      <th>2</th>\n",
       "      <td>IT</td>\n",
       "      <td>Randy</td>\n",
       "      <td>85000</td>\n",
       "    </tr>\n",
       "    <tr>\n",
       "      <th>3</th>\n",
       "      <td>IT</td>\n",
       "      <td>Will</td>\n",
       "      <td>70000</td>\n",
       "    </tr>\n",
       "    <tr>\n",
       "      <th>4</th>\n",
       "      <td>Sales</td>\n",
       "      <td>Henry</td>\n",
       "      <td>80000</td>\n",
       "    </tr>\n",
       "    <tr>\n",
       "      <th>5</th>\n",
       "      <td>Sales</td>\n",
       "      <td>Sam</td>\n",
       "      <td>60000</td>\n",
       "    </tr>\n",
       "  </tbody>\n",
       "</table>\n",
       "</div>"
      ],
      "text/plain": [
       "  Department Employee  Salary\n",
       "0         IT      Max   90000\n",
       "1         IT      Joe   85000\n",
       "2         IT    Randy   85000\n",
       "3         IT     Will   70000\n",
       "4      Sales    Henry   80000\n",
       "5      Sales      Sam   60000"
      ]
     },
     "execution_count": 289,
     "metadata": {},
     "output_type": "execute_result"
    }
   ],
   "source": [
    "top_three_salaries(employee, department)"
   ]
  },
  {
   "cell_type": "markdown",
   "metadata": {},
   "source": [
    "## 196. Delete Duplicate Emails [E]\n",
    "\n",
    "Table: Person\n",
    "```\n",
    "+-------------+---------+\n",
    "| Column Name | Type    |\n",
    "+-------------+---------+\n",
    "| id          | int     |\n",
    "| email       | varchar |\n",
    "+-------------+---------+\n",
    "id is the primary key (column with unique values) for this table.\n",
    "Each row of this table contains an email. The emails will not contain uppercase letters.\n",
    "```\n",
    "\n",
    "Write a solution to delete all duplicate emails, keeping only one unique email with the smallest id.\n",
    "\n",
    "For SQL users, please note that you are supposed to write a DELETE statement and not a SELECT one.\n",
    "\n",
    "For Pandas users, please note that you are supposed to modify `Person` in place.\n",
    "\n",
    "After running your script, the answer shown is the `Person` table. The driver will first compile and run your piece of code and then show the `Person` table. The final order of the `Person` table does not matter.\n",
    "\n",
    "The result format is in the following example."
   ]
  },
  {
   "cell_type": "code",
   "execution_count": 319,
   "metadata": {},
   "outputs": [],
   "source": [
    "def delete_duplicate_emails(person: pd.DataFrame) -> None:\n",
    "    person.sort_values('id', inplace=True)\n",
    "    select = person.groupby('email').first().reset_index()\n",
    "    person = person[ person['id'].isin(select['id']) ]\n",
    "    return person"
   ]
  },
  {
   "cell_type": "code",
   "execution_count": 334,
   "metadata": {},
   "outputs": [],
   "source": [
    "# In place modification\n",
    "# Beats 39.53%\n",
    "def delete_duplicate_emails(person: pd.DataFrame) -> None:\n",
    "    person.sort_values('id', inplace=True)\n",
    "    select = person.groupby('email').first().reset_index()\n",
    "    drop = person[ ~person['id'].isin(select['id']) ]\n",
    "    person.drop(index=drop.index, inplace=True)\n"
   ]
  },
  {
   "cell_type": "code",
   "execution_count": 327,
   "metadata": {},
   "outputs": [],
   "source": [
    "data = [[1, 'john@example.com'], [2, 'bob@example.com'], [3, 'john@example.com']]\n",
    "person = pd.DataFrame(data, columns=['id', 'email']).astype({'id':'int64', 'email':'object'})"
   ]
  },
  {
   "cell_type": "code",
   "execution_count": 336,
   "metadata": {},
   "outputs": [],
   "source": [
    "delete_duplicate_emails(person)"
   ]
  },
  {
   "cell_type": "code",
   "execution_count": 337,
   "metadata": {},
   "outputs": [
    {
     "data": {
      "text/html": [
       "<div>\n",
       "<style scoped>\n",
       "    .dataframe tbody tr th:only-of-type {\n",
       "        vertical-align: middle;\n",
       "    }\n",
       "\n",
       "    .dataframe tbody tr th {\n",
       "        vertical-align: top;\n",
       "    }\n",
       "\n",
       "    .dataframe thead th {\n",
       "        text-align: right;\n",
       "    }\n",
       "</style>\n",
       "<table border=\"1\" class=\"dataframe\">\n",
       "  <thead>\n",
       "    <tr style=\"text-align: right;\">\n",
       "      <th></th>\n",
       "      <th>id</th>\n",
       "      <th>email</th>\n",
       "    </tr>\n",
       "  </thead>\n",
       "  <tbody>\n",
       "    <tr>\n",
       "      <th>0</th>\n",
       "      <td>1</td>\n",
       "      <td>john@example.com</td>\n",
       "    </tr>\n",
       "    <tr>\n",
       "      <th>1</th>\n",
       "      <td>2</td>\n",
       "      <td>bob@example.com</td>\n",
       "    </tr>\n",
       "  </tbody>\n",
       "</table>\n",
       "</div>"
      ],
      "text/plain": [
       "   id             email\n",
       "0   1  john@example.com\n",
       "1   2   bob@example.com"
      ]
     },
     "execution_count": 337,
     "metadata": {},
     "output_type": "execute_result"
    }
   ],
   "source": [
    "person"
   ]
  },
  {
   "cell_type": "markdown",
   "metadata": {},
   "source": [
    "## 197. Rising Temperature [E]\n",
    "\n",
    "Table: Weather\n",
    "```\n",
    "+---------------+---------+\n",
    "| Column Name   | Type    |\n",
    "+---------------+---------+\n",
    "| id            | int     |\n",
    "| recordDate    | date    |\n",
    "| temperature   | int     |\n",
    "+---------------+---------+\n",
    "id is the column with unique values for this table.\n",
    "There are no different rows with the same recordDate.\n",
    "This table contains information about the temperature on a certain day.\n",
    "```\n",
    "\n",
    "Write a solution to find all dates' `id` with higher temperatures compared to its previous dates (yesterday).\n",
    "\n",
    "Return the result table in any order.\n",
    "\n",
    "The result format is in the following example."
   ]
  },
  {
   "cell_type": "code",
   "execution_count": 472,
   "metadata": {},
   "outputs": [],
   "source": [
    "# Beats 19.65%\n",
    "\n",
    "def rising_temperature(weather: pd.DataFrame) -> pd.DataFrame:\n",
    "    if weather.shape[0]>=2:\n",
    "        weather['date'] = pd.to_datetime(weather['recordDate'])\n",
    "        weather = weather.sort_values('date').reset_index(drop=True)\n",
    "        # vector = [False] + [True if weather['temperature'][i] > weather['temperature'][i-1] else False for i in range(1,len(weather['temperature']))]\n",
    "        # This line: make sure dates are consecutive, in addition to temperature rise\n",
    "        vector = [False] + [True if (weather['temperature'][i] > weather['temperature'][i-1]) and (weather['date'][i]==weather['date'][i-1] + pd.Timedelta(\"1 day\")) else False for i in range(1,len(weather['temperature']))]\n",
    "        return weather.loc[vector, ['id']]\n",
    "    else:\n",
    "        df = pd.DataFrame(columns=['id']).astype({'id':'Int64'})\n",
    "        return df"
   ]
  },
  {
   "cell_type": "markdown",
   "metadata": {},
   "source": [
    "### Using `.diff()`"
   ]
  },
  {
   "cell_type": "code",
   "execution_count": 487,
   "metadata": {},
   "outputs": [],
   "source": [
    "# Better with diff\n",
    "def rising_temperature(weather: pd.DataFrame) -> pd.DataFrame:\n",
    "    weather.sort_values(by='recordDate', inplace=True)\n",
    "    return weather[\n",
    "        (weather['temperature'].diff() > 0)\n",
    "      & (weather['recordDate'].diff().dt.days == 1)\n",
    "    ][['id']]"
   ]
  },
  {
   "cell_type": "code",
   "execution_count": 484,
   "metadata": {},
   "outputs": [],
   "source": [
    "data = [[1, '2015-01-01', 10], [2, '2015-01-02', 25], [3, '2015-01-03', 20], [4, '2015-01-04', 30]]\n",
    "weather = pd.DataFrame(data, columns=['id', 'recordDate', 'temperature']).astype({'id':'Int64', 'recordDate':'datetime64[ns]', 'temperature':'Int64'})"
   ]
  },
  {
   "cell_type": "code",
   "execution_count": 464,
   "metadata": {},
   "outputs": [],
   "source": [
    "weather = pd.DataFrame(columns=['id', 'recordDate', 'temperature']).astype({'id':'Int64', 'recordDate':'datetime64[ns]', 'temperature':'Int64'})"
   ]
  },
  {
   "cell_type": "code",
   "execution_count": 458,
   "metadata": {},
   "outputs": [],
   "source": [
    "data = [[1, '2000-12-16', 3], [2, '2000-12-15', -1]]\n",
    "weather = pd.DataFrame(data, columns=['id', 'recordDate', 'temperature']).astype({'id':'Int64', 'recordDate':'datetime64[ns]', 'temperature':'Int64'})"
   ]
  },
  {
   "cell_type": "code",
   "execution_count": 489,
   "metadata": {},
   "outputs": [],
   "source": [
    "data = [[1, '2000-12-14', 3], [2, '2000-12-16', 5]]\n",
    "weather = pd.DataFrame(data, columns=['id', 'recordDate', 'temperature']).astype({'id':'Int64', 'recordDate':'datetime64[ns]', 'temperature':'Int64'})"
   ]
  },
  {
   "cell_type": "code",
   "execution_count": 490,
   "metadata": {},
   "outputs": [
    {
     "data": {
      "text/html": [
       "<div>\n",
       "<style scoped>\n",
       "    .dataframe tbody tr th:only-of-type {\n",
       "        vertical-align: middle;\n",
       "    }\n",
       "\n",
       "    .dataframe tbody tr th {\n",
       "        vertical-align: top;\n",
       "    }\n",
       "\n",
       "    .dataframe thead th {\n",
       "        text-align: right;\n",
       "    }\n",
       "</style>\n",
       "<table border=\"1\" class=\"dataframe\">\n",
       "  <thead>\n",
       "    <tr style=\"text-align: right;\">\n",
       "      <th></th>\n",
       "      <th>id</th>\n",
       "    </tr>\n",
       "  </thead>\n",
       "  <tbody>\n",
       "  </tbody>\n",
       "</table>\n",
       "</div>"
      ],
      "text/plain": [
       "Empty DataFrame\n",
       "Columns: [id]\n",
       "Index: []"
      ]
     },
     "execution_count": 490,
     "metadata": {},
     "output_type": "execute_result"
    }
   ],
   "source": [
    "rising_temperature(weather)"
   ]
  },
  {
   "cell_type": "markdown",
   "metadata": {},
   "source": [
    "## 262. Trips and Users (between) [H]\n",
    "\n",
    "Table: Trips\n",
    "```\n",
    "+-------------+----------+\n",
    "| Column Name | Type     |\n",
    "+-------------+----------+\n",
    "| id          | int      |\n",
    "| client_id   | int      |\n",
    "| driver_id   | int      |\n",
    "| city_id     | int      |\n",
    "| status      | enum     |\n",
    "| request_at  | varchar  |\n",
    "+-------------+----------+\n",
    "id is the primary key (column with unique values) for this table.\n",
    "The table holds all taxi trips. Each trip has a unique id, while client_id and driver_id are foreign keys to the users_id at the Users table.\n",
    "Status is an ENUM (category) type of ('completed', 'cancelled_by_driver', 'cancelled_by_client').\n",
    "```\n",
    "\n",
    "Table: Users\n",
    "```\n",
    "+-------------+----------+\n",
    "| Column Name | Type     |\n",
    "+-------------+----------+\n",
    "| users_id    | int      |\n",
    "| banned      | enum     |\n",
    "| role        | enum     |\n",
    "+-------------+----------+\n",
    "users_id is the primary key (column with unique values) for this table.\n",
    "The table holds all users. Each user has a unique users_id, and role is an ENUM type of ('client', 'driver', 'partner').\n",
    "banned is an ENUM (category) type of ('Yes', 'No').\n",
    "```\n",
    "\n",
    "The cancellation rate is computed by dividing the number of canceled (by client or driver) requests with unbanned users by the total number of requests with unbanned users on that day.\n",
    "\n",
    "Write a solution to find the cancellation rate of requests with unbanned users (both client and driver must not be banned) each day between \"2013-10-01\" and \"2013-10-03\". Round Cancellation Rate to two decimal points.\n",
    "\n",
    "Return the result table in any order.\n",
    "\n",
    "The result format is in the following example."
   ]
  },
  {
   "cell_type": "code",
   "execution_count": 573,
   "metadata": {},
   "outputs": [],
   "source": [
    "# Beats 54.91%\n",
    "\n",
    "def trips_and_users(trips: pd.DataFrame, users: pd.DataFrame) -> pd.DataFrame:\n",
    "    users_filtered = users[ (users['banned'] == 'No') & ( (users['role'] == 'client') | (users['role'] == 'driver') ) ]\n",
    "\n",
    "    trips_merge = pd.merge(left=trips, right=users_filtered, how='inner', left_on='client_id', right_on='users_id') # eliminates banned and role=partner for client\n",
    "    trips_merge.drop(['users_id','banned','role'], axis=1, inplace=True)\n",
    "\n",
    "    trips_merge = pd.merge(left=trips_merge, right=users_filtered, how='inner', left_on='driver_id', right_on='users_id') # eliminates banned and role=partner for driver\n",
    "    trips_merge.drop(['users_id','banned','role'], axis=1, inplace=True)\n",
    "\n",
    "    trips_merge = trips_merge[ (trips_merge['request_at'] >= '2013-10-01') & (trips_merge['request_at'] <= '2013-10-03') ] # limit date range\n",
    "\n",
    "    trips_merge['cancelled'] = 0\n",
    "    trips_merge.loc[ (trips_merge['status']=='cancelled_by_client') | (trips_merge['status']=='cancelled_by_driver') , ['cancelled' ]] = 1\n",
    "\n",
    "    result = trips_merge.groupby('request_at')['cancelled'].apply(lambda x: (x.sum()/x.count()).round(2)).reset_index()\n",
    "    result.columns = ['Day','Cancellation Rate']\n",
    "    return result"
   ]
  },
  {
   "cell_type": "code",
   "execution_count": 575,
   "metadata": {},
   "outputs": [],
   "source": [
    "def trips_and_users_leetcode(trips: pd.DataFrame, users: pd.DataFrame) -> pd.DataFrame:\n",
    "\n",
    "    users = users[users.banned == 'No']\n",
    "    trips = trips[trips.request_at\n",
    "                     .between('2013-10-01','2013-10-03')\n",
    "                    ].rename(columns = {'request_at': 'Day'})\n",
    "\n",
    "    trips['can'] = trips.status.str.startswith('can')\n",
    "\n",
    "    trips = trips[(trips.client_id.isin(users.users_id)) &\n",
    "                  (trips.driver_id.isin(users.users_id))\n",
    "                  ].groupby('Day')['can'].agg(['sum','size']).reset_index()\n",
    "\n",
    "    trips['Cancellation Rate'] = (trips['sum']/trips['size']).round(2)\n",
    "    \n",
    "    return trips[['Day','Cancellation Rate']]"
   ]
  },
  {
   "cell_type": "code",
   "execution_count": 571,
   "metadata": {},
   "outputs": [],
   "source": [
    "data = [['1', '1', '10', '1', 'completed', '2013-10-01'], ['2', '2', '11', '1', 'cancelled_by_driver', '2013-10-01'], ['3', '3', '12', '6', 'completed', '2013-10-01'], ['4', '4', '13', '6', 'cancelled_by_client', '2013-10-01'], ['5', '1', '10', '1', 'completed', '2013-10-02'], ['6', '2', '11', '6', 'completed', '2013-10-02'], ['7', '3', '12', '6', 'completed', '2013-10-02'], ['8', '2', '12', '12', 'completed', '2013-10-03'], ['9', '3', '10', '12', 'completed', '2013-10-03'], ['10', '4', '13', '12', 'cancelled_by_driver', '2013-10-03']]\n",
    "trips = pd.DataFrame(data, columns=['id', 'client_id', 'driver_id', 'city_id', 'status', 'request_at']).astype({'id':'Int64', 'client_id':'Int64', 'driver_id':'Int64', 'city_id':'Int64', 'status':'object', 'request_at':'object'})\n",
    "\n",
    "data = [['1', 'No', 'client'], ['2', 'Yes', 'client'], ['3', 'No', 'client'], ['4', 'No', 'client'], ['10', 'No', 'driver'], ['11', 'No', 'driver'], ['12', 'No', 'driver'], ['13', 'No', 'driver']]\n",
    "users = pd.DataFrame(data, columns=['users_id', 'banned', 'role']).astype({'users_id':'Int64', 'banned':'object', 'role':'object'})"
   ]
  },
  {
   "cell_type": "code",
   "execution_count": 562,
   "metadata": {},
   "outputs": [],
   "source": [
    "trips = pd.DataFrame(columns=['id', 'client_id', 'driver_id', 'city_id', 'status', 'request_at']).astype({'id':'Int64', 'client_id':'Int64', 'driver_id':'Int64', 'city_id':'Int64', 'status':'object', 'request_at':'object'})\n",
    "\n",
    "users = pd.DataFrame(columns=['users_id', 'banned', 'role']).astype({'users_id':'Int64', 'banned':'object', 'role':'object'})"
   ]
  },
  {
   "cell_type": "code",
   "execution_count": 574,
   "metadata": {},
   "outputs": [
    {
     "data": {
      "text/html": [
       "<div>\n",
       "<style scoped>\n",
       "    .dataframe tbody tr th:only-of-type {\n",
       "        vertical-align: middle;\n",
       "    }\n",
       "\n",
       "    .dataframe tbody tr th {\n",
       "        vertical-align: top;\n",
       "    }\n",
       "\n",
       "    .dataframe thead th {\n",
       "        text-align: right;\n",
       "    }\n",
       "</style>\n",
       "<table border=\"1\" class=\"dataframe\">\n",
       "  <thead>\n",
       "    <tr style=\"text-align: right;\">\n",
       "      <th></th>\n",
       "      <th>Day</th>\n",
       "      <th>Cancellation Rate</th>\n",
       "    </tr>\n",
       "  </thead>\n",
       "  <tbody>\n",
       "    <tr>\n",
       "      <th>0</th>\n",
       "      <td>2013-10-01</td>\n",
       "      <td>0.33</td>\n",
       "    </tr>\n",
       "    <tr>\n",
       "      <th>1</th>\n",
       "      <td>2013-10-02</td>\n",
       "      <td>0.00</td>\n",
       "    </tr>\n",
       "    <tr>\n",
       "      <th>2</th>\n",
       "      <td>2013-10-03</td>\n",
       "      <td>0.50</td>\n",
       "    </tr>\n",
       "  </tbody>\n",
       "</table>\n",
       "</div>"
      ],
      "text/plain": [
       "          Day  Cancellation Rate\n",
       "0  2013-10-01               0.33\n",
       "1  2013-10-02               0.00\n",
       "2  2013-10-03               0.50"
      ]
     },
     "execution_count": 574,
     "metadata": {},
     "output_type": "execute_result"
    }
   ],
   "source": [
    "trips_and_users(trips, users)"
   ]
  },
  {
   "cell_type": "code",
   "execution_count": 576,
   "metadata": {},
   "outputs": [
    {
     "data": {
      "text/html": [
       "<div>\n",
       "<style scoped>\n",
       "    .dataframe tbody tr th:only-of-type {\n",
       "        vertical-align: middle;\n",
       "    }\n",
       "\n",
       "    .dataframe tbody tr th {\n",
       "        vertical-align: top;\n",
       "    }\n",
       "\n",
       "    .dataframe thead th {\n",
       "        text-align: right;\n",
       "    }\n",
       "</style>\n",
       "<table border=\"1\" class=\"dataframe\">\n",
       "  <thead>\n",
       "    <tr style=\"text-align: right;\">\n",
       "      <th></th>\n",
       "      <th>Day</th>\n",
       "      <th>Cancellation Rate</th>\n",
       "    </tr>\n",
       "  </thead>\n",
       "  <tbody>\n",
       "    <tr>\n",
       "      <th>0</th>\n",
       "      <td>2013-10-01</td>\n",
       "      <td>0.33</td>\n",
       "    </tr>\n",
       "    <tr>\n",
       "      <th>1</th>\n",
       "      <td>2013-10-02</td>\n",
       "      <td>0.00</td>\n",
       "    </tr>\n",
       "    <tr>\n",
       "      <th>2</th>\n",
       "      <td>2013-10-03</td>\n",
       "      <td>0.50</td>\n",
       "    </tr>\n",
       "  </tbody>\n",
       "</table>\n",
       "</div>"
      ],
      "text/plain": [
       "          Day  Cancellation Rate\n",
       "0  2013-10-01               0.33\n",
       "1  2013-10-02               0.00\n",
       "2  2013-10-03               0.50"
      ]
     },
     "execution_count": 576,
     "metadata": {},
     "output_type": "execute_result"
    }
   ],
   "source": [
    "trips_and_users_leetcode(trips, users)"
   ]
  },
  {
   "cell_type": "markdown",
   "metadata": {},
   "source": [
    "## 511. Game Play Analysis I\n",
    "\n",
    "Table: Activity\n",
    "```\n",
    "+--------------+---------+\n",
    "| Column Name  | Type    |\n",
    "+--------------+---------+\n",
    "| player_id    | int     |\n",
    "| device_id    | int     |\n",
    "| event_date   | date    |\n",
    "| games_played | int     |\n",
    "+--------------+---------+\n",
    "(player_id, event_date) is the primary key (combination of columns with unique values) of this table.\n",
    "This table shows the activity of players of some games.\n",
    "Each row is a record of a player who logged in and played a number of games (possibly 0) before logging out on someday using some device.\n",
    "```\n",
    "\n",
    "Write a solution to find the first login date for each player.\n",
    "\n",
    "Return the result table in any order.\n",
    "\n",
    "The result format is in the following example."
   ]
  },
  {
   "cell_type": "code",
   "execution_count": 602,
   "metadata": {},
   "outputs": [],
   "source": [
    "# Beats 40.78%\n",
    "\n",
    "def game_analysis(activity: pd.DataFrame) -> pd.DataFrame:\n",
    "    df = activity.groupby(['player_id'])['event_date'].min().reset_index()\n",
    "    df.columns = ['player_id','first_login']\n",
    "    return df"
   ]
  },
  {
   "cell_type": "code",
   "execution_count": 598,
   "metadata": {},
   "outputs": [],
   "source": [
    "data = [[1, 2, '2016-03-01', 5], [1, 2, '2016-05-02', 6], [2, 3, '2017-06-25', 1], [3, 1, '2016-03-02', 0], [3, 4, '2018-07-03', 5]]\n",
    "activity = pd.DataFrame(data, columns=['player_id', 'device_id', 'event_date', 'games_played']).astype({'player_id':'Int64', 'device_id':'Int64', 'event_date':'datetime64[ns]', 'games_played':'Int64'})"
   ]
  },
  {
   "cell_type": "code",
   "execution_count": 595,
   "metadata": {},
   "outputs": [],
   "source": [
    "activity = pd.DataFrame(columns=['player_id', 'device_id', 'event_date', 'games_played']).astype({'player_id':'Int64', 'device_id':'Int64', 'event_date':'datetime64[ns]', 'games_played':'Int64'})"
   ]
  },
  {
   "cell_type": "code",
   "execution_count": 601,
   "metadata": {},
   "outputs": [
    {
     "data": {
      "text/html": [
       "<div>\n",
       "<style scoped>\n",
       "    .dataframe tbody tr th:only-of-type {\n",
       "        vertical-align: middle;\n",
       "    }\n",
       "\n",
       "    .dataframe tbody tr th {\n",
       "        vertical-align: top;\n",
       "    }\n",
       "\n",
       "    .dataframe thead th {\n",
       "        text-align: right;\n",
       "    }\n",
       "</style>\n",
       "<table border=\"1\" class=\"dataframe\">\n",
       "  <thead>\n",
       "    <tr style=\"text-align: right;\">\n",
       "      <th></th>\n",
       "      <th>player_id</th>\n",
       "      <th>first_login</th>\n",
       "    </tr>\n",
       "  </thead>\n",
       "  <tbody>\n",
       "    <tr>\n",
       "      <th>0</th>\n",
       "      <td>1</td>\n",
       "      <td>2016-03-01</td>\n",
       "    </tr>\n",
       "    <tr>\n",
       "      <th>1</th>\n",
       "      <td>2</td>\n",
       "      <td>2017-06-25</td>\n",
       "    </tr>\n",
       "    <tr>\n",
       "      <th>2</th>\n",
       "      <td>3</td>\n",
       "      <td>2016-03-02</td>\n",
       "    </tr>\n",
       "  </tbody>\n",
       "</table>\n",
       "</div>"
      ],
      "text/plain": [
       "   player_id first_login\n",
       "0          1  2016-03-01\n",
       "1          2  2017-06-25\n",
       "2          3  2016-03-02"
      ]
     },
     "execution_count": 601,
     "metadata": {},
     "output_type": "execute_result"
    }
   ],
   "source": [
    "game_analysis(activity)"
   ]
  },
  {
   "cell_type": "markdown",
   "metadata": {},
   "source": [
    "### Example with `.apply()` and a custom function"
   ]
  },
  {
   "cell_type": "code",
   "execution_count": 592,
   "metadata": {},
   "outputs": [
    {
     "name": "stderr",
     "output_type": "stream",
     "text": [
      "/var/folders/04/x6phf57n2c7d0_05mhjff6cm0000gn/T/ipykernel_56217/4223406261.py:5: DeprecationWarning: DataFrameGroupBy.apply operated on the grouping columns. This behavior is deprecated, and in a future version of pandas the grouping columns will be excluded from the operation. Either pass `include_groups=False` to exclude the groupings or explicitly select the grouping columns after groupby to silence this warning.\n",
      "  activity.groupby(['player_id']).apply(cust_fun)\n"
     ]
    },
    {
     "data": {
      "text/plain": [
       "player_id\n",
       "1   2016-03-01\n",
       "2   2017-06-25\n",
       "3   2016-03-02\n",
       "dtype: datetime64[ns]"
      ]
     },
     "execution_count": 592,
     "metadata": {},
     "output_type": "execute_result"
    }
   ],
   "source": [
    "def cust_fun(group):\n",
    "    dates = pd.to_datetime(group['event_date'])\n",
    "    return min(dates)\n",
    "\n",
    "activity.groupby(['player_id']).apply(cust_fun)"
   ]
  },
  {
   "cell_type": "markdown",
   "metadata": {},
   "source": [
    "## 550. Game Play Analysis IV\n",
    "\n",
    "Table: Activity\n",
    "```\n",
    "+--------------+---------+\n",
    "| Column Name  | Type    |\n",
    "+--------------+---------+\n",
    "| player_id    | int     |\n",
    "| device_id    | int     |\n",
    "| event_date   | date    |\n",
    "| games_played | int     |\n",
    "+--------------+---------+\n",
    "(player_id, event_date) is the primary key (combination of columns with unique values) of this table.\n",
    "This table shows the activity of players of some games.\n",
    "Each row is a record of a player who logged in and played a number of games (possibly 0) before logging out on someday using some device.\n",
    "```\n",
    "\n",
    "Write a solution to report the fraction of players that logged in again on the day after the day they first logged in, rounded to 2 decimal places. In other words, you need to count the number of players that logged in for at least two consecutive days starting from their first login date, then divide that number by the total number of players.\n",
    "\n",
    "The result format is in the following example."
   ]
  },
  {
   "cell_type": "code",
   "execution_count": 691,
   "metadata": {},
   "outputs": [],
   "source": [
    "# May have issues with players that login multiple times on day following first login?\n",
    "\n",
    "def gameplay_analysis(activity: pd.DataFrame) -> pd.DataFrame:\n",
    "    ptotal = activity['player_id'].nunique()\n",
    "\n",
    "    second_login = activity.groupby('player_id')['event_date'].first().reset_index() # start with first login\n",
    "\n",
    "    second_login['event_date'] = second_login['event_date'] + pd.Timedelta('1 day')\n",
    "\n",
    "    activity_merged = pd.merge(left=activity, right=second_login, how='inner', on=['player_id','event_date'])\n",
    "\n",
    "    p2nd = activity_merged['player_id'].nunique()\n",
    "\n",
    "    if ptotal ==0:\n",
    "        return pd.DataFrame(columns=['fraction'])\n",
    "    else:\n",
    "        return pd.DataFrame({round(p2nd/ptotal,2)}, columns=['fraction'])\n"
   ]
  },
  {
   "cell_type": "code",
   "execution_count": null,
   "metadata": {},
   "outputs": [],
   "source": [
    "def gameplay_analysis(activity: pd.DataFrame) -> pd.DataFrame:\n",
    "    ptotal = activity['player_id'].nunique()\n",
    "    \n",
    "    # Get the first login date for each player\n",
    "    first_login = activity.groupby('player_id')['event_date'].min().reset_index()\n",
    "    \n",
    "    # Add one day to the first login date\n",
    "    first_login['next_day'] = first_login['event_date'] + pd.Timedelta(days=1)\n",
    "    \n",
    "    # Check if the player logged in on the next day\n",
    "    next_day_login = pd.merge(activity, first_login[['player_id', 'next_day']], \n",
    "                              left_on=['player_id', 'event_date'], \n",
    "                              right_on=['player_id', 'next_day'])\n",
    "    \n",
    "    # Count the number of players who logged in on the next day after their first login\n",
    "    p2nd = next_day_login['player_id'].nunique()\n",
    "    \n",
    "    # Return the fraction\n",
    "    if ptotal == 0:\n",
    "        return pd.DataFrame({'fraction': []})\n",
    "    else:\n",
    "        return pd.DataFrame({'fraction': [round(p2nd / ptotal, 2)]})"
   ]
  },
  {
   "cell_type": "code",
   "execution_count": null,
   "metadata": {},
   "outputs": [],
   "source": [
    "def gameplay_analysis(activity: pd.DataFrame) -> pd.DataFrame:\n",
    "    # Step 1: Find the first login date for each player\n",
    "    first_login = activity.groupby('player_id')['event_date'].min().reset_index()\n",
    "    \n",
    "    # Step 2: Create a new column for the day before each event_date in the original DataFrame\n",
    "    activity['day_before_event'] = activity['event_date'] - pd.to_timedelta(1, unit='D')\n",
    "    \n",
    "    # Step 3: Merge the dataframes to find rows where player logged in a day after their first login\n",
    "    merged_df = activity.merge(first_login, on='player_id', suffixes=('_actual', '_first'))\n",
    "    \n",
    "    # Step 4: Find the rows where the actual event date matches the day after the first login date\n",
    "    consecutive_login = merged_df[merged_df['day_before_event'] == merged_df['event_date_first']]\n",
    "    \n",
    "    # Step 5: Calculate the fraction of players that logged in again on the day after their first login\n",
    "    fraction = round(consecutive_login['player_id'].nunique() / activity['player_id'].nunique(), 2)\n",
    "    \n",
    "    # Step 6: Create a dataframe to hold the output\n",
    "    output_df = pd.DataFrame({'fraction': [fraction]})\n",
    "    \n",
    "    return output_df"
   ]
  },
  {
   "cell_type": "code",
   "execution_count": 709,
   "metadata": {},
   "outputs": [],
   "source": [
    "data = [[1, 2, '2016-03-01', 5], [1, 2, '2016-03-02', 6], [2, 3, '2017-06-25', 1], [3, 1, '2016-03-02', 0], [3, 4, '2018-07-03', 5]]\n",
    "activity = pd.DataFrame(data, columns=['player_id', 'device_id', 'event_date', 'games_played']).astype({'player_id':'Int64', 'device_id':'Int64', 'event_date':'datetime64[ns]', 'games_played':'Int64'})"
   ]
  },
  {
   "cell_type": "code",
   "execution_count": 676,
   "metadata": {},
   "outputs": [],
   "source": [
    "activity = pd.DataFrame(columns=['player_id', 'device_id', 'event_date', 'games_played']).astype({'player_id':'Int64', 'device_id':'Int64', 'event_date':'datetime64[ns]', 'games_played':'Int64'})"
   ]
  },
  {
   "cell_type": "code",
   "execution_count": 692,
   "metadata": {},
   "outputs": [
    {
     "data": {
      "text/html": [
       "<div>\n",
       "<style scoped>\n",
       "    .dataframe tbody tr th:only-of-type {\n",
       "        vertical-align: middle;\n",
       "    }\n",
       "\n",
       "    .dataframe tbody tr th {\n",
       "        vertical-align: top;\n",
       "    }\n",
       "\n",
       "    .dataframe thead th {\n",
       "        text-align: right;\n",
       "    }\n",
       "</style>\n",
       "<table border=\"1\" class=\"dataframe\">\n",
       "  <thead>\n",
       "    <tr style=\"text-align: right;\">\n",
       "      <th></th>\n",
       "      <th>fraction</th>\n",
       "    </tr>\n",
       "  </thead>\n",
       "  <tbody>\n",
       "    <tr>\n",
       "      <th>0</th>\n",
       "      <td>0.33</td>\n",
       "    </tr>\n",
       "  </tbody>\n",
       "</table>\n",
       "</div>"
      ],
      "text/plain": [
       "   fraction\n",
       "0      0.33"
      ]
     },
     "execution_count": 692,
     "metadata": {},
     "output_type": "execute_result"
    }
   ],
   "source": [
    "gameplay_analysis(activity)"
   ]
  },
  {
   "cell_type": "markdown",
   "metadata": {},
   "source": [
    "## 570. Managers with at Least 5 Direct Reports [M]\n",
    "\n",
    "Table: Employee\n",
    "```\n",
    "+-------------+---------+\n",
    "| Column Name | Type    |\n",
    "+-------------+---------+\n",
    "| id          | int     |\n",
    "| name        | varchar |\n",
    "| department  | varchar |\n",
    "| managerId   | int     |\n",
    "+-------------+---------+\n",
    "id is the primary key (column with unique values) for this table.\n",
    "Each row of this table indicates the name of an employee, their department, and the id of their manager.\n",
    "If managerId is null, then the employee does not have a manager.\n",
    "No employee will be the manager of themself.\n",
    "```\n",
    "\n",
    "Write a solution to find managers with at least five direct reports.\n",
    "\n",
    "Return the result table in any order.\n",
    "\n",
    "The result format is in the following example."
   ]
  },
  {
   "cell_type": "code",
   "execution_count": 766,
   "metadata": {},
   "outputs": [],
   "source": [
    "# Beats 47.39%\n",
    "\n",
    "def find_managers(employee: pd.DataFrame) -> pd.DataFrame:\n",
    "    manager = employee.copy()\n",
    "    manager.drop(columns=['department','managerId'], inplace=True)\n",
    "    manager.columns=['managerId','managerName']\n",
    "\n",
    "    df_merge = pd.merge(employee, manager, how='left', on='managerId')\n",
    "    df_merge = df_merge[ ~df_merge['managerId'].isna() ]\n",
    "\n",
    "    manager_counts = df_merge.groupby('managerId')['id'].count().reset_index()\n",
    "    manager_counts = manager_counts[ manager_counts['id'] >= 5 ][['managerId']]\n",
    "\n",
    "    df_final = pd.merge(manager, manager_counts, how='inner', on='managerId')[['managerName']]\n",
    "    df_final.columns = ['name']\n",
    "\n",
    "    return df_final"
   ]
  },
  {
   "cell_type": "markdown",
   "metadata": {},
   "source": [
    "### With .agg().query()"
   ]
  },
  {
   "cell_type": "code",
   "execution_count": null,
   "metadata": {},
   "outputs": [],
   "source": [
    "def find_managers(employee: pd.DataFrame) -> pd.DataFrame:\n",
    "    managers = employee.groupby(\n",
    "        'managerId', as_index=False\n",
    "    ).agg(\n",
    "        reporting=('id', 'count'),\n",
    "    ).query(\n",
    "        '5 <= reporting'\n",
    "    )['managerId']\n",
    "\n",
    "    return employee[\n",
    "        employee['id'].isin(managers)\n",
    "    ][['name']]"
   ]
  },
  {
   "cell_type": "markdown",
   "metadata": {},
   "source": [
    "`.agg()` using dictionary format"
   ]
  },
  {
   "cell_type": "code",
   "execution_count": null,
   "metadata": {},
   "outputs": [],
   "source": [
    "employee.groupby('Category').agg({'Sales': 'sum','Profit': 'mean'})"
   ]
  },
  {
   "cell_type": "code",
   "execution_count": 791,
   "metadata": {},
   "outputs": [
    {
     "data": {
      "text/html": [
       "<div>\n",
       "<style scoped>\n",
       "    .dataframe tbody tr th:only-of-type {\n",
       "        vertical-align: middle;\n",
       "    }\n",
       "\n",
       "    .dataframe tbody tr th {\n",
       "        vertical-align: top;\n",
       "    }\n",
       "\n",
       "    .dataframe thead th {\n",
       "        text-align: right;\n",
       "    }\n",
       "</style>\n",
       "<table border=\"1\" class=\"dataframe\">\n",
       "  <thead>\n",
       "    <tr style=\"text-align: right;\">\n",
       "      <th></th>\n",
       "      <th>managerId</th>\n",
       "    </tr>\n",
       "  </thead>\n",
       "  <tbody>\n",
       "    <tr>\n",
       "      <th>0</th>\n",
       "      <td>101</td>\n",
       "    </tr>\n",
       "  </tbody>\n",
       "</table>\n",
       "</div>"
      ],
      "text/plain": [
       "   managerId\n",
       "0        101"
      ]
     },
     "execution_count": 791,
     "metadata": {},
     "output_type": "execute_result"
    }
   ],
   "source": [
    "employee.groupby('managerId', as_index=False).agg({'id':'count'}).query('id >= 5')[['managerId']]"
   ]
  },
  {
   "cell_type": "code",
   "execution_count": 771,
   "metadata": {},
   "outputs": [],
   "source": [
    "data = [[101, 'John', 'A', None], [102, 'Dan', 'A', 101], [103, 'James', 'A', 101], [104, 'Amy', 'A', 101], [105, 'Anne', 'A', 101], [106, 'Ron', 'B', 101]]\n",
    "employee = pd.DataFrame(data, columns=['id', 'name', 'department', 'managerId']).astype({'id':'Int64', 'name':'object', 'department':'object', 'managerId':'Int64'})"
   ]
  },
  {
   "cell_type": "code",
   "execution_count": 768,
   "metadata": {},
   "outputs": [],
   "source": [
    "data = [[101, None, 'A', None], [102, None, 'A', 101], [103, None, 'A', 101], [104, None, 'A', 101], [105, None, 'A', 101], [106, None, 'B', 101]]\n",
    "employee = pd.DataFrame(data, columns=['id', 'name', 'department', 'managerId']).astype({'id':'Int64', 'name':'object', 'department':'object', 'managerId':'Int64'})"
   ]
  },
  {
   "cell_type": "code",
   "execution_count": 769,
   "metadata": {},
   "outputs": [
    {
     "data": {
      "text/html": [
       "<div>\n",
       "<style scoped>\n",
       "    .dataframe tbody tr th:only-of-type {\n",
       "        vertical-align: middle;\n",
       "    }\n",
       "\n",
       "    .dataframe tbody tr th {\n",
       "        vertical-align: top;\n",
       "    }\n",
       "\n",
       "    .dataframe thead th {\n",
       "        text-align: right;\n",
       "    }\n",
       "</style>\n",
       "<table border=\"1\" class=\"dataframe\">\n",
       "  <thead>\n",
       "    <tr style=\"text-align: right;\">\n",
       "      <th></th>\n",
       "      <th>name</th>\n",
       "    </tr>\n",
       "  </thead>\n",
       "  <tbody>\n",
       "    <tr>\n",
       "      <th>0</th>\n",
       "      <td>None</td>\n",
       "    </tr>\n",
       "  </tbody>\n",
       "</table>\n",
       "</div>"
      ],
      "text/plain": [
       "   name\n",
       "0  None"
      ]
     },
     "execution_count": 769,
     "metadata": {},
     "output_type": "execute_result"
    }
   ],
   "source": [
    "find_managers(employee)"
   ]
  },
  {
   "cell_type": "markdown",
   "metadata": {},
   "source": [
    "## 577. Employee Bonus [E]\n",
    "\n",
    "Table: Employee\n",
    "```\n",
    "+-------------+---------+\n",
    "| Column Name | Type    |\n",
    "+-------------+---------+\n",
    "| empId       | int     |\n",
    "| name        | varchar |\n",
    "| supervisor  | int     |\n",
    "| salary      | int     |\n",
    "+-------------+---------+\n",
    "empId is the column with unique values for this table.\n",
    "Each row of this table indicates the name and the ID of an employee in addition to their salary and the id of their manager.\n",
    "```\n",
    "\n",
    "Table: Bonus\n",
    "```\n",
    "+-------------+------+\n",
    "| Column Name | Type |\n",
    "+-------------+------+\n",
    "| empId       | int  |\n",
    "| bonus       | int  |\n",
    "+-------------+------+\n",
    "empId is the column of unique values for this table.\n",
    "empId is a foreign key (reference column) to empId from the Employee table.\n",
    "Each row of this table contains the id of an employee and their respective bonus.\n",
    "```\n",
    "\n",
    "Write a solution to report the name and bonus amount of each employee with a bonus less than 1000.\n",
    "\n",
    "Return the result table in any order.\n",
    "\n",
    "The result format is in the following example."
   ]
  },
  {
   "cell_type": "code",
   "execution_count": 856,
   "metadata": {},
   "outputs": [],
   "source": [
    "# Beats 93.29%\n",
    "\n",
    "def employee_bonus(employee: pd.DataFrame, bonus: pd.DataFrame) -> pd.DataFrame:\n",
    "    df_merge = pd.merge(employee, bonus, how='left', on='empId')\n",
    "    return df_merge[ (df_merge['bonus'] < 1000) | (df_merge['bonus'].isna()) ][['name','bonus']]\n"
   ]
  },
  {
   "cell_type": "code",
   "execution_count": 857,
   "metadata": {},
   "outputs": [],
   "source": [
    "data = [[3, 'Brad', None, 4000], [1, 'John', 3, 1000], [2, 'Dan', 3, 2000], [4, 'Thomas', 3, 4000]]\n",
    "employee = pd.DataFrame(data, columns=['empId', 'name', 'supervisor', 'salary']).astype({'empId':'Int64', 'name':'object', 'supervisor':'Int64', 'salary':'Int64'})\n",
    "data = [[2, 500], [4, 2000]]\n",
    "bonus = pd.DataFrame(data, columns=['empId', 'bonus']).astype({'empId':'Int64', 'bonus':'Int64'})"
   ]
  },
  {
   "cell_type": "code",
   "execution_count": 844,
   "metadata": {},
   "outputs": [],
   "source": [
    "employee = pd.DataFrame(columns=['empId', 'name', 'supervisor', 'salary']).astype({'empId':'Int64', 'name':'object', 'supervisor':'Int64', 'salary':'Int64'})\n",
    "bonus = pd.DataFrame(columns=['empId', 'bonus']).astype({'empId':'Int64', 'bonus':'Int64'})"
   ]
  },
  {
   "cell_type": "code",
   "execution_count": 858,
   "metadata": {},
   "outputs": [
    {
     "data": {
      "text/html": [
       "<div>\n",
       "<style scoped>\n",
       "    .dataframe tbody tr th:only-of-type {\n",
       "        vertical-align: middle;\n",
       "    }\n",
       "\n",
       "    .dataframe tbody tr th {\n",
       "        vertical-align: top;\n",
       "    }\n",
       "\n",
       "    .dataframe thead th {\n",
       "        text-align: right;\n",
       "    }\n",
       "</style>\n",
       "<table border=\"1\" class=\"dataframe\">\n",
       "  <thead>\n",
       "    <tr style=\"text-align: right;\">\n",
       "      <th></th>\n",
       "      <th>name</th>\n",
       "      <th>bonus</th>\n",
       "    </tr>\n",
       "  </thead>\n",
       "  <tbody>\n",
       "    <tr>\n",
       "      <th>0</th>\n",
       "      <td>Brad</td>\n",
       "      <td>&lt;NA&gt;</td>\n",
       "    </tr>\n",
       "    <tr>\n",
       "      <th>1</th>\n",
       "      <td>John</td>\n",
       "      <td>&lt;NA&gt;</td>\n",
       "    </tr>\n",
       "    <tr>\n",
       "      <th>2</th>\n",
       "      <td>Dan</td>\n",
       "      <td>500</td>\n",
       "    </tr>\n",
       "  </tbody>\n",
       "</table>\n",
       "</div>"
      ],
      "text/plain": [
       "   name  bonus\n",
       "0  Brad   <NA>\n",
       "1  John   <NA>\n",
       "2   Dan    500"
      ]
     },
     "execution_count": 858,
     "metadata": {},
     "output_type": "execute_result"
    }
   ],
   "source": [
    "employee_bonus(employee, bonus)"
   ]
  },
  {
   "cell_type": "markdown",
   "metadata": {},
   "source": [
    "## 584. Find Customer Referee [E]\n",
    "\n",
    "Table: Customer\n",
    "```\n",
    "+-------------+---------+\n",
    "| Column Name | Type    |\n",
    "+-------------+---------+\n",
    "| id          | int     |\n",
    "| name        | varchar |\n",
    "| referee_id  | int     |\n",
    "+-------------+---------+\n",
    "In SQL, id is the primary key column for this table.\n",
    "Each row of this table indicates the id of a customer, their name, and the id of the customer who referred them.\n",
    "```\n",
    "\n",
    "Find the names of the customer that are not referred by the customer with id = 2.\n",
    "\n",
    "Return the result table in any order.\n",
    "\n",
    "The result format is in the following example."
   ]
  },
  {
   "cell_type": "code",
   "execution_count": 865,
   "metadata": {},
   "outputs": [],
   "source": [
    "# Beats 40.19%\n",
    "\n",
    "def find_customer_referee(customer: pd.DataFrame) -> pd.DataFrame:\n",
    "    return customer[ (customer['referee_id']!=2) | (customer['referee_id'].isna()) ][['name']]"
   ]
  },
  {
   "cell_type": "code",
   "execution_count": 871,
   "metadata": {},
   "outputs": [],
   "source": [
    "data = [[1, 'Will', None], [2, 'Jane', None], [3, 'Alex', 2], [4, 'Bill', None], [5, 'Zack', 1], [6, 'Mark', 2]]\n",
    "customer = pd.DataFrame(data, columns=['id', 'name', 'referee_id']).astype({'id':'Int64', 'name':'object', 'referee_id':'Int64'})"
   ]
  },
  {
   "cell_type": "code",
   "execution_count": 867,
   "metadata": {},
   "outputs": [],
   "source": [
    "customer = pd.DataFrame(columns=['id', 'name', 'referee_id']).astype({'id':'Int64', 'name':'object', 'referee_id':'Int64'})"
   ]
  },
  {
   "cell_type": "code",
   "execution_count": 868,
   "metadata": {},
   "outputs": [
    {
     "data": {
      "text/html": [
       "<div>\n",
       "<style scoped>\n",
       "    .dataframe tbody tr th:only-of-type {\n",
       "        vertical-align: middle;\n",
       "    }\n",
       "\n",
       "    .dataframe tbody tr th {\n",
       "        vertical-align: top;\n",
       "    }\n",
       "\n",
       "    .dataframe thead th {\n",
       "        text-align: right;\n",
       "    }\n",
       "</style>\n",
       "<table border=\"1\" class=\"dataframe\">\n",
       "  <thead>\n",
       "    <tr style=\"text-align: right;\">\n",
       "      <th></th>\n",
       "      <th>name</th>\n",
       "    </tr>\n",
       "  </thead>\n",
       "  <tbody>\n",
       "  </tbody>\n",
       "</table>\n",
       "</div>"
      ],
      "text/plain": [
       "Empty DataFrame\n",
       "Columns: [name]\n",
       "Index: []"
      ]
     },
     "execution_count": 868,
     "metadata": {},
     "output_type": "execute_result"
    }
   ],
   "source": [
    "find_customer_referee(customer)"
   ]
  },
  {
   "cell_type": "markdown",
   "metadata": {},
   "source": [
    "##  585. Investments in 2016 [M]\n",
    "\n",
    "Table: Insurance\n",
    "```\n",
    "+-------------+-------+\n",
    "| Column Name | Type  |\n",
    "+-------------+-------+\n",
    "| pid         | int   |\n",
    "| tiv_2015    | float |\n",
    "| tiv_2016    | float |\n",
    "| lat         | float |\n",
    "| lon         | float |\n",
    "+-------------+-------+\n",
    "pid is the primary key (column with unique values) for this table.\n",
    "Each row of this table contains information about one policy where:\n",
    "pid is the policyholder's policy ID.\n",
    "tiv_2015 is the total investment value in 2015 and tiv_2016 is the total investment value in 2016.\n",
    "lat is the latitude of the policy holder's city. It's guaranteed that lat is not NULL.\n",
    "lon is the longitude of the policy holder's city. It's guaranteed that lon is not NULL.\n",
    "```\n",
    "\n",
    "Write a solution to report the sum of all total investment values in 2016 `tiv_2016`, for all policyholders who:\n",
    "\n",
    "* have the same `tiv_2015` value as one or more other policyholders, and\n",
    "\n",
    "* are not located in the same city as any other policyholder (i.e., the (lat, lon) attribute pairs must be unique).\n",
    "Round `tiv_2016` to two decimal places.\n",
    "\n",
    "The result format is in the following example."
   ]
  },
  {
   "cell_type": "code",
   "execution_count": 922,
   "metadata": {},
   "outputs": [],
   "source": [
    "# Beats 5.03%\n",
    "\n",
    "def find_investments(insurance: pd.DataFrame) -> pd.DataFrame:\n",
    "    valid_tiv_2015 = insurance.groupby('tiv_2015', as_index=False).agg({'pid':'count'}).query('pid > 1')[['tiv_2015']]\n",
    "    valid_lat_lon = insurance.groupby(['lat','lon'], as_index=False).agg({'pid':'count'}).query('pid==1')[['lat','lon']]\n",
    "    valid_lat_lon_pid = pd.merge(insurance, valid_lat_lon, how='inner', on=['lat','lon'])[['pid']]\n",
    "    tiv_2016_sum = insurance[ (insurance['tiv_2015'].isin(valid_tiv_2015['tiv_2015'])) & (insurance['pid'].isin(valid_lat_lon_pid['pid'])) ][['tiv_2016']].sum()\n",
    "    return pd.DataFrame(round(tiv_2016_sum,2), columns=['tiv_2016']).reset_index(drop=True)"
   ]
  },
  {
   "cell_type": "markdown",
   "metadata": {},
   "source": [
    "### Using `.duplicated()`"
   ]
  },
  {
   "cell_type": "code",
   "execution_count": null,
   "metadata": {},
   "outputs": [],
   "source": [
    "def find_investments(insurance: pd.DataFrame) -> pd.DataFrame:\n",
    "\n",
    "  dup = insurance[insurance.duplicated(subset = 'tiv_2015', keep = False)].pid\n",
    "  pos = insurance.drop_duplicates(subset = ['lat','lon']  , keep = False).pid\n",
    "\n",
    "  return pd.DataFrame({'tiv_2016': [insurance[insurance.pid.isin(pos) &\n",
    "                                   (insurance.pid.isin(dup))].tiv_2016.sum()]})"
   ]
  },
  {
   "cell_type": "code",
   "execution_count": 929,
   "metadata": {},
   "outputs": [],
   "source": [
    "data = [[1, 10, 5, 10, 10], [2, 20, 20, 20, 20], [3, 10, 30, 20, 20], [4, 10, 40, 40, 40]]\n",
    "insurance = pd.DataFrame(data, columns=['pid', 'tiv_2015', 'tiv_2016', 'lat', 'lon']).astype({'pid':'Int64', 'tiv_2015':'Float64', 'tiv_2016':'Float64', 'lat':'Float64', 'lon':'Float64'})"
   ]
  },
  {
   "cell_type": "code",
   "execution_count": 925,
   "metadata": {},
   "outputs": [],
   "source": [
    "insurance = pd.DataFrame(columns=['pid', 'tiv_2015', 'tiv_2016', 'lat', 'lon']).astype({'pid':'Int64', 'tiv_2015':'Float64', 'tiv_2016':'Float64', 'lat':'Float64', 'lon':'Float64'})"
   ]
  },
  {
   "cell_type": "code",
   "execution_count": 930,
   "metadata": {},
   "outputs": [
    {
     "data": {
      "text/html": [
       "<div>\n",
       "<style scoped>\n",
       "    .dataframe tbody tr th:only-of-type {\n",
       "        vertical-align: middle;\n",
       "    }\n",
       "\n",
       "    .dataframe tbody tr th {\n",
       "        vertical-align: top;\n",
       "    }\n",
       "\n",
       "    .dataframe thead th {\n",
       "        text-align: right;\n",
       "    }\n",
       "</style>\n",
       "<table border=\"1\" class=\"dataframe\">\n",
       "  <thead>\n",
       "    <tr style=\"text-align: right;\">\n",
       "      <th></th>\n",
       "      <th>tiv_2016</th>\n",
       "    </tr>\n",
       "  </thead>\n",
       "  <tbody>\n",
       "    <tr>\n",
       "      <th>0</th>\n",
       "      <td>45.0</td>\n",
       "    </tr>\n",
       "  </tbody>\n",
       "</table>\n",
       "</div>"
      ],
      "text/plain": [
       "   tiv_2016\n",
       "0      45.0"
      ]
     },
     "execution_count": 930,
     "metadata": {},
     "output_type": "execute_result"
    }
   ],
   "source": [
    "find_investments(insurance)"
   ]
  },
  {
   "cell_type": "markdown",
   "metadata": {},
   "source": [
    "## 586. Customer Placing the Largest Number of Orders [E]\n",
    "\n",
    "Table: Orders\n",
    "```\n",
    "+-----------------+----------+\n",
    "| Column Name     | Type     |\n",
    "+-----------------+----------+\n",
    "| order_number    | int      |\n",
    "| customer_number | int      |\n",
    "+-----------------+----------+\n",
    "order_number is the primary key (column with unique values) for this table.\n",
    "This table contains information about the order ID and the customer ID.\n",
    "```\n",
    "\n",
    "Write a solution to find the `customer_number` for the customer who has placed the largest number of orders.\n",
    "\n",
    "The test cases are generated so that exactly one customer will have placed more orders than any other customer.\n",
    "\n",
    "The result format is in the following example."
   ]
  },
  {
   "cell_type": "code",
   "execution_count": 963,
   "metadata": {},
   "outputs": [],
   "source": [
    "# Beats 74.62%\n",
    "\n",
    "def largest_orders(orders: pd.DataFrame) -> pd.DataFrame:\n",
    "    orders_grouped = orders.groupby('customer_number', as_index=False).agg({'order_number':'count'})\n",
    "    if orders_grouped.shape[0] > 0:\n",
    "        return orders_grouped[ orders_grouped['order_number']==max(orders_grouped['order_number']) ][['customer_number']]\n",
    "    else:\n",
    "        return pd.DataFrame(columns=['customer_number'])\n"
   ]
  },
  {
   "cell_type": "code",
   "execution_count": 965,
   "metadata": {},
   "outputs": [],
   "source": [
    "data = [[1, 1], [2, 2], [3, 3], [4, 3]]\n",
    "orders = pd.DataFrame(data, columns=['order_number', 'customer_number']).astype({'order_number':'Int64', 'customer_number':'Int64'})"
   ]
  },
  {
   "cell_type": "code",
   "execution_count": 959,
   "metadata": {},
   "outputs": [],
   "source": [
    "orders = pd.DataFrame(columns=['order_number', 'customer_number']).astype({'order_number':'Int64', 'customer_number':'Int64'})"
   ]
  },
  {
   "cell_type": "code",
   "execution_count": 966,
   "metadata": {},
   "outputs": [
    {
     "data": {
      "text/html": [
       "<div>\n",
       "<style scoped>\n",
       "    .dataframe tbody tr th:only-of-type {\n",
       "        vertical-align: middle;\n",
       "    }\n",
       "\n",
       "    .dataframe tbody tr th {\n",
       "        vertical-align: top;\n",
       "    }\n",
       "\n",
       "    .dataframe thead th {\n",
       "        text-align: right;\n",
       "    }\n",
       "</style>\n",
       "<table border=\"1\" class=\"dataframe\">\n",
       "  <thead>\n",
       "    <tr style=\"text-align: right;\">\n",
       "      <th></th>\n",
       "      <th>customer_number</th>\n",
       "    </tr>\n",
       "  </thead>\n",
       "  <tbody>\n",
       "    <tr>\n",
       "      <th>2</th>\n",
       "      <td>3</td>\n",
       "    </tr>\n",
       "  </tbody>\n",
       "</table>\n",
       "</div>"
      ],
      "text/plain": [
       "   customer_number\n",
       "2                3"
      ]
     },
     "execution_count": 966,
     "metadata": {},
     "output_type": "execute_result"
    }
   ],
   "source": [
    "largest_orders(orders)"
   ]
  },
  {
   "cell_type": "markdown",
   "metadata": {},
   "source": [
    "## 595. Big Countries [E]\n",
    "\n",
    "Table: World\n",
    "```\n",
    "+-------------+---------+\n",
    "| Column Name | Type    |\n",
    "+-------------+---------+\n",
    "| name        | varchar |\n",
    "| continent   | varchar |\n",
    "| area        | int     |\n",
    "| population  | int     |\n",
    "| gdp         | bigint  |\n",
    "+-------------+---------+\n",
    "name is the primary key (column with unique values) for this table.\n",
    "Each row of this table gives information about the name of a country, the continent to which it belongs, its area, the population, and its GDP value.\n",
    "```\n",
    "\n",
    "A country is big if:\n",
    "\n",
    "it has an area of at least three million (i.e., 3000000 km2), or\n",
    "it has a population of at least twenty-five million (i.e., 25000000).\n",
    "Write a solution to find the name, population, and area of the big countries.\n",
    "\n",
    "Return the result table in any order.\n",
    "\n",
    "The result format is in the following example."
   ]
  },
  {
   "cell_type": "code",
   "execution_count": 18,
   "metadata": {},
   "outputs": [],
   "source": [
    "# Beats 39.82%\n",
    "\n",
    "def big_countries(world: pd.DataFrame) -> pd.DataFrame:\n",
    "    return world.query('area >= 3000000 or population >= 25000000')[['name','population','area']]"
   ]
  },
  {
   "cell_type": "code",
   "execution_count": 2,
   "metadata": {},
   "outputs": [],
   "source": [
    "data = [['Afghanistan', 'Asia', 652230, 25500100, 20343000000], ['Albania', 'Europe', 28748, 2831741, 12960000000], ['Algeria', 'Africa', 2381741, 37100000, 188681000000], ['Andorra', 'Europe', 468, 78115, 3712000000], ['Angola', 'Africa', 1246700, 20609294, 100990000000]]\n",
    "world = pd.DataFrame(data, columns=['name', 'continent', 'area', 'population', 'gdp']).astype({'name':'object', 'continent':'object', 'area':'Int64', 'population':'Int64', 'gdp':'Int64'})"
   ]
  },
  {
   "cell_type": "code",
   "execution_count": 22,
   "metadata": {},
   "outputs": [],
   "source": [
    "world = pd.DataFrame(columns=['name', 'continent', 'area', 'population', 'gdp']).astype({'name':'object', 'continent':'object', 'area':'Int64', 'population':'Int64', 'gdp':'Int64'})"
   ]
  },
  {
   "cell_type": "code",
   "execution_count": 21,
   "metadata": {},
   "outputs": [
    {
     "data": {
      "text/html": [
       "<div>\n",
       "<style scoped>\n",
       "    .dataframe tbody tr th:only-of-type {\n",
       "        vertical-align: middle;\n",
       "    }\n",
       "\n",
       "    .dataframe tbody tr th {\n",
       "        vertical-align: top;\n",
       "    }\n",
       "\n",
       "    .dataframe thead th {\n",
       "        text-align: right;\n",
       "    }\n",
       "</style>\n",
       "<table border=\"1\" class=\"dataframe\">\n",
       "  <thead>\n",
       "    <tr style=\"text-align: right;\">\n",
       "      <th></th>\n",
       "      <th>name</th>\n",
       "      <th>population</th>\n",
       "      <th>area</th>\n",
       "    </tr>\n",
       "  </thead>\n",
       "  <tbody>\n",
       "  </tbody>\n",
       "</table>\n",
       "</div>"
      ],
      "text/plain": [
       "Empty DataFrame\n",
       "Columns: [name, population, area]\n",
       "Index: []"
      ]
     },
     "execution_count": 21,
     "metadata": {},
     "output_type": "execute_result"
    }
   ],
   "source": [
    "big_countries(world)"
   ]
  },
  {
   "cell_type": "code",
   "execution_count": 3,
   "metadata": {},
   "outputs": [
    {
     "data": {
      "text/html": [
       "<div>\n",
       "<style scoped>\n",
       "    .dataframe tbody tr th:only-of-type {\n",
       "        vertical-align: middle;\n",
       "    }\n",
       "\n",
       "    .dataframe tbody tr th {\n",
       "        vertical-align: top;\n",
       "    }\n",
       "\n",
       "    .dataframe thead th {\n",
       "        text-align: right;\n",
       "    }\n",
       "</style>\n",
       "<table border=\"1\" class=\"dataframe\">\n",
       "  <thead>\n",
       "    <tr style=\"text-align: right;\">\n",
       "      <th></th>\n",
       "      <th>name</th>\n",
       "      <th>continent</th>\n",
       "      <th>area</th>\n",
       "      <th>population</th>\n",
       "      <th>gdp</th>\n",
       "    </tr>\n",
       "  </thead>\n",
       "  <tbody>\n",
       "    <tr>\n",
       "      <th>0</th>\n",
       "      <td>Afghanistan</td>\n",
       "      <td>Asia</td>\n",
       "      <td>652230</td>\n",
       "      <td>25500100</td>\n",
       "      <td>20343000000</td>\n",
       "    </tr>\n",
       "    <tr>\n",
       "      <th>1</th>\n",
       "      <td>Albania</td>\n",
       "      <td>Europe</td>\n",
       "      <td>28748</td>\n",
       "      <td>2831741</td>\n",
       "      <td>12960000000</td>\n",
       "    </tr>\n",
       "    <tr>\n",
       "      <th>2</th>\n",
       "      <td>Algeria</td>\n",
       "      <td>Africa</td>\n",
       "      <td>2381741</td>\n",
       "      <td>37100000</td>\n",
       "      <td>188681000000</td>\n",
       "    </tr>\n",
       "    <tr>\n",
       "      <th>3</th>\n",
       "      <td>Andorra</td>\n",
       "      <td>Europe</td>\n",
       "      <td>468</td>\n",
       "      <td>78115</td>\n",
       "      <td>3712000000</td>\n",
       "    </tr>\n",
       "    <tr>\n",
       "      <th>4</th>\n",
       "      <td>Angola</td>\n",
       "      <td>Africa</td>\n",
       "      <td>1246700</td>\n",
       "      <td>20609294</td>\n",
       "      <td>100990000000</td>\n",
       "    </tr>\n",
       "  </tbody>\n",
       "</table>\n",
       "</div>"
      ],
      "text/plain": [
       "          name continent     area  population           gdp\n",
       "0  Afghanistan      Asia   652230    25500100   20343000000\n",
       "1      Albania    Europe    28748     2831741   12960000000\n",
       "2      Algeria    Africa  2381741    37100000  188681000000\n",
       "3      Andorra    Europe      468       78115    3712000000\n",
       "4       Angola    Africa  1246700    20609294  100990000000"
      ]
     },
     "execution_count": 3,
     "metadata": {},
     "output_type": "execute_result"
    }
   ],
   "source": [
    "world"
   ]
  },
  {
   "cell_type": "code",
   "execution_count": 17,
   "metadata": {},
   "outputs": [
    {
     "data": {
      "text/html": [
       "<div>\n",
       "<style scoped>\n",
       "    .dataframe tbody tr th:only-of-type {\n",
       "        vertical-align: middle;\n",
       "    }\n",
       "\n",
       "    .dataframe tbody tr th {\n",
       "        vertical-align: top;\n",
       "    }\n",
       "\n",
       "    .dataframe thead th {\n",
       "        text-align: right;\n",
       "    }\n",
       "</style>\n",
       "<table border=\"1\" class=\"dataframe\">\n",
       "  <thead>\n",
       "    <tr style=\"text-align: right;\">\n",
       "      <th></th>\n",
       "      <th>name</th>\n",
       "      <th>population</th>\n",
       "      <th>area</th>\n",
       "    </tr>\n",
       "  </thead>\n",
       "  <tbody>\n",
       "    <tr>\n",
       "      <th>0</th>\n",
       "      <td>Afghanistan</td>\n",
       "      <td>25500100</td>\n",
       "      <td>652230</td>\n",
       "    </tr>\n",
       "    <tr>\n",
       "      <th>2</th>\n",
       "      <td>Algeria</td>\n",
       "      <td>37100000</td>\n",
       "      <td>2381741</td>\n",
       "    </tr>\n",
       "  </tbody>\n",
       "</table>\n",
       "</div>"
      ],
      "text/plain": [
       "          name  population     area\n",
       "0  Afghanistan    25500100   652230\n",
       "2      Algeria    37100000  2381741"
      ]
     },
     "execution_count": 17,
     "metadata": {},
     "output_type": "execute_result"
    }
   ],
   "source": [
    "world.query('area >= 3000000 or population >= 25000000')[['name','population','area']]"
   ]
  },
  {
   "cell_type": "markdown",
   "metadata": {},
   "source": [
    "## 596. Classes More Than 5 Students [E]\n",
    "\n",
    "Table: Courses\n",
    "```\n",
    "+-------------+---------+\n",
    "| Column Name | Type    |\n",
    "+-------------+---------+\n",
    "| student     | varchar |\n",
    "| class       | varchar |\n",
    "+-------------+---------+\n",
    "(student, class) is the primary key (combination of columns with unique values) for this table.\n",
    "Each row of this table indicates the name of a student and the class in which they are enrolled.\n",
    "```\n",
    "\n",
    "Write a solution to find all the classes that have at least five students.\n",
    "\n",
    "Return the result table in any order.\n",
    "\n",
    "The result format is in the following example."
   ]
  },
  {
   "cell_type": "code",
   "execution_count": 17,
   "metadata": {},
   "outputs": [],
   "source": [
    "# Beats 52.82%\n",
    "\n",
    "def find_classes(courses: pd.DataFrame) -> pd.DataFrame:\n",
    "    courses_grouped = courses.groupby('class', as_index=False).agg({'student':'count'})\n",
    "    return courses_grouped.query('student>=5')[['class']]"
   ]
  },
  {
   "cell_type": "code",
   "execution_count": 15,
   "metadata": {},
   "outputs": [],
   "source": [
    "data = [['A', 'Math'], ['B', 'English'], ['C', 'Math'], ['D', 'Biology'], ['E', 'Math'], ['F', 'Computer'], ['G', 'Math'], ['H', 'Math'], ['I', 'Math']]\n",
    "courses = pd.DataFrame(data, columns=['student', 'class']).astype({'student':'object', 'class':'object'})"
   ]
  },
  {
   "cell_type": "code",
   "execution_count": 19,
   "metadata": {},
   "outputs": [],
   "source": [
    "courses = pd.DataFrame(columns=['student', 'class']).astype({'student':'object', 'class':'object'})"
   ]
  },
  {
   "cell_type": "code",
   "execution_count": 20,
   "metadata": {},
   "outputs": [
    {
     "data": {
      "text/html": [
       "<div>\n",
       "<style scoped>\n",
       "    .dataframe tbody tr th:only-of-type {\n",
       "        vertical-align: middle;\n",
       "    }\n",
       "\n",
       "    .dataframe tbody tr th {\n",
       "        vertical-align: top;\n",
       "    }\n",
       "\n",
       "    .dataframe thead th {\n",
       "        text-align: right;\n",
       "    }\n",
       "</style>\n",
       "<table border=\"1\" class=\"dataframe\">\n",
       "  <thead>\n",
       "    <tr style=\"text-align: right;\">\n",
       "      <th></th>\n",
       "      <th>class</th>\n",
       "    </tr>\n",
       "  </thead>\n",
       "  <tbody>\n",
       "  </tbody>\n",
       "</table>\n",
       "</div>"
      ],
      "text/plain": [
       "Empty DataFrame\n",
       "Columns: [class]\n",
       "Index: []"
      ]
     },
     "execution_count": 20,
     "metadata": {},
     "output_type": "execute_result"
    }
   ],
   "source": [
    "find_classes(courses)"
   ]
  },
  {
   "cell_type": "markdown",
   "metadata": {},
   "source": [
    "## 601. Human Traffic of Stadium [H]\n",
    "\n",
    "Table: Stadium\n",
    "```\n",
    "+---------------+---------+\n",
    "| Column Name   | Type    |\n",
    "+---------------+---------+\n",
    "| id            | int     |\n",
    "| visit_date    | date    |\n",
    "| people        | int     |\n",
    "+---------------+---------+\n",
    "visit_date is the column with unique values for this table.\n",
    "Each row of this table contains the visit date and visit id to the stadium with the number of people during the visit.\n",
    "As the id increases, the date increases as well.\n",
    "```\n",
    "\n",
    "Write a solution to display the records with three or more rows with consecutive id's, and the number of people is greater than or equal to 100 for each.\n",
    "\n",
    "Return the result table ordered by visit_date in `ascending` order.\n",
    "\n",
    "The result format is in the following example."
   ]
  },
  {
   "cell_type": "code",
   "execution_count": 138,
   "metadata": {},
   "outputs": [],
   "source": [
    "# Beats 35.32%\n",
    "\n",
    "def human_traffic(stadium: pd.DataFrame) -> pd.DataFrame:\n",
    "    if stadium.shape[0] == 0:\n",
    "        return pd.DataFrame(columns=['id', 'visit_date', 'people'])\n",
    "\n",
    "    # First, limit to records with >= 100 people\n",
    "    stadium = stadium[ stadium['people'] >= 100 ]\n",
    "    stadium = stadium.sort_values('id').reset_index(drop=True)\n",
    "\n",
    "    # New column: True indicates this entry and two before form a consecutive triplet\n",
    "    stadium['select'] = (stadium['id'].diff(1) == 1) & (stadium['id'].diff(2) == 2) \n",
    "    stadium.loc[ stadium['select'].isna(), ['select']] = False # Replace NAs with False\n",
    "\n",
    "    # Add True values for two preceeding rows\n",
    "    stadium['select_2prior'] = [True if (stadium['select'][i+2]==True) else False for i in range(0,stadium.shape[0]-2)] + [False, False]\n",
    "    stadium['select_1prior'] = [True if (stadium['select'][i+1]==True) else False for i in range(0,stadium.shape[0]-1)] + [False]\n",
    "\n",
    "    # Combine True from both columns\n",
    "    stadium['select_final'] = stadium['select'] | stadium['select_2prior'] | stadium['select_1prior']\n",
    "\n",
    "    return stadium.loc[ stadium['select_final'], ['id', 'visit_date', 'people']]"
   ]
  },
  {
   "cell_type": "markdown",
   "metadata": {},
   "source": [
    "### With `.shift()`"
   ]
  },
  {
   "cell_type": "code",
   "execution_count": 155,
   "metadata": {},
   "outputs": [],
   "source": [
    "import pandas as pd\n",
    "\n",
    "def human_traffic(stadium: pd.DataFrame) -> pd.DataFrame:\n",
    "\n",
    "    adj = lambda x: stadium.id.diff().shift(x) == 1\n",
    "\n",
    "    stadium = stadium[stadium.people > 99]\n",
    "\n",
    "    return stadium[adj(0) & adj(1) | adj(-1) & adj(0) | adj(-2) & adj(-1)]"
   ]
  },
  {
   "cell_type": "code",
   "execution_count": 144,
   "metadata": {},
   "outputs": [],
   "source": [
    "data = [[1, '2017-01-01', 10], [2, '2017-01-02', 109], [3, '2017-01-03', 150], [4, '2017-01-04', 99], [5, '2017-01-05', 145], [6, '2017-01-06', 1455], [7, '2017-01-07', 199], [8, '2017-01-09', 188]]\n",
    "stadium = pd.DataFrame(data, columns=['id', 'visit_date', 'people']).astype({'id':'Int64', 'visit_date':'datetime64[ns]', 'people':'Int64'})"
   ]
  },
  {
   "cell_type": "code",
   "execution_count": 139,
   "metadata": {},
   "outputs": [],
   "source": [
    "data = [[1, '2017-01-01', 10], [2, '2017-01-02', 109], [3, '2017-01-03', 150], [4, '2017-01-04', 100]]\n",
    "stadium = pd.DataFrame(data, columns=['id', 'visit_date', 'people']).astype({'id':'Int64', 'visit_date':'datetime64[ns]', 'people':'Int64'})"
   ]
  },
  {
   "cell_type": "code",
   "execution_count": 114,
   "metadata": {},
   "outputs": [],
   "source": [
    "stadium = pd.DataFrame(columns=['id', 'visit_date', 'people']).astype({'id':'Int64', 'visit_date':'datetime64[ns]', 'people':'Int64'})"
   ]
  },
  {
   "cell_type": "code",
   "execution_count": 140,
   "metadata": {},
   "outputs": [
    {
     "data": {
      "text/html": [
       "<div>\n",
       "<style scoped>\n",
       "    .dataframe tbody tr th:only-of-type {\n",
       "        vertical-align: middle;\n",
       "    }\n",
       "\n",
       "    .dataframe tbody tr th {\n",
       "        vertical-align: top;\n",
       "    }\n",
       "\n",
       "    .dataframe thead th {\n",
       "        text-align: right;\n",
       "    }\n",
       "</style>\n",
       "<table border=\"1\" class=\"dataframe\">\n",
       "  <thead>\n",
       "    <tr style=\"text-align: right;\">\n",
       "      <th></th>\n",
       "      <th>id</th>\n",
       "      <th>visit_date</th>\n",
       "      <th>people</th>\n",
       "    </tr>\n",
       "  </thead>\n",
       "  <tbody>\n",
       "    <tr>\n",
       "      <th>0</th>\n",
       "      <td>2</td>\n",
       "      <td>2017-01-02</td>\n",
       "      <td>109</td>\n",
       "    </tr>\n",
       "    <tr>\n",
       "      <th>1</th>\n",
       "      <td>3</td>\n",
       "      <td>2017-01-03</td>\n",
       "      <td>150</td>\n",
       "    </tr>\n",
       "    <tr>\n",
       "      <th>2</th>\n",
       "      <td>4</td>\n",
       "      <td>2017-01-04</td>\n",
       "      <td>100</td>\n",
       "    </tr>\n",
       "  </tbody>\n",
       "</table>\n",
       "</div>"
      ],
      "text/plain": [
       "   id visit_date  people\n",
       "0   2 2017-01-02     109\n",
       "1   3 2017-01-03     150\n",
       "2   4 2017-01-04     100"
      ]
     },
     "execution_count": 140,
     "metadata": {},
     "output_type": "execute_result"
    }
   ],
   "source": [
    "human_traffic(stadium)"
   ]
  },
  {
   "cell_type": "markdown",
   "metadata": {},
   "source": [
    "## 602. Friend Requests II: Who Has the Most Friends [M]\n",
    "\n",
    "Table: RequestAccepted\n",
    "```\n",
    "+----------------+---------+\n",
    "| Column Name    | Type    |\n",
    "+----------------+---------+\n",
    "| requester_id   | int     |\n",
    "| accepter_id    | int     |\n",
    "| accept_date    | date    |\n",
    "+----------------+---------+\n",
    "(requester_id, accepter_id) is the primary key (combination of columns with unique values) for this table.\n",
    "This table contains the ID of the user who sent the request, the ID of the user who received the request, and the date when the request was accepted.\n",
    "```\n",
    "\n",
    "Write a solution to find the people who have the most friends and the most friends number.\n",
    "\n",
    "The test cases are generated so that only one person has the most friends.\n",
    "\n",
    "The result format is in the following example.\n",
    "\n"
   ]
  },
  {
   "cell_type": "code",
   "execution_count": 201,
   "metadata": {},
   "outputs": [],
   "source": [
    "# Beats 32.41%\n",
    "\n",
    "def most_friends(request_accepted: pd.DataFrame) -> pd.DataFrame:\n",
    "    friends_by_request = request_accepted.groupby('requester_id', as_index=False)['accept_date'].count()\n",
    "    friends_by_request.columns = ['id','request_count']\n",
    "    friends_by_acceptance = request_accepted.groupby('accepter_id', as_index=False)['accept_date'].count()\n",
    "    friends_by_acceptance.columns = ['id','acceptance_count']\n",
    "\n",
    "    friends_all = pd.merge(friends_by_request, friends_by_acceptance, how='outer', on='id')\n",
    "    friends_all.loc[ friends_all['request_count'].isna(), ['request_count'] ] = 0\n",
    "    friends_all.loc[ friends_all['acceptance_count'].isna(), ['acceptance_count'] ] = 0\n",
    "    friends_all['num'] = (friends_all['request_count'] + friends_all['acceptance_count']).astype(int)\n",
    "    return friends_all.loc[ friends_all['num']== friends_all['num'].max(), ['id','num']]"
   ]
  },
  {
   "cell_type": "code",
   "execution_count": 227,
   "metadata": {},
   "outputs": [],
   "source": [
    "# Beats 44.89%\n",
    "\n",
    "def most_friends(request_accepted: pd.DataFrame) -> pd.DataFrame:\n",
    "    df = pd.concat([request_accepted['accepter_id'], request_accepted['requester_id']]).to_frame('id')\n",
    "    df['num'] = 1\n",
    "    df = df.groupby('id', as_index=False)['num'].count()\n",
    "    return df[ df['num']==df['num'].max() ]\n"
   ]
  },
  {
   "cell_type": "code",
   "execution_count": 228,
   "metadata": {},
   "outputs": [],
   "source": [
    "data = [[1, 2, '2016/06/03'], [1, 3, '2016/06/08'], [2, 3, '2016/06/08'], [3, 4, '2016/06/09']]\n",
    "request_accepted = pd.DataFrame(data, columns=['requester_id', 'accepter_id', 'accept_date']).astype({'requester_id':'Int64', 'accepter_id':'Int64', 'accept_date':'datetime64[ns]'})"
   ]
  },
  {
   "cell_type": "code",
   "execution_count": 230,
   "metadata": {},
   "outputs": [],
   "source": [
    "request_accepted = pd.DataFrame(columns=['requester_id', 'accepter_id', 'accept_date']).astype({'requester_id':'Int64', 'accepter_id':'Int64', 'accept_date':'datetime64[ns]'})"
   ]
  },
  {
   "cell_type": "code",
   "execution_count": 231,
   "metadata": {},
   "outputs": [
    {
     "data": {
      "text/html": [
       "<div>\n",
       "<style scoped>\n",
       "    .dataframe tbody tr th:only-of-type {\n",
       "        vertical-align: middle;\n",
       "    }\n",
       "\n",
       "    .dataframe tbody tr th {\n",
       "        vertical-align: top;\n",
       "    }\n",
       "\n",
       "    .dataframe thead th {\n",
       "        text-align: right;\n",
       "    }\n",
       "</style>\n",
       "<table border=\"1\" class=\"dataframe\">\n",
       "  <thead>\n",
       "    <tr style=\"text-align: right;\">\n",
       "      <th></th>\n",
       "      <th>id</th>\n",
       "      <th>num</th>\n",
       "    </tr>\n",
       "  </thead>\n",
       "  <tbody>\n",
       "  </tbody>\n",
       "</table>\n",
       "</div>"
      ],
      "text/plain": [
       "Empty DataFrame\n",
       "Columns: [id, num]\n",
       "Index: []"
      ]
     },
     "execution_count": 231,
     "metadata": {},
     "output_type": "execute_result"
    }
   ],
   "source": [
    "most_friends(request_accepted)"
   ]
  },
  {
   "cell_type": "markdown",
   "metadata": {},
   "source": [
    "## 607. Sales Person [E]\n",
    "\n",
    "Table: SalesPerson\n",
    "```\n",
    "+-----------------+---------+\n",
    "| Column Name     | Type    |\n",
    "+-----------------+---------+\n",
    "| sales_id        | int     |\n",
    "| name            | varchar |\n",
    "| salary          | int     |\n",
    "| commission_rate | int     |\n",
    "| hire_date       | date    |\n",
    "+-----------------+---------+\n",
    "sales_id is the primary key (column with unique values) for this table.\n",
    "Each row of this table indicates the name and the ID of a salesperson alongside their salary, commission rate, and hire date.\n",
    "```\n",
    "\n",
    "Table: Company\n",
    "```\n",
    "+-------------+---------+\n",
    "| Column Name | Type    |\n",
    "+-------------+---------+\n",
    "| com_id      | int     |\n",
    "| name        | varchar |\n",
    "| city        | varchar |\n",
    "+-------------+---------+\n",
    "com_id is the primary key (column with unique values) for this table.\n",
    "Each row of this table indicates the name and the ID of a company and the city in which the company is located.\n",
    "```\n",
    "\n",
    "Table: Orders\n",
    "```\n",
    "+-------------+------+\n",
    "| Column Name | Type |\n",
    "+-------------+------+\n",
    "| order_id    | int  |\n",
    "| order_date  | date |\n",
    "| com_id      | int  |\n",
    "| sales_id    | int  |\n",
    "| amount      | int  |\n",
    "+-------------+------+\n",
    "order_id is the primary key (column with unique values) for this table.\n",
    "com_id is a foreign key (reference column) to com_id from the Company table.\n",
    "sales_id is a foreign key (reference column) to sales_id from the SalesPerson table.\n",
    "Each row of this table contains information about one order. This includes the ID of the company, the ID of the salesperson, the date of the order, and the amount paid.\n",
    "```\n",
    "\n",
    "Write a solution to find the names of all the salespersons who did not have any orders related to the company with the name \"RED\".\n",
    "\n",
    "Return the result table in any order.\n",
    "\n",
    "The result format is in the following example."
   ]
  },
  {
   "cell_type": "code",
   "execution_count": 280,
   "metadata": {},
   "outputs": [],
   "source": [
    "# Beats 98.95%\n",
    "\n",
    "def sales_person_fun(sales_person: pd.DataFrame, company: pd.DataFrame, orders: pd.DataFrame) -> pd.DataFrame:\n",
    "    com_id_red = company.loc[ company['name']=='RED', ['com_id']]\n",
    "    sales_red = orders[ orders['com_id'].isin(com_id_red['com_id']) ][['sales_id']]\n",
    "    return sales_person[ ~sales_person['sales_id'].isin(sales_red['sales_id']) ][['name']]"
   ]
  },
  {
   "cell_type": "code",
   "execution_count": 269,
   "metadata": {},
   "outputs": [],
   "source": [
    "data = [[1, 'John', 100000, 6, '4/1/2006'], [2, 'Amy', 12000, 5, '5/1/2010'], [3, 'Mark', 65000, 12, '12/25/2008'], [4, 'Pam', 25000, 25, '1/1/2005'], [5, 'Alex', 5000, 10, '2/3/2007']]\n",
    "sales_person = pd.DataFrame(data, columns=['sales_id', 'name', 'salary', 'commission_rate', 'hire_date']).astype({'sales_id':'Int64', 'name':'object', 'salary':'Int64', 'commission_rate':'Int64', 'hire_date':'datetime64[ns]'})\n",
    "data = [[1, 'RED', 'Boston'], [2, 'ORANGE', 'New York'], [3, 'YELLOW', 'Boston'], [4, 'GREEN', 'Austin']]\n",
    "company = pd.DataFrame(data, columns=['com_id', 'name', 'city']).astype({'com_id':'Int64', 'name':'object', 'city':'object'})\n",
    "data = [[1, '1/1/2014', 3, 4, 10000], [2, '2/1/2014', 4, 5, 5000], [3, '3/1/2014', 1, 1, 50000], [4, '4/1/2014', 1, 4, 25000]]\n",
    "orders = pd.DataFrame(data, columns=['order_id', 'order_date', 'com_id', 'sales_id', 'amount']).astype({'order_id':'Int64', 'order_date':'datetime64[ns]', 'com_id':'Int64', 'sales_id':'Int64', 'amount':'Int64'})"
   ]
  },
  {
   "cell_type": "code",
   "execution_count": 281,
   "metadata": {},
   "outputs": [
    {
     "data": {
      "text/html": [
       "<div>\n",
       "<style scoped>\n",
       "    .dataframe tbody tr th:only-of-type {\n",
       "        vertical-align: middle;\n",
       "    }\n",
       "\n",
       "    .dataframe tbody tr th {\n",
       "        vertical-align: top;\n",
       "    }\n",
       "\n",
       "    .dataframe thead th {\n",
       "        text-align: right;\n",
       "    }\n",
       "</style>\n",
       "<table border=\"1\" class=\"dataframe\">\n",
       "  <thead>\n",
       "    <tr style=\"text-align: right;\">\n",
       "      <th></th>\n",
       "      <th>name</th>\n",
       "    </tr>\n",
       "  </thead>\n",
       "  <tbody>\n",
       "    <tr>\n",
       "      <th>1</th>\n",
       "      <td>Amy</td>\n",
       "    </tr>\n",
       "    <tr>\n",
       "      <th>2</th>\n",
       "      <td>Mark</td>\n",
       "    </tr>\n",
       "    <tr>\n",
       "      <th>4</th>\n",
       "      <td>Alex</td>\n",
       "    </tr>\n",
       "  </tbody>\n",
       "</table>\n",
       "</div>"
      ],
      "text/plain": [
       "   name\n",
       "1   Amy\n",
       "2  Mark\n",
       "4  Alex"
      ]
     },
     "execution_count": 281,
     "metadata": {},
     "output_type": "execute_result"
    }
   ],
   "source": [
    "sales_person_fun(sales_person, company, orders)"
   ]
  },
  {
   "cell_type": "markdown",
   "metadata": {},
   "source": [
    "## 608. Tree Node [M]\n",
    "\n",
    "Table: Tree\n",
    "```\n",
    "+-------------+------+\n",
    "| Column Name | Type |\n",
    "+-------------+------+\n",
    "| id          | int  |\n",
    "| p_id        | int  |\n",
    "+-------------+------+\n",
    "id is the column with unique values for this table.\n",
    "Each row of this table contains information about the id of a node and the id of its parent node in a tree.\n",
    "The given structure is always a valid tree.\n",
    "```\n",
    "\n",
    "Each node in the tree can be one of three types:\n",
    "\n",
    "* \"Leaf\": if the node is a leaf node.\n",
    "\n",
    "* \"Root\": if the node is the root of the tree.\n",
    "\n",
    "* \"Inner\": If the node is neither a leaf node nor a root node.\n",
    "\n",
    "Write a solution to report the type of each node in the tree.\n",
    "\n",
    "Return the result table in any order.\n",
    "\n",
    "The result format is in the following example."
   ]
  },
  {
   "cell_type": "code",
   "execution_count": 319,
   "metadata": {},
   "outputs": [],
   "source": [
    "# Beats 6.00%\n",
    "\n",
    "def tree_node(tree: pd.DataFrame) -> pd.DataFrame:\n",
    "    root = tree[ tree['p_id'].isna() ][['id']]\n",
    "    leaf = tree[ ~tree['id'].isin(tree['p_id']) & (~tree['id'].isin(root['id']))  ][['id']]\n",
    "    inner = tree[ (tree['id'].isin(tree['p_id'])) & (~tree['id'].isin(root['id'])) ][['id']]\n",
    "\n",
    "    tree['type'] = ''\n",
    "    tree.loc[ tree['id'].isin(root['id']), ['type'] ] = 'Root'\n",
    "    tree.loc[ tree['id'].isin(leaf['id']), ['type'] ] = 'Leaf'\n",
    "    tree.loc[ tree['id'].isin(inner['id']), ['type'] ] = 'Inner'\n",
    "\n",
    "    return tree[['id','type']]"
   ]
  },
  {
   "cell_type": "code",
   "execution_count": 352,
   "metadata": {},
   "outputs": [],
   "source": [
    "data = [[1, None], [2, 1], [3, 1], [4, 2], [5, 2]]\n",
    "tree = pd.DataFrame(data, columns=['id', 'p_id']).astype({'id':'Int64', 'p_id':'Int64'})"
   ]
  },
  {
   "cell_type": "code",
   "execution_count": 376,
   "metadata": {},
   "outputs": [],
   "source": [
    "data = [[1, None]]\n",
    "tree = pd.DataFrame(data, columns=['id', 'p_id']).astype({'id':'Int64', 'p_id':'Int64'})"
   ]
  },
  {
   "cell_type": "code",
   "execution_count": 378,
   "metadata": {},
   "outputs": [
    {
     "data": {
      "text/html": [
       "<div>\n",
       "<style scoped>\n",
       "    .dataframe tbody tr th:only-of-type {\n",
       "        vertical-align: middle;\n",
       "    }\n",
       "\n",
       "    .dataframe tbody tr th {\n",
       "        vertical-align: top;\n",
       "    }\n",
       "\n",
       "    .dataframe thead th {\n",
       "        text-align: right;\n",
       "    }\n",
       "</style>\n",
       "<table border=\"1\" class=\"dataframe\">\n",
       "  <thead>\n",
       "    <tr style=\"text-align: right;\">\n",
       "      <th></th>\n",
       "      <th>id</th>\n",
       "      <th>type</th>\n",
       "    </tr>\n",
       "  </thead>\n",
       "  <tbody>\n",
       "    <tr>\n",
       "      <th>0</th>\n",
       "      <td>1</td>\n",
       "      <td>Leaf</td>\n",
       "    </tr>\n",
       "  </tbody>\n",
       "</table>\n",
       "</div>"
      ],
      "text/plain": [
       "   id  type\n",
       "0   1  Leaf"
      ]
     },
     "execution_count": 378,
     "metadata": {},
     "output_type": "execute_result"
    }
   ],
   "source": [
    "tree_node(tree)"
   ]
  },
  {
   "cell_type": "markdown",
   "metadata": {},
   "source": [
    "## 610. Triangle Judgement [E]\n",
    "\n",
    "Table: Triangle\n",
    "```\n",
    "+-------------+------+\n",
    "| Column Name | Type |\n",
    "+-------------+------+\n",
    "| x           | int  |\n",
    "| y           | int  |\n",
    "| z           | int  |\n",
    "+-------------+------+\n",
    "In SQL, (x, y, z) is the primary key column for this table.\n",
    "Each row of this table contains the lengths of three line segments.\n",
    "```\n",
    "\n",
    "Report for every three line segments whether they can form a triangle.\n",
    "\n",
    "Return the result table in any order.\n",
    "\n",
    "The result format is in the following example."
   ]
  },
  {
   "cell_type": "code",
   "execution_count": 409,
   "metadata": {},
   "outputs": [],
   "source": [
    "# Beats 80.46%\n",
    "\n",
    "def triangle_judgement(triangle: pd.DataFrame) -> pd.DataFrame:\n",
    "    if triangle.shape[0] < 1:\n",
    "        return pd.DataFrame(columns=['x', 'y', 'z','triangle'])\n",
    "    \n",
    "    triangle_bool = triangle.sum(axis=1) - 2*triangle.max(axis=1) > 0\n",
    "    triangle.loc[ triangle_bool == False, ['triangle'] ] = 'No'\n",
    "    triangle.loc[ triangle_bool == True, ['triangle'] ] = 'Yes'\n",
    "    return triangle"
   ]
  },
  {
   "cell_type": "code",
   "execution_count": 412,
   "metadata": {},
   "outputs": [],
   "source": [
    "data = [[13, 15, 30], [10, 20, 15]]\n",
    "triangle = pd.DataFrame(data, columns=['x', 'y', 'z']).astype({'x':'Int64', 'y':'Int64', 'z':'Int64'})"
   ]
  },
  {
   "cell_type": "code",
   "execution_count": 410,
   "metadata": {},
   "outputs": [],
   "source": [
    "triangle = pd.DataFrame(columns=['x', 'y', 'z']).astype({'x':'Int64', 'y':'Int64', 'z':'Int64'})"
   ]
  },
  {
   "cell_type": "code",
   "execution_count": 413,
   "metadata": {},
   "outputs": [
    {
     "data": {
      "text/html": [
       "<div>\n",
       "<style scoped>\n",
       "    .dataframe tbody tr th:only-of-type {\n",
       "        vertical-align: middle;\n",
       "    }\n",
       "\n",
       "    .dataframe tbody tr th {\n",
       "        vertical-align: top;\n",
       "    }\n",
       "\n",
       "    .dataframe thead th {\n",
       "        text-align: right;\n",
       "    }\n",
       "</style>\n",
       "<table border=\"1\" class=\"dataframe\">\n",
       "  <thead>\n",
       "    <tr style=\"text-align: right;\">\n",
       "      <th></th>\n",
       "      <th>x</th>\n",
       "      <th>y</th>\n",
       "      <th>z</th>\n",
       "      <th>triangle</th>\n",
       "    </tr>\n",
       "  </thead>\n",
       "  <tbody>\n",
       "    <tr>\n",
       "      <th>0</th>\n",
       "      <td>13</td>\n",
       "      <td>15</td>\n",
       "      <td>30</td>\n",
       "      <td>No</td>\n",
       "    </tr>\n",
       "    <tr>\n",
       "      <th>1</th>\n",
       "      <td>10</td>\n",
       "      <td>20</td>\n",
       "      <td>15</td>\n",
       "      <td>Yes</td>\n",
       "    </tr>\n",
       "  </tbody>\n",
       "</table>\n",
       "</div>"
      ],
      "text/plain": [
       "    x   y   z triangle\n",
       "0  13  15  30       No\n",
       "1  10  20  15      Yes"
      ]
     },
     "execution_count": 413,
     "metadata": {},
     "output_type": "execute_result"
    }
   ],
   "source": [
    "triangle_judgement(triangle)"
   ]
  },
  {
   "cell_type": "markdown",
   "metadata": {},
   "source": [
    "## 619. Biggest Single Number [E]\n",
    "\n",
    "Table: MyNumbers\n",
    "```\n",
    "+-------------+------+\n",
    "| Column Name | Type |\n",
    "+-------------+------+\n",
    "| num         | int  |\n",
    "+-------------+------+\n",
    "This table may contain duplicates (In other words, there is no primary key for this table in SQL).\n",
    "Each row of this table contains an integer.\n",
    "```\n",
    "\n",
    "A single number is a number that appeared only once in the `MyNumbers` table.\n",
    "\n",
    "Find the largest single number. If there is no single number, report `null`.\n",
    "\n",
    "The result format is in the following example."
   ]
  },
  {
   "cell_type": "code",
   "execution_count": 504,
   "metadata": {},
   "outputs": [],
   "source": [
    "# Beats 29.91%\n",
    "\n",
    "def biggest_single_number(my_numbers: pd.DataFrame) -> pd.DataFrame:\n",
    "    my_numbers_duplicated = my_numbers[ my_numbers.duplicated() ]\n",
    "    if my_numbers_duplicated.shape[0] < 1:\n",
    "        return pd.DataFrame(None, columns=['num'], index=['0'])\n",
    "    \n",
    "    my_numbers_not_dup = my_numbers[ ~my_numbers['num'].isin(my_numbers_duplicated['num']) ]\n",
    "    \n",
    "    if my_numbers_not_dup.shape[0] < 1:\n",
    "        return pd.DataFrame(None, columns=['num'], index=['0'])\n",
    "    \n",
    "    largest = my_numbers_not_dup.max()\n",
    "\n",
    "    return pd.DataFrame({'num':largest})"
   ]
  },
  {
   "cell_type": "code",
   "execution_count": 501,
   "metadata": {},
   "outputs": [],
   "source": [
    "def biggest_single_number(my_numbers: pd.DataFrame) -> pd.DataFrame:\n",
    "    return my_numbers.drop_duplicates(keep = False).max().to_frame(name = 'num')\n"
   ]
  },
  {
   "cell_type": "code",
   "execution_count": 487,
   "metadata": {},
   "outputs": [],
   "source": [
    "data = [[8], [8], [3], [3], [1], [4], [5], [6]]\n",
    "my_numbers = pd.DataFrame(data, columns=['num']).astype({'num':'Int64'})"
   ]
  },
  {
   "cell_type": "code",
   "execution_count": 499,
   "metadata": {},
   "outputs": [],
   "source": [
    "data = [[8], [8], [7], [7], [3], [3], [3]]\n",
    "my_numbers = pd.DataFrame(data, columns=['num']).astype({'num':'Int64'})"
   ]
  },
  {
   "cell_type": "code",
   "execution_count": 489,
   "metadata": {},
   "outputs": [],
   "source": [
    "my_numbers = pd.DataFrame(columns=['num']).astype({'num':'Int64'})"
   ]
  },
  {
   "cell_type": "code",
   "execution_count": 505,
   "metadata": {},
   "outputs": [
    {
     "data": {
      "text/html": [
       "<div>\n",
       "<style scoped>\n",
       "    .dataframe tbody tr th:only-of-type {\n",
       "        vertical-align: middle;\n",
       "    }\n",
       "\n",
       "    .dataframe tbody tr th {\n",
       "        vertical-align: top;\n",
       "    }\n",
       "\n",
       "    .dataframe thead th {\n",
       "        text-align: right;\n",
       "    }\n",
       "</style>\n",
       "<table border=\"1\" class=\"dataframe\">\n",
       "  <thead>\n",
       "    <tr style=\"text-align: right;\">\n",
       "      <th></th>\n",
       "      <th>num</th>\n",
       "    </tr>\n",
       "  </thead>\n",
       "  <tbody>\n",
       "    <tr>\n",
       "      <th>0</th>\n",
       "      <td>NaN</td>\n",
       "    </tr>\n",
       "  </tbody>\n",
       "</table>\n",
       "</div>"
      ],
      "text/plain": [
       "   num\n",
       "0  NaN"
      ]
     },
     "execution_count": 505,
     "metadata": {},
     "output_type": "execute_result"
    }
   ],
   "source": [
    "biggest_single_number(my_numbers)"
   ]
  },
  {
   "cell_type": "markdown",
   "metadata": {},
   "source": [
    "## 620. Not Boring Movies [E]\n",
    "\n",
    "Table: Cinema\n",
    "```\n",
    "+----------------+----------+\n",
    "| Column Name    | Type     |\n",
    "+----------------+----------+\n",
    "| id             | int      |\n",
    "| movie          | varchar  |\n",
    "| description    | varchar  |\n",
    "| rating         | float    |\n",
    "+----------------+----------+\n",
    "id is the primary key (column with unique values) for this table.\n",
    "Each row contains information about the name of a movie, its genre, and its rating.\n",
    "rating is a 2 decimal places float in the range [0, 10]\n",
    "```\n",
    "\n",
    "Write a solution to report the movies with an odd-numbered ID and a description that is not \"boring\".\n",
    "\n",
    "Return the result table ordered by rating in descending order.\n",
    "\n",
    "The result format is in the following example."
   ]
  },
  {
   "cell_type": "code",
   "execution_count": 516,
   "metadata": {},
   "outputs": [],
   "source": [
    "# Beats 74.83%\n",
    "\n",
    "def not_boring_movies(cinema: pd.DataFrame) -> pd.DataFrame:\n",
    "    return cinema[ (cinema['id'].apply(lambda x: bool(x%2))) & (cinema['description'] != 'boring' ) ].sort_values('rating', ascending=False)\n"
   ]
  },
  {
   "cell_type": "code",
   "execution_count": 512,
   "metadata": {},
   "outputs": [],
   "source": [
    "data = [[1, 'War', 'great 3D', 8.9], [2, 'Science', 'fiction', 8.5], [3, 'irish', 'boring', 6.2], [4, 'Ice song', 'Fantacy', 8.6], [5, 'House card', 'Interesting', 9.1]]\n",
    "cinema = pd.DataFrame(data, columns=['id', 'movie', 'description', 'rating']).astype({'id':'Int64', 'movie':'object', 'description':'object', 'rating':'Float64'})"
   ]
  },
  {
   "cell_type": "code",
   "execution_count": 518,
   "metadata": {},
   "outputs": [],
   "source": [
    "cinema = pd.DataFrame(columns=['id', 'movie', 'description', 'rating']).astype({'id':'Int64', 'movie':'object', 'description':'object', 'rating':'Float64'})"
   ]
  },
  {
   "cell_type": "code",
   "execution_count": 519,
   "metadata": {},
   "outputs": [
    {
     "data": {
      "text/html": [
       "<div>\n",
       "<style scoped>\n",
       "    .dataframe tbody tr th:only-of-type {\n",
       "        vertical-align: middle;\n",
       "    }\n",
       "\n",
       "    .dataframe tbody tr th {\n",
       "        vertical-align: top;\n",
       "    }\n",
       "\n",
       "    .dataframe thead th {\n",
       "        text-align: right;\n",
       "    }\n",
       "</style>\n",
       "<table border=\"1\" class=\"dataframe\">\n",
       "  <thead>\n",
       "    <tr style=\"text-align: right;\">\n",
       "      <th></th>\n",
       "      <th>id</th>\n",
       "      <th>movie</th>\n",
       "      <th>description</th>\n",
       "      <th>rating</th>\n",
       "    </tr>\n",
       "  </thead>\n",
       "  <tbody>\n",
       "  </tbody>\n",
       "</table>\n",
       "</div>"
      ],
      "text/plain": [
       "Empty DataFrame\n",
       "Columns: [id, movie, description, rating]\n",
       "Index: []"
      ]
     },
     "execution_count": 519,
     "metadata": {},
     "output_type": "execute_result"
    }
   ],
   "source": [
    "not_boring_movies(cinema)"
   ]
  }
 ],
 "metadata": {
  "language_info": {
   "name": "python"
  }
 },
 "nbformat": 4,
 "nbformat_minor": 2
}
