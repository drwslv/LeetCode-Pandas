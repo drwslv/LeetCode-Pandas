{
 "cells": [
  {
   "cell_type": "code",
   "execution_count": 1,
   "metadata": {},
   "outputs": [],
   "source": [
    "from typing import List\n",
    "from typing import Optional"
   ]
  },
  {
   "cell_type": "markdown",
   "metadata": {},
   "source": [
    "## 2416. Sum of Prefix Scores of Strings\n",
    "\n",
    "You are given an array `words` of size `n` consisting of non-empty strings.\n",
    "\n",
    "We define the score of a string `term` as the number of strings `words[i]` such that `term` is a prefix of `words[i]`.\n",
    "\n",
    "* For example, if `words = [\"a\", \"ab\", \"abc\", \"cab\"]`, then the score of `\"ab\"` is `2`, since `\"ab\"` is a prefix of both `\"ab\"` and `\"abc\"`.\n",
    "\n",
    "Return an array answer of size `n` where `answer[i]` is the sum of scores of every non-empty prefix of `words[i]`.\n",
    "\n",
    "Note that a string is considered as a prefix of itself."
   ]
  },
  {
   "cell_type": "code",
   "execution_count": 28,
   "metadata": {},
   "outputs": [],
   "source": [
    "# Time limit exceeded (but functional)\n",
    "\n",
    "class Solution(object):\n",
    "    def sumPrefixScores(self, words):\n",
    "        \"\"\"\n",
    "        :type words: List[str]\n",
    "        :rtype: List[int]\n",
    "        \"\"\"\n",
    "\n",
    "        scores = [''] * len(words)\n",
    "        for i in range(0,len(words)):\n",
    "            # For each word i, make a list of prefixes\n",
    "            prefixes = [] # optional\n",
    "            score = 0\n",
    "\n",
    "            for j in range(0,len(words[i])):\n",
    "                prefix = words[i][0:j+1]\n",
    "                prefixes.append(prefix)\n",
    "\n",
    "                # Compare for each word in words\n",
    "                for k in range(0,len(words)):\n",
    "                    # len of prefix is j+1\n",
    "                    if prefix == words[k][0:j+1]:\n",
    "                        score += 1\n",
    "\n",
    "            scores[i] = score\n",
    "\n",
    "        return scores\n"
   ]
  },
  {
   "cell_type": "code",
   "execution_count": 29,
   "metadata": {},
   "outputs": [
    {
     "data": {
      "text/plain": [
       "[5, 4, 3, 2]"
      ]
     },
     "execution_count": 29,
     "metadata": {},
     "output_type": "execute_result"
    }
   ],
   "source": [
    "sol = Solution()\n",
    "sol.sumPrefixScores([\"abc\",\"ab\",\"bc\",\"b\"])"
   ]
  },
  {
   "cell_type": "code",
   "execution_count": 30,
   "metadata": {},
   "outputs": [
    {
     "data": {
      "text/plain": [
       "[4]"
      ]
     },
     "execution_count": 30,
     "metadata": {},
     "output_type": "execute_result"
    }
   ],
   "source": [
    "sol = Solution()\n",
    "sol.sumPrefixScores([\"abcd\"])"
   ]
  }
 ],
 "metadata": {
  "language_info": {
   "name": "python"
  }
 },
 "nbformat": 4,
 "nbformat_minor": 2
}
